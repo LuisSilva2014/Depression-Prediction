{
 "cells": [
  {
   "cell_type": "markdown",
   "metadata": {},
   "source": [
    "# Deploying the depression RNN in SageMaker"
   ]
  },
  {
   "cell_type": "markdown",
   "metadata": {},
   "source": [
    "## Imports"
   ]
  },
  {
   "cell_type": "code",
   "execution_count": 1,
   "metadata": {},
   "outputs": [
    {
     "name": "stdout",
     "output_type": "stream",
     "text": [
      "Done\n"
     ]
    }
   ],
   "source": [
    "import tensorflow as tf\n",
    "import pandas as pd\n",
    "import sagemaker\n",
    "import os\n",
    "from sagemaker.tensorflow import TensorFlow\n",
    "import time\n",
    "from tensorflow.keras.preprocessing.text import Tokenizer\n",
    "from tensorflow.keras.preprocessing.sequence import pad_sequences\n",
    "print('Done')"
   ]
  },
  {
   "cell_type": "markdown",
   "metadata": {},
   "source": [
    "## Data import"
   ]
  },
  {
   "cell_type": "code",
   "execution_count": 2,
   "metadata": {},
   "outputs": [],
   "source": [
    "train = pd.read_csv('train.csv', sep=',',header=None)\n",
    "test = pd.read_csv('test.csv', sep=',',header=None)"
   ]
  },
  {
   "cell_type": "markdown",
   "metadata": {},
   "source": [
    "## Creating a session object and uploading data to S3"
   ]
  },
  {
   "cell_type": "code",
   "execution_count": 3,
   "metadata": {},
   "outputs": [],
   "source": [
    "sage_maker_session = sagemaker.Session()"
   ]
  },
  {
   "cell_type": "code",
   "execution_count": 4,
   "metadata": {},
   "outputs": [],
   "source": [
    "#This returns the complete s3 path of the data file.\n",
    "prefix = 'tensorflow-depression-predictions' #The name of the S3 bucket previously created\n",
    "training_input_path = sage_maker_session.upload_data('train.csv', key_prefix=prefix+'/training')\n",
    "testing_input_path = sage_maker_session.upload_data('test.csv', key_prefix=prefix+'/testing')"
   ]
  },
  {
   "cell_type": "code",
   "execution_count": 5,
   "metadata": {},
   "outputs": [
    {
     "data": {
      "text/plain": [
       "'s3://sagemaker-us-east-1-274416698914/tensorflow-depression-predictions/training/train.csv'"
      ]
     },
     "execution_count": 5,
     "metadata": {},
     "output_type": "execute_result"
    }
   ],
   "source": [
    "training_input_path"
   ]
  },
  {
   "cell_type": "code",
   "execution_count": 6,
   "metadata": {},
   "outputs": [
    {
     "data": {
      "text/plain": [
       "'s3://sagemaker-us-east-1-274416698914/tensorflow-depression-predictions/testing/test.csv'"
      ]
     },
     "execution_count": 6,
     "metadata": {},
     "output_type": "execute_result"
    }
   ],
   "source": [
    "testing_input_path"
   ]
  },
  {
   "cell_type": "markdown",
   "metadata": {},
   "source": [
    "## Exploring the data coming from S3 to double check everything went OK"
   ]
  },
  {
   "cell_type": "code",
   "execution_count": 7,
   "metadata": {},
   "outputs": [],
   "source": [
    "#Reading the csv file from S3\n",
    "training_data = pd.read_csv(training_input_path, sep=',',header=None)\n",
    "testing_data = pd.read_csv(testing_input_path, sep=',',header=None)"
   ]
  },
  {
   "cell_type": "code",
   "execution_count": 8,
   "metadata": {},
   "outputs": [
    {
     "data": {
      "text/html": [
       "<div>\n",
       "<style scoped>\n",
       "    .dataframe tbody tr th:only-of-type {\n",
       "        vertical-align: middle;\n",
       "    }\n",
       "\n",
       "    .dataframe tbody tr th {\n",
       "        vertical-align: top;\n",
       "    }\n",
       "\n",
       "    .dataframe thead th {\n",
       "        text-align: right;\n",
       "    }\n",
       "</style>\n",
       "<table border=\"1\" class=\"dataframe\">\n",
       "  <thead>\n",
       "    <tr style=\"text-align: right;\">\n",
       "      <th></th>\n",
       "      <th>0</th>\n",
       "      <th>1</th>\n",
       "    </tr>\n",
       "  </thead>\n",
       "  <tbody>\n",
       "    <tr>\n",
       "      <th>0</th>\n",
       "      <td>i have bipolar one borderline personality diso...</td>\n",
       "      <td>0</td>\n",
       "    </tr>\n",
       "    <tr>\n",
       "      <th>1</th>\n",
       "      <td>much the same as that plus fear and desperation</td>\n",
       "      <td>0</td>\n",
       "    </tr>\n",
       "    <tr>\n",
       "      <th>2</th>\n",
       "      <td>its very common to struggle with work im not a...</td>\n",
       "      <td>0</td>\n",
       "    </tr>\n",
       "    <tr>\n",
       "      <th>3</th>\n",
       "      <td>it could but the horror of it all is that you ...</td>\n",
       "      <td>0</td>\n",
       "    </tr>\n",
       "    <tr>\n",
       "      <th>4</th>\n",
       "      <td>dont feel shame that only allows the illness t...</td>\n",
       "      <td>0</td>\n",
       "    </tr>\n",
       "  </tbody>\n",
       "</table>\n",
       "</div>"
      ],
      "text/plain": [
       "                                                   0  1\n",
       "0  i have bipolar one borderline personality diso...  0\n",
       "1    much the same as that plus fear and desperation  0\n",
       "2  its very common to struggle with work im not a...  0\n",
       "3  it could but the horror of it all is that you ...  0\n",
       "4  dont feel shame that only allows the illness t...  0"
      ]
     },
     "execution_count": 8,
     "metadata": {},
     "output_type": "execute_result"
    }
   ],
   "source": [
    "training_data.head()"
   ]
  },
  {
   "cell_type": "code",
   "execution_count": 9,
   "metadata": {},
   "outputs": [],
   "source": [
    "#training_data[0].values"
   ]
  },
  {
   "cell_type": "code",
   "execution_count": 10,
   "metadata": {},
   "outputs": [
    {
     "data": {
      "text/html": [
       "<div>\n",
       "<style scoped>\n",
       "    .dataframe tbody tr th:only-of-type {\n",
       "        vertical-align: middle;\n",
       "    }\n",
       "\n",
       "    .dataframe tbody tr th {\n",
       "        vertical-align: top;\n",
       "    }\n",
       "\n",
       "    .dataframe thead th {\n",
       "        text-align: right;\n",
       "    }\n",
       "</style>\n",
       "<table border=\"1\" class=\"dataframe\">\n",
       "  <thead>\n",
       "    <tr style=\"text-align: right;\">\n",
       "      <th></th>\n",
       "      <th>0</th>\n",
       "      <th>1</th>\n",
       "    </tr>\n",
       "  </thead>\n",
       "  <tbody>\n",
       "    <tr>\n",
       "      <th>0</th>\n",
       "      <td>my kids have one and they love itive tried it ...</td>\n",
       "      <td>1</td>\n",
       "    </tr>\n",
       "    <tr>\n",
       "      <th>1</th>\n",
       "      <td>also seroquel relaxes me when i have anxiety a...</td>\n",
       "      <td>1</td>\n",
       "    </tr>\n",
       "    <tr>\n",
       "      <th>2</th>\n",
       "      <td>hi i suffer from chronic anxiety disorder and ...</td>\n",
       "      <td>0</td>\n",
       "    </tr>\n",
       "    <tr>\n",
       "      <th>3</th>\n",
       "      <td>well im in the fight formylife buti struggle w...</td>\n",
       "      <td>0</td>\n",
       "    </tr>\n",
       "    <tr>\n",
       "      <th>4</th>\n",
       "      <td>my doctor switched me to brintellix once and g...</td>\n",
       "      <td>0</td>\n",
       "    </tr>\n",
       "  </tbody>\n",
       "</table>\n",
       "</div>"
      ],
      "text/plain": [
       "                                                   0  1\n",
       "0  my kids have one and they love itive tried it ...  1\n",
       "1  also seroquel relaxes me when i have anxiety a...  1\n",
       "2  hi i suffer from chronic anxiety disorder and ...  0\n",
       "3  well im in the fight formylife buti struggle w...  0\n",
       "4  my doctor switched me to brintellix once and g...  0"
      ]
     },
     "execution_count": 10,
     "metadata": {},
     "output_type": "execute_result"
    }
   ],
   "source": [
    "testing_data.head()"
   ]
  },
  {
   "cell_type": "code",
   "execution_count": 11,
   "metadata": {},
   "outputs": [],
   "source": [
    "#testing_data[0].values"
   ]
  },
  {
   "cell_type": "code",
   "execution_count": 12,
   "metadata": {},
   "outputs": [
    {
     "data": {
      "text/html": [
       "<div>\n",
       "<style scoped>\n",
       "    .dataframe tbody tr th:only-of-type {\n",
       "        vertical-align: middle;\n",
       "    }\n",
       "\n",
       "    .dataframe tbody tr th {\n",
       "        vertical-align: top;\n",
       "    }\n",
       "\n",
       "    .dataframe thead th {\n",
       "        text-align: right;\n",
       "    }\n",
       "</style>\n",
       "<table border=\"1\" class=\"dataframe\">\n",
       "  <thead>\n",
       "    <tr style=\"text-align: right;\">\n",
       "      <th></th>\n",
       "      <th>0</th>\n",
       "      <th>1</th>\n",
       "    </tr>\n",
       "  </thead>\n",
       "  <tbody>\n",
       "    <tr>\n",
       "      <th>0</th>\n",
       "      <td>i have bipolar one borderline personality diso...</td>\n",
       "      <td>0</td>\n",
       "    </tr>\n",
       "    <tr>\n",
       "      <th>1</th>\n",
       "      <td>much the same as that plus fear and desperation</td>\n",
       "      <td>0</td>\n",
       "    </tr>\n",
       "    <tr>\n",
       "      <th>2</th>\n",
       "      <td>its very common to struggle with work im not a...</td>\n",
       "      <td>0</td>\n",
       "    </tr>\n",
       "    <tr>\n",
       "      <th>3</th>\n",
       "      <td>it could but the horror of it all is that you ...</td>\n",
       "      <td>0</td>\n",
       "    </tr>\n",
       "    <tr>\n",
       "      <th>4</th>\n",
       "      <td>dont feel shame that only allows the illness t...</td>\n",
       "      <td>0</td>\n",
       "    </tr>\n",
       "    <tr>\n",
       "      <th>...</th>\n",
       "      <td>...</td>\n",
       "      <td>...</td>\n",
       "    </tr>\n",
       "    <tr>\n",
       "      <th>7140</th>\n",
       "      <td>when things get bad i write every thought down...</td>\n",
       "      <td>0</td>\n",
       "    </tr>\n",
       "    <tr>\n",
       "      <th>7141</th>\n",
       "      <td>dont give us a placebo give us a fucking curei...</td>\n",
       "      <td>1</td>\n",
       "    </tr>\n",
       "    <tr>\n",
       "      <th>7142</th>\n",
       "      <td>its a great medication here and there side eff...</td>\n",
       "      <td>1</td>\n",
       "    </tr>\n",
       "    <tr>\n",
       "      <th>7143</th>\n",
       "      <td>last time i had a massive panic attack there w...</td>\n",
       "      <td>0</td>\n",
       "    </tr>\n",
       "    <tr>\n",
       "      <th>7144</th>\n",
       "      <td>doesnt sound like its worth sticking around yo...</td>\n",
       "      <td>0</td>\n",
       "    </tr>\n",
       "  </tbody>\n",
       "</table>\n",
       "<p>7145 rows × 2 columns</p>\n",
       "</div>"
      ],
      "text/plain": [
       "                                                      0  1\n",
       "0     i have bipolar one borderline personality diso...  0\n",
       "1       much the same as that plus fear and desperation  0\n",
       "2     its very common to struggle with work im not a...  0\n",
       "3     it could but the horror of it all is that you ...  0\n",
       "4     dont feel shame that only allows the illness t...  0\n",
       "...                                                 ... ..\n",
       "7140  when things get bad i write every thought down...  0\n",
       "7141  dont give us a placebo give us a fucking curei...  1\n",
       "7142  its a great medication here and there side eff...  1\n",
       "7143  last time i had a massive panic attack there w...  0\n",
       "7144  doesnt sound like its worth sticking around yo...  0\n",
       "\n",
       "[7145 rows x 2 columns]"
      ]
     },
     "execution_count": 12,
     "metadata": {},
     "output_type": "execute_result"
    }
   ],
   "source": [
    "#We're gonna concat the data because we need to train the vectorizer\n",
    "data = pd.concat([training_data,testing_data], ignore_index=True)\n",
    "data"
   ]
  },
  {
   "cell_type": "markdown",
   "metadata": {},
   "source": [
    "## Building the train.py file and saving it into the JupyterLab home dir"
   ]
  },
  {
   "cell_type": "code",
   "execution_count": 22,
   "metadata": {},
   "outputs": [
    {
     "name": "stdout",
     "output_type": "stream",
     "text": [
      "Overwriting train.py\n"
     ]
    }
   ],
   "source": [
    "%%writefile train.py\n",
    "import argparse\n",
    "import os\n",
    "import tensorflow as tf\n",
    "from tensorflow.keras.models import Sequential\n",
    "from tensorflow.keras import layers\n",
    "from tensorflow.keras.optimizers import RMSprop\n",
    "from tensorflow.keras import regularizers\n",
    "from tensorflow.keras.preprocessing.text import Tokenizer\n",
    "from tensorflow.keras.preprocessing.sequence import pad_sequences\n",
    "import pandas as pd\n",
    "import numpy as np\n",
    "from sklearn.model_selection import train_test_split\n",
    "\n",
    "if __name__ == '__main__':\n",
    "\n",
    "    parser = argparse.ArgumentParser()\n",
    "\n",
    "    # hyperparameters sent by the client are passed as command-line arguments to the script.\n",
    "    parser.add_argument('--epochs', type=int, default=7)\n",
    "    parser.add_argument('--max_words', type=int, default=20000)\n",
    "    parser.add_argument('--max_len', type=int, default=400)\n",
    "    parser.add_argument('--gpu_count', type=int, default=os.environ['SM_NUM_GPUS'])\n",
    "\n",
    "    # input data and model directories\n",
    "    parser.add_argument('--model_dir', type=str, default=os.environ['SM_MODEL_DIR'])\n",
    "    parser.add_argument('--train', type=str, default=os.environ['SM_CHANNEL_TRAIN'])\n",
    "    parser.add_argument('--test', type=str, default=os.environ['SM_CHANNEL_TEST'])\n",
    "\n",
    "    args, _ = parser.parse_known_args()\n",
    "    \n",
    "    epochs     = args.epochs\n",
    "    max_words  = args.max_words\n",
    "    max_len    = args.max_len\n",
    "    gpu_count  = args.gpu_count\n",
    "    model_dir  = args.model_dir\n",
    "    training_dir   = args.train\n",
    "    testing_dir   = args.test\n",
    "    \n",
    "    training_data = pd.read_csv(training_dir+'/train.csv',sep=',',header=None)\n",
    "    testing_data = pd.read_csv(testing_dir+'/test.csv',sep=',',header=None)\n",
    "    \n",
    "    data = pd.concat([training_data,testing_data], ignore_index=True)\n",
    "    features = data[0].values\n",
    "    labels = data[1].values\n",
    "    \n",
    "    tokenizer = Tokenizer(num_words=max_words)\n",
    "    tokenizer.fit_on_texts(features)\n",
    "    sequences = tokenizer.texts_to_sequences(features)\n",
    "    features = pad_sequences(sequences, maxlen=max_len)\n",
    "\n",
    "    vocab_size = len(tokenizer.word_index) \n",
    "    \n",
    "    #Splitting the data again, because we needed to concat it before to train the tokenizer\n",
    "    X_train, X_test, y_train, y_test = train_test_split(features,labels, random_state=0)\n",
    "\n",
    "    # Building the model\n",
    "    model = Sequential()\n",
    "    model.add(layers.Embedding(max_words, 40))\n",
    "    model.add(layers.LSTM(40,dropout=0.5))\n",
    "    model.add(layers.Dense(1,activation='sigmoid'))\n",
    "    model.compile(optimizer='rmsprop',loss='binary_crossentropy', metrics=['accuracy'])\n",
    "    \n",
    "    model.fit(X_train, y_train, epochs=epochs, validation_data=(X_test, y_test), verbose=2)\n",
    "    test_loss, test_acc = model.evaluate(X_test, y_test, verbose=2)\n",
    "    print('Model accuracy: ',test_acc)\n",
    "    \n",
    "    model_path = '{}/{}/00000001'.format(model_dir, 'depression_classifier')\n",
    "    tf.saved_model.save(model, model_path)"
   ]
  },
  {
   "cell_type": "code",
   "execution_count": 23,
   "metadata": {},
   "outputs": [
    {
     "data": {
      "text/plain": [
       "'2.1.0'"
      ]
     },
     "execution_count": 23,
     "metadata": {},
     "output_type": "execute_result"
    }
   ],
   "source": [
    "tf_version = tf.__version__\n",
    "tf_version"
   ]
  },
  {
   "cell_type": "markdown",
   "metadata": {},
   "source": [
    "## Creating a training job on SageMaker"
   ]
  },
  {
   "cell_type": "code",
   "execution_count": 24,
   "metadata": {},
   "outputs": [],
   "source": [
    "role = sagemaker.get_execution_role()"
   ]
  },
  {
   "cell_type": "code",
   "execution_count": 25,
   "metadata": {},
   "outputs": [],
   "source": [
    "#model_dir = '/opt/ml/model'\n",
    "tf_estimator = TensorFlow(entry_point='train.py', \n",
    "                          role=role,\n",
    "                          #model_dir=model_dir,\n",
    "                          train_instance_count=1, \n",
    "                          train_instance_type='local',\n",
    "                          framework_version=tf_version, \n",
    "                          py_version='py3',\n",
    "                          script_mode=True,\n",
    "                          hyperparameters={\n",
    "                              'epochs': 7,\n",
    "                          }\n",
    "                         )\n",
    "# IMPORTANT: Only use *ml.p2.xlarge* instance type because it's the one that the limit has been increased."
   ]
  },
  {
   "cell_type": "code",
   "execution_count": 26,
   "metadata": {},
   "outputs": [
    {
     "data": {
      "text/plain": [
       "'s3://sagemaker-us-east-1-274416698914/tensorflow-depression-predictions/training/train.csv'"
      ]
     },
     "execution_count": 26,
     "metadata": {},
     "output_type": "execute_result"
    }
   ],
   "source": [
    "training_input_path"
   ]
  },
  {
   "cell_type": "code",
   "execution_count": 27,
   "metadata": {},
   "outputs": [
    {
     "data": {
      "text/plain": [
       "'s3://sagemaker-us-east-1-274416698914/tensorflow-depression-predictions/testing/test.csv'"
      ]
     },
     "execution_count": 27,
     "metadata": {},
     "output_type": "execute_result"
    }
   ],
   "source": [
    "testing_input_path"
   ]
  },
  {
   "cell_type": "code",
   "execution_count": 28,
   "metadata": {},
   "outputs": [
    {
     "name": "stderr",
     "output_type": "stream",
     "text": [
      "'create_image_uri' will be deprecated in favor of 'ImageURIProvider' class in SageMaker Python SDK v2.\n",
      "'s3_input' class will be renamed to 'TrainingInput' in SageMaker Python SDK v2.\n",
      "'s3_input' class will be renamed to 'TrainingInput' in SageMaker Python SDK v2.\n",
      "'create_image_uri' will be deprecated in favor of 'ImageURIProvider' class in SageMaker Python SDK v2.\n"
     ]
    },
    {
     "name": "stdout",
     "output_type": "stream",
     "text": [
      "Creating tmpyvmwm5w0_algo-1-yuu5h_1 ... \n",
      "\u001b[1BAttaching to tmpyvmwm5w0_algo-1-yuu5h_12mdone\u001b[0m\n",
      "\u001b[36malgo-1-yuu5h_1  |\u001b[0m 2020-09-15 20:36:48,790 sagemaker-containers INFO     Imported framework sagemaker_tensorflow_container.training\n",
      "\u001b[36malgo-1-yuu5h_1  |\u001b[0m 2020-09-15 20:36:48,797 sagemaker-containers INFO     No GPUs detected (normal if no gpus installed)\n",
      "\u001b[36malgo-1-yuu5h_1  |\u001b[0m 2020-09-15 20:36:49,996 sagemaker-containers INFO     No GPUs detected (normal if no gpus installed)\n",
      "\u001b[36malgo-1-yuu5h_1  |\u001b[0m 2020-09-15 20:36:50,016 sagemaker-containers INFO     No GPUs detected (normal if no gpus installed)\n",
      "\u001b[36malgo-1-yuu5h_1  |\u001b[0m 2020-09-15 20:36:50,035 sagemaker-containers INFO     No GPUs detected (normal if no gpus installed)\n",
      "\u001b[36malgo-1-yuu5h_1  |\u001b[0m 2020-09-15 20:36:50,048 sagemaker-containers INFO     Invoking user script\n",
      "\u001b[36malgo-1-yuu5h_1  |\u001b[0m \n",
      "\u001b[36malgo-1-yuu5h_1  |\u001b[0m Training Env:\n",
      "\u001b[36malgo-1-yuu5h_1  |\u001b[0m \n",
      "\u001b[36malgo-1-yuu5h_1  |\u001b[0m {\n",
      "\u001b[36malgo-1-yuu5h_1  |\u001b[0m     \"additional_framework_parameters\": {},\n",
      "\u001b[36malgo-1-yuu5h_1  |\u001b[0m     \"channel_input_dirs\": {\n",
      "\u001b[36malgo-1-yuu5h_1  |\u001b[0m         \"train\": \"/opt/ml/input/data/train\",\n",
      "\u001b[36malgo-1-yuu5h_1  |\u001b[0m         \"test\": \"/opt/ml/input/data/test\"\n",
      "\u001b[36malgo-1-yuu5h_1  |\u001b[0m     },\n",
      "\u001b[36malgo-1-yuu5h_1  |\u001b[0m     \"current_host\": \"algo-1-yuu5h\",\n",
      "\u001b[36malgo-1-yuu5h_1  |\u001b[0m     \"framework_module\": \"sagemaker_tensorflow_container.training:main\",\n",
      "\u001b[36malgo-1-yuu5h_1  |\u001b[0m     \"hosts\": [\n",
      "\u001b[36malgo-1-yuu5h_1  |\u001b[0m         \"algo-1-yuu5h\"\n",
      "\u001b[36malgo-1-yuu5h_1  |\u001b[0m     ],\n",
      "\u001b[36malgo-1-yuu5h_1  |\u001b[0m     \"hyperparameters\": {\n",
      "\u001b[36malgo-1-yuu5h_1  |\u001b[0m         \"epochs\": 7,\n",
      "\u001b[36malgo-1-yuu5h_1  |\u001b[0m         \"model_dir\": \"/opt/ml/model\"\n",
      "\u001b[36malgo-1-yuu5h_1  |\u001b[0m     },\n",
      "\u001b[36malgo-1-yuu5h_1  |\u001b[0m     \"input_config_dir\": \"/opt/ml/input/config\",\n",
      "\u001b[36malgo-1-yuu5h_1  |\u001b[0m     \"input_data_config\": {\n",
      "\u001b[36malgo-1-yuu5h_1  |\u001b[0m         \"train\": {\n",
      "\u001b[36malgo-1-yuu5h_1  |\u001b[0m             \"TrainingInputMode\": \"File\"\n",
      "\u001b[36malgo-1-yuu5h_1  |\u001b[0m         },\n",
      "\u001b[36malgo-1-yuu5h_1  |\u001b[0m         \"test\": {\n",
      "\u001b[36malgo-1-yuu5h_1  |\u001b[0m             \"TrainingInputMode\": \"File\"\n",
      "\u001b[36malgo-1-yuu5h_1  |\u001b[0m         }\n",
      "\u001b[36malgo-1-yuu5h_1  |\u001b[0m     },\n",
      "\u001b[36malgo-1-yuu5h_1  |\u001b[0m     \"input_dir\": \"/opt/ml/input\",\n",
      "\u001b[36malgo-1-yuu5h_1  |\u001b[0m     \"is_master\": true,\n",
      "\u001b[36malgo-1-yuu5h_1  |\u001b[0m     \"job_name\": \"tensorflow-training-2020-09-15-20-36-38-490\",\n",
      "\u001b[36malgo-1-yuu5h_1  |\u001b[0m     \"log_level\": 20,\n",
      "\u001b[36malgo-1-yuu5h_1  |\u001b[0m     \"master_hostname\": \"algo-1-yuu5h\",\n",
      "\u001b[36malgo-1-yuu5h_1  |\u001b[0m     \"model_dir\": \"/opt/ml/model\",\n",
      "\u001b[36malgo-1-yuu5h_1  |\u001b[0m     \"module_dir\": \"s3://sagemaker-us-east-1-274416698914/tensorflow-training-2020-09-15-20-36-38-490/source/sourcedir.tar.gz\",\n",
      "\u001b[36malgo-1-yuu5h_1  |\u001b[0m     \"module_name\": \"train\",\n",
      "\u001b[36malgo-1-yuu5h_1  |\u001b[0m     \"network_interface_name\": \"eth0\",\n",
      "\u001b[36malgo-1-yuu5h_1  |\u001b[0m     \"num_cpus\": 2,\n",
      "\u001b[36malgo-1-yuu5h_1  |\u001b[0m     \"num_gpus\": 0,\n",
      "\u001b[36malgo-1-yuu5h_1  |\u001b[0m     \"output_data_dir\": \"/opt/ml/output/data\",\n",
      "\u001b[36malgo-1-yuu5h_1  |\u001b[0m     \"output_dir\": \"/opt/ml/output\",\n",
      "\u001b[36malgo-1-yuu5h_1  |\u001b[0m     \"output_intermediate_dir\": \"/opt/ml/output/intermediate\",\n",
      "\u001b[36malgo-1-yuu5h_1  |\u001b[0m     \"resource_config\": {\n",
      "\u001b[36malgo-1-yuu5h_1  |\u001b[0m         \"current_host\": \"algo-1-yuu5h\",\n",
      "\u001b[36malgo-1-yuu5h_1  |\u001b[0m         \"hosts\": [\n",
      "\u001b[36malgo-1-yuu5h_1  |\u001b[0m             \"algo-1-yuu5h\"\n",
      "\u001b[36malgo-1-yuu5h_1  |\u001b[0m         ]\n",
      "\u001b[36malgo-1-yuu5h_1  |\u001b[0m     },\n",
      "\u001b[36malgo-1-yuu5h_1  |\u001b[0m     \"user_entry_point\": \"train.py\"\n",
      "\u001b[36malgo-1-yuu5h_1  |\u001b[0m }\n",
      "\u001b[36malgo-1-yuu5h_1  |\u001b[0m \n",
      "\u001b[36malgo-1-yuu5h_1  |\u001b[0m Environment variables:\n",
      "\u001b[36malgo-1-yuu5h_1  |\u001b[0m \n",
      "\u001b[36malgo-1-yuu5h_1  |\u001b[0m SM_HOSTS=[\"algo-1-yuu5h\"]\n",
      "\u001b[36malgo-1-yuu5h_1  |\u001b[0m SM_NETWORK_INTERFACE_NAME=eth0\n",
      "\u001b[36malgo-1-yuu5h_1  |\u001b[0m SM_HPS={\"epochs\":7,\"model_dir\":\"/opt/ml/model\"}\n",
      "\u001b[36malgo-1-yuu5h_1  |\u001b[0m SM_USER_ENTRY_POINT=train.py\n",
      "\u001b[36malgo-1-yuu5h_1  |\u001b[0m SM_FRAMEWORK_PARAMS={}\n",
      "\u001b[36malgo-1-yuu5h_1  |\u001b[0m SM_RESOURCE_CONFIG={\"current_host\":\"algo-1-yuu5h\",\"hosts\":[\"algo-1-yuu5h\"]}\n",
      "\u001b[36malgo-1-yuu5h_1  |\u001b[0m SM_INPUT_DATA_CONFIG={\"test\":{\"TrainingInputMode\":\"File\"},\"train\":{\"TrainingInputMode\":\"File\"}}\n",
      "\u001b[36malgo-1-yuu5h_1  |\u001b[0m SM_OUTPUT_DATA_DIR=/opt/ml/output/data\n",
      "\u001b[36malgo-1-yuu5h_1  |\u001b[0m SM_CHANNELS=[\"test\",\"train\"]\n",
      "\u001b[36malgo-1-yuu5h_1  |\u001b[0m SM_CURRENT_HOST=algo-1-yuu5h\n",
      "\u001b[36malgo-1-yuu5h_1  |\u001b[0m SM_MODULE_NAME=train\n",
      "\u001b[36malgo-1-yuu5h_1  |\u001b[0m SM_LOG_LEVEL=20\n",
      "\u001b[36malgo-1-yuu5h_1  |\u001b[0m SM_FRAMEWORK_MODULE=sagemaker_tensorflow_container.training:main\n",
      "\u001b[36malgo-1-yuu5h_1  |\u001b[0m SM_INPUT_DIR=/opt/ml/input\n",
      "\u001b[36malgo-1-yuu5h_1  |\u001b[0m SM_INPUT_CONFIG_DIR=/opt/ml/input/config\n",
      "\u001b[36malgo-1-yuu5h_1  |\u001b[0m SM_OUTPUT_DIR=/opt/ml/output\n",
      "\u001b[36malgo-1-yuu5h_1  |\u001b[0m SM_NUM_CPUS=2\n",
      "\u001b[36malgo-1-yuu5h_1  |\u001b[0m SM_NUM_GPUS=0\n",
      "\u001b[36malgo-1-yuu5h_1  |\u001b[0m SM_MODEL_DIR=/opt/ml/model\n",
      "\u001b[36malgo-1-yuu5h_1  |\u001b[0m SM_MODULE_DIR=s3://sagemaker-us-east-1-274416698914/tensorflow-training-2020-09-15-20-36-38-490/source/sourcedir.tar.gz\n",
      "\u001b[36malgo-1-yuu5h_1  |\u001b[0m SM_TRAINING_ENV={\"additional_framework_parameters\":{},\"channel_input_dirs\":{\"test\":\"/opt/ml/input/data/test\",\"train\":\"/opt/ml/input/data/train\"},\"current_host\":\"algo-1-yuu5h\",\"framework_module\":\"sagemaker_tensorflow_container.training:main\",\"hosts\":[\"algo-1-yuu5h\"],\"hyperparameters\":{\"epochs\":7,\"model_dir\":\"/opt/ml/model\"},\"input_config_dir\":\"/opt/ml/input/config\",\"input_data_config\":{\"test\":{\"TrainingInputMode\":\"File\"},\"train\":{\"TrainingInputMode\":\"File\"}},\"input_dir\":\"/opt/ml/input\",\"is_master\":true,\"job_name\":\"tensorflow-training-2020-09-15-20-36-38-490\",\"log_level\":20,\"master_hostname\":\"algo-1-yuu5h\",\"model_dir\":\"/opt/ml/model\",\"module_dir\":\"s3://sagemaker-us-east-1-274416698914/tensorflow-training-2020-09-15-20-36-38-490/source/sourcedir.tar.gz\",\"module_name\":\"train\",\"network_interface_name\":\"eth0\",\"num_cpus\":2,\"num_gpus\":0,\"output_data_dir\":\"/opt/ml/output/data\",\"output_dir\":\"/opt/ml/output\",\"output_intermediate_dir\":\"/opt/ml/output/intermediate\",\"resource_config\":{\"current_host\":\"algo-1-yuu5h\",\"hosts\":[\"algo-1-yuu5h\"]},\"user_entry_point\":\"train.py\"}\n",
      "\u001b[36malgo-1-yuu5h_1  |\u001b[0m SM_USER_ARGS=[\"--epochs\",\"7\",\"--model_dir\",\"/opt/ml/model\"]\n",
      "\u001b[36malgo-1-yuu5h_1  |\u001b[0m SM_OUTPUT_INTERMEDIATE_DIR=/opt/ml/output/intermediate\n",
      "\u001b[36malgo-1-yuu5h_1  |\u001b[0m SM_CHANNEL_TRAIN=/opt/ml/input/data/train\n",
      "\u001b[36malgo-1-yuu5h_1  |\u001b[0m SM_CHANNEL_TEST=/opt/ml/input/data/test\n",
      "\u001b[36malgo-1-yuu5h_1  |\u001b[0m SM_HP_EPOCHS=7\n",
      "\u001b[36malgo-1-yuu5h_1  |\u001b[0m SM_HP_MODEL_DIR=/opt/ml/model\n",
      "\u001b[36malgo-1-yuu5h_1  |\u001b[0m PYTHONPATH=/opt/ml/code:/usr/local/bin:/usr/lib/python36.zip:/usr/lib/python3.6:/usr/lib/python3.6/lib-dynload:/usr/local/lib/python3.6/dist-packages:/usr/lib/python3/dist-packages\n",
      "\u001b[36malgo-1-yuu5h_1  |\u001b[0m \n",
      "\u001b[36malgo-1-yuu5h_1  |\u001b[0m Invoking script with the following command:\n",
      "\u001b[36malgo-1-yuu5h_1  |\u001b[0m \n",
      "\u001b[36malgo-1-yuu5h_1  |\u001b[0m /usr/bin/python3 train.py --epochs 7 --model_dir /opt/ml/model\n",
      "\u001b[36malgo-1-yuu5h_1  |\u001b[0m \n",
      "\u001b[36malgo-1-yuu5h_1  |\u001b[0m \n",
      "\u001b[36malgo-1-yuu5h_1  |\u001b[0m Train on 5358 samples, validate on 1787 samples\n",
      "\u001b[36malgo-1-yuu5h_1  |\u001b[0m Epoch 1/7\n",
      "\u001b[36malgo-1-yuu5h_1  |\u001b[0m 5358/5358 - 39s - loss: 0.5681 - accuracy: 0.6958 - val_loss: 0.5379 - val_accuracy: 0.7135\n",
      "\u001b[36malgo-1-yuu5h_1  |\u001b[0m Epoch 2/7\n",
      "\u001b[36malgo-1-yuu5h_1  |\u001b[0m 5358/5358 - 35s - loss: 0.3439 - accuracy: 0.8606 - val_loss: 0.3353 - val_accuracy: 0.8506\n",
      "\u001b[36malgo-1-yuu5h_1  |\u001b[0m Epoch 3/7\n",
      "\u001b[36malgo-1-yuu5h_1  |\u001b[0m 5358/5358 - 35s - loss: 0.2572 - accuracy: 0.9043 - val_loss: 0.2844 - val_accuracy: 0.8870\n",
      "\u001b[36malgo-1-yuu5h_1  |\u001b[0m Epoch 4/7\n",
      "\u001b[36malgo-1-yuu5h_1  |\u001b[0m 5358/5358 - 97s - loss: 0.2189 - accuracy: 0.9229 - val_loss: 0.2756 - val_accuracy: 0.8886\n",
      "\u001b[36malgo-1-yuu5h_1  |\u001b[0m Epoch 5/7\n",
      "\u001b[36malgo-1-yuu5h_1  |\u001b[0m 5358/5358 - 34s - loss: 0.1799 - accuracy: 0.9352 - val_loss: 0.4457 - val_accuracy: 0.8657\n",
      "\u001b[36malgo-1-yuu5h_1  |\u001b[0m Epoch 6/7\n",
      "\u001b[36malgo-1-yuu5h_1  |\u001b[0m 5358/5358 - 167s - loss: 0.1650 - accuracy: 0.9461 - val_loss: 0.2925 - val_accuracy: 0.8914\n",
      "\u001b[36malgo-1-yuu5h_1  |\u001b[0m Epoch 7/7\n",
      "\u001b[36malgo-1-yuu5h_1  |\u001b[0m 5358/5358 - 104s - loss: 0.1367 - accuracy: 0.9504 - val_loss: 0.2857 - val_accuracy: 0.8802\n",
      "\u001b[36malgo-1-yuu5h_1  |\u001b[0m 1787/1787 - 2s - loss: 0.2857 - accuracy: 0.8802\n",
      "\u001b[36malgo-1-yuu5h_1  |\u001b[0m Model accuracy:  0.8802462\n",
      "\u001b[36malgo-1-yuu5h_1  |\u001b[0m 2020-09-15 20:45:28.220444: W tensorflow/python/util/util.cc:319] Sets are not currently considered sequences, but this may change in the future, so consider avoiding using them.\n",
      "\u001b[36malgo-1-yuu5h_1  |\u001b[0m WARNING:tensorflow:From /usr/local/lib/python3.6/dist-packages/tensorflow_core/python/ops/resource_variable_ops.py:1786: calling BaseResourceVariable.__init__ (from tensorflow.python.ops.resource_variable_ops) with constraint is deprecated and will be removed in a future version.\n",
      "\u001b[36malgo-1-yuu5h_1  |\u001b[0m Instructions for updating:\n",
      "\u001b[36malgo-1-yuu5h_1  |\u001b[0m If using Keras pass *_constraint arguments to layers.\n",
      "\u001b[36malgo-1-yuu5h_1  |\u001b[0m WARNING:tensorflow:From /usr/local/lib/python3.6/dist-packages/tensorflow_core/python/ops/resource_variable_ops.py:1786: calling BaseResourceVariable.__init__ (from tensorflow.python.ops.resource_variable_ops) with constraint is deprecated and will be removed in a future version.\n",
      "\u001b[36malgo-1-yuu5h_1  |\u001b[0m Instructions for updating:\n",
      "\u001b[36malgo-1-yuu5h_1  |\u001b[0m If using Keras pass *_constraint arguments to layers.\n",
      "\u001b[36malgo-1-yuu5h_1  |\u001b[0m INFO:tensorflow:Assets written to: /opt/ml/model/depression_classifier/00000001/assets\n",
      "\u001b[36malgo-1-yuu5h_1  |\u001b[0m INFO:tensorflow:Assets written to: /opt/ml/model/depression_classifier/00000001/assets\n",
      "\u001b[36malgo-1-yuu5h_1  |\u001b[0m 2020-09-15 20:45:30,556 sagemaker-containers INFO     Reporting training SUCCESS\n",
      "\u001b[36mtmpyvmwm5w0_algo-1-yuu5h_1 exited with code 0\n",
      "\u001b[0mAborting on container exit...\n",
      "===== Job Complete =====\n"
     ]
    }
   ],
   "source": [
    "#Starting the training, calling the fit method and passing the training and testing data paths. \n",
    "#This creates a training job on SageMaker. \n",
    "tf_estimator.fit({'train': training_input_path,'test': testing_input_path})"
   ]
  },
  {
   "cell_type": "code",
   "execution_count": null,
   "metadata": {},
   "outputs": [],
   "source": []
  },
  {
   "cell_type": "markdown",
   "metadata": {},
   "source": [
    "## Deploying the model to SageMaker"
   ]
  },
  {
   "cell_type": "code",
   "execution_count": 29,
   "metadata": {},
   "outputs": [
    {
     "name": "stderr",
     "output_type": "stream",
     "text": [
      "Parameter image will be renamed to image_uri in SageMaker Python SDK v2.\n",
      "'create_image_uri' will be deprecated in favor of 'ImageURIProvider' class in SageMaker Python SDK v2.\n"
     ]
    },
    {
     "name": "stdout",
     "output_type": "stream",
     "text": [
      "Attaching to tmp7ykdk46h_algo-1-20k5a_1\n",
      "\u001b[36malgo-1-20k5a_1  |\u001b[0m INFO:__main__:starting services\n",
      "\u001b[36malgo-1-20k5a_1  |\u001b[0m INFO:__main__:using default model name: depression_classifier\n",
      "\u001b[36malgo-1-20k5a_1  |\u001b[0m INFO:__main__:tensorflow serving model config: \n",
      "\u001b[36malgo-1-20k5a_1  |\u001b[0m model_config_list: {\n",
      "\u001b[36malgo-1-20k5a_1  |\u001b[0m   config: {\n",
      "\u001b[36malgo-1-20k5a_1  |\u001b[0m     name: \"depression_classifier\",\n",
      "\u001b[36malgo-1-20k5a_1  |\u001b[0m     base_path: \"/opt/ml/model/depression_classifier\",\n",
      "\u001b[36malgo-1-20k5a_1  |\u001b[0m     model_platform: \"tensorflow\"\n",
      "\u001b[36malgo-1-20k5a_1  |\u001b[0m   }\n",
      "\u001b[36malgo-1-20k5a_1  |\u001b[0m }\n",
      "\u001b[36malgo-1-20k5a_1  |\u001b[0m \n",
      "\u001b[36malgo-1-20k5a_1  |\u001b[0m \n",
      "\u001b[36malgo-1-20k5a_1  |\u001b[0m INFO:__main__:nginx config: \n",
      "\u001b[36malgo-1-20k5a_1  |\u001b[0m load_module modules/ngx_http_js_module.so;\n",
      "\u001b[36malgo-1-20k5a_1  |\u001b[0m \n",
      "\u001b[36malgo-1-20k5a_1  |\u001b[0m worker_processes auto;\n",
      "\u001b[36malgo-1-20k5a_1  |\u001b[0m daemon off;\n",
      "\u001b[36malgo-1-20k5a_1  |\u001b[0m pid /tmp/nginx.pid;\n",
      "\u001b[36malgo-1-20k5a_1  |\u001b[0m error_log  /dev/stderr info;\n",
      "\u001b[36malgo-1-20k5a_1  |\u001b[0m \n",
      "\u001b[36malgo-1-20k5a_1  |\u001b[0m worker_rlimit_nofile 4096;\n",
      "\u001b[36malgo-1-20k5a_1  |\u001b[0m \n",
      "\u001b[36malgo-1-20k5a_1  |\u001b[0m events {\n",
      "\u001b[36malgo-1-20k5a_1  |\u001b[0m   worker_connections 2048;\n",
      "\u001b[36malgo-1-20k5a_1  |\u001b[0m }\n",
      "\u001b[36malgo-1-20k5a_1  |\u001b[0m \n",
      "\u001b[36malgo-1-20k5a_1  |\u001b[0m http {\n",
      "\u001b[36malgo-1-20k5a_1  |\u001b[0m   include /etc/nginx/mime.types;\n",
      "\u001b[36malgo-1-20k5a_1  |\u001b[0m   default_type application/json;\n",
      "\u001b[36malgo-1-20k5a_1  |\u001b[0m   access_log /dev/stdout combined;\n",
      "\u001b[36malgo-1-20k5a_1  |\u001b[0m   js_include tensorflow-serving.js;\n",
      "\u001b[36malgo-1-20k5a_1  |\u001b[0m \n",
      "\u001b[36malgo-1-20k5a_1  |\u001b[0m   upstream tfs_upstream {\n",
      "\u001b[36malgo-1-20k5a_1  |\u001b[0m     server localhost:8501;\n",
      "\u001b[36malgo-1-20k5a_1  |\u001b[0m   }\n",
      "\u001b[36malgo-1-20k5a_1  |\u001b[0m \n",
      "\u001b[36malgo-1-20k5a_1  |\u001b[0m   upstream gunicorn_upstream {\n",
      "\u001b[36malgo-1-20k5a_1  |\u001b[0m     server unix:/tmp/gunicorn.sock fail_timeout=1;\n",
      "\u001b[36malgo-1-20k5a_1  |\u001b[0m   }\n",
      "\u001b[36malgo-1-20k5a_1  |\u001b[0m \n",
      "\u001b[36malgo-1-20k5a_1  |\u001b[0m   server {\n",
      "\u001b[36malgo-1-20k5a_1  |\u001b[0m     listen 8080 deferred;\n",
      "\u001b[36malgo-1-20k5a_1  |\u001b[0m     client_max_body_size 0;\n",
      "\u001b[36malgo-1-20k5a_1  |\u001b[0m     client_body_buffer_size 100m;\n",
      "\u001b[36malgo-1-20k5a_1  |\u001b[0m     subrequest_output_buffer_size 100m;\n",
      "\u001b[36malgo-1-20k5a_1  |\u001b[0m \n",
      "\u001b[36malgo-1-20k5a_1  |\u001b[0m     set $tfs_version 2.1.1;\n",
      "\u001b[36malgo-1-20k5a_1  |\u001b[0m     set $default_tfs_model depression_classifier;\n",
      "\u001b[36malgo-1-20k5a_1  |\u001b[0m \n",
      "\u001b[36malgo-1-20k5a_1  |\u001b[0m     location /tfs {\n",
      "\u001b[36malgo-1-20k5a_1  |\u001b[0m         rewrite ^/tfs/(.*) /$1  break;\n",
      "\u001b[36malgo-1-20k5a_1  |\u001b[0m         proxy_redirect off;\n",
      "\u001b[36malgo-1-20k5a_1  |\u001b[0m         proxy_pass_request_headers off;\n",
      "\u001b[36malgo-1-20k5a_1  |\u001b[0m         proxy_set_header Content-Type 'application/json';\n",
      "\u001b[36malgo-1-20k5a_1  |\u001b[0m         proxy_set_header Accept 'application/json';\n",
      "\u001b[36malgo-1-20k5a_1  |\u001b[0m         proxy_pass http://tfs_upstream;\n",
      "\u001b[36malgo-1-20k5a_1  |\u001b[0m     }\n",
      "\u001b[36malgo-1-20k5a_1  |\u001b[0m \n",
      "\u001b[36malgo-1-20k5a_1  |\u001b[0m     location /ping {\n",
      "\u001b[36malgo-1-20k5a_1  |\u001b[0m         js_content ping_without_model;\n",
      "\u001b[36malgo-1-20k5a_1  |\u001b[0m     }\n",
      "\u001b[36malgo-1-20k5a_1  |\u001b[0m \n",
      "\u001b[36malgo-1-20k5a_1  |\u001b[0m     location /invocations {\n",
      "\u001b[36malgo-1-20k5a_1  |\u001b[0m         js_content invocations;\n",
      "\u001b[36malgo-1-20k5a_1  |\u001b[0m     }\n",
      "\u001b[36malgo-1-20k5a_1  |\u001b[0m \n",
      "\u001b[36malgo-1-20k5a_1  |\u001b[0m     location ~ ^/models/(.*)/invoke {\n",
      "\u001b[36malgo-1-20k5a_1  |\u001b[0m         js_content invocations;\n",
      "\u001b[36malgo-1-20k5a_1  |\u001b[0m     }\n",
      "\u001b[36malgo-1-20k5a_1  |\u001b[0m \n",
      "\u001b[36malgo-1-20k5a_1  |\u001b[0m     location /models {\n",
      "\u001b[36malgo-1-20k5a_1  |\u001b[0m         proxy_pass http://gunicorn_upstream/models;\n",
      "\u001b[36malgo-1-20k5a_1  |\u001b[0m     }\n",
      "\u001b[36malgo-1-20k5a_1  |\u001b[0m \n",
      "\u001b[36malgo-1-20k5a_1  |\u001b[0m     location / {\n",
      "\u001b[36malgo-1-20k5a_1  |\u001b[0m         return 404 '{\"error\": \"Not Found\"}';\n",
      "\u001b[36malgo-1-20k5a_1  |\u001b[0m     }\n",
      "\u001b[36malgo-1-20k5a_1  |\u001b[0m \n",
      "\u001b[36malgo-1-20k5a_1  |\u001b[0m     keepalive_timeout 3;\n",
      "\u001b[36malgo-1-20k5a_1  |\u001b[0m   }\n",
      "\u001b[36malgo-1-20k5a_1  |\u001b[0m }\n",
      "\u001b[36malgo-1-20k5a_1  |\u001b[0m \n",
      "\u001b[36malgo-1-20k5a_1  |\u001b[0m \n",
      "\u001b[36malgo-1-20k5a_1  |\u001b[0m INFO:__main__:tensorflow version info:\n",
      "\u001b[36malgo-1-20k5a_1  |\u001b[0m TensorFlow ModelServer: 2.1.0-rc1+dev.sha.f56fcc9\n",
      "\u001b[36malgo-1-20k5a_1  |\u001b[0m TensorFlow Library: 2.1.1\n",
      "\u001b[36malgo-1-20k5a_1  |\u001b[0m INFO:__main__:tensorflow serving command: tensorflow_model_server --port=9000 --rest_api_port=8501 --model_config_file=/sagemaker/model-config.cfg --max_num_load_retries=0 \n",
      "\u001b[36malgo-1-20k5a_1  |\u001b[0m INFO:__main__:started tensorflow serving (pid: 13)\n",
      "\u001b[36malgo-1-20k5a_1  |\u001b[0m INFO:__main__:nginx version info:\n",
      "\u001b[36malgo-1-20k5a_1  |\u001b[0m nginx version: nginx/1.18.0\n",
      "\u001b[36malgo-1-20k5a_1  |\u001b[0m built by gcc 7.4.0 (Ubuntu 7.4.0-1ubuntu1~18.04.1) \n",
      "\u001b[36malgo-1-20k5a_1  |\u001b[0m built with OpenSSL 1.1.1  11 Sep 2018 (running with OpenSSL 1.1.1g  21 Apr 2020)\n",
      "\u001b[36malgo-1-20k5a_1  |\u001b[0m TLS SNI support enabled\n",
      "\u001b[36malgo-1-20k5a_1  |\u001b[0m configure arguments: --prefix=/etc/nginx --sbin-path=/usr/sbin/nginx --modules-path=/usr/lib/nginx/modules --conf-path=/etc/nginx/nginx.conf --error-log-path=/var/log/nginx/error.log --http-log-path=/var/log/nginx/access.log --pid-path=/var/run/nginx.pid --lock-path=/var/run/nginx.lock --http-client-body-temp-path=/var/cache/nginx/client_temp --http-proxy-temp-path=/var/cache/nginx/proxy_temp --http-fastcgi-temp-path=/var/cache/nginx/fastcgi_temp --http-uwsgi-temp-path=/var/cache/nginx/uwsgi_temp --http-scgi-temp-path=/var/cache/nginx/scgi_temp --user=nginx --group=nginx --with-compat --with-file-aio --with-threads --with-http_addition_module --with-http_auth_request_module --with-http_dav_module --with-http_flv_module --with-http_gunzip_module --with-http_gzip_static_module --with-http_mp4_module --with-http_random_index_module --with-http_realip_module --with-http_secure_link_module --with-http_slice_module --with-http_ssl_module --with-http_stub_status_module --with-http_sub_module --with-http_v2_module --with-mail --with-mail_ssl_module --with-stream --with-stream_realip_module --with-stream_ssl_module --with-stream_ssl_preread_module --with-cc-opt='-g -O2 -fdebug-prefix-map=/data/builder/debuild/nginx-1.18.0/debian/debuild-base/nginx-1.18.0=. -fstack-protector-strong -Wformat -Werror=format-security -Wp,-D_FORTIFY_SOURCE=2 -fPIC' --with-ld-opt='-Wl,-Bsymbolic-functions -Wl,-z,relro -Wl,-z,now -Wl,--as-needed -pie'\n",
      "\u001b[36malgo-1-20k5a_1  |\u001b[0m INFO:__main__:started nginx (pid: 15)\n",
      "\u001b[36malgo-1-20k5a_1  |\u001b[0m 2020/09/15 20:46:33 [notice] 15#15: using the \"epoll\" event method\n",
      "\u001b[36malgo-1-20k5a_1  |\u001b[0m 2020/09/15 20:46:33 [notice] 15#15: nginx/1.18.0\n",
      "\u001b[36malgo-1-20k5a_1  |\u001b[0m 2020/09/15 20:46:33 [notice] 15#15: built by gcc 7.4.0 (Ubuntu 7.4.0-1ubuntu1~18.04.1) \n",
      "\u001b[36malgo-1-20k5a_1  |\u001b[0m 2020/09/15 20:46:33 [notice] 15#15: OS: Linux 4.14.193-113.317.amzn1.x86_64\n",
      "\u001b[36malgo-1-20k5a_1  |\u001b[0m 2020/09/15 20:46:33 [notice] 15#15: getrlimit(RLIMIT_NOFILE): 1024:4096\n",
      "\u001b[36malgo-1-20k5a_1  |\u001b[0m 2020/09/15 20:46:33 [notice] 15#15: start worker processes\n",
      "\u001b[36malgo-1-20k5a_1  |\u001b[0m 2020/09/15 20:46:33 [notice] 15#15: start worker process 16\n",
      "\u001b[36malgo-1-20k5a_1  |\u001b[0m 2020/09/15 20:46:33 [notice] 15#15: start worker process 17\n",
      "\u001b[36malgo-1-20k5a_1  |\u001b[0m 2020-09-15 20:46:33.691830: I tensorflow_serving/model_servers/server_core.cc:462] Adding/updating models.\n",
      "\u001b[36malgo-1-20k5a_1  |\u001b[0m 2020-09-15 20:46:33.691874: I tensorflow_serving/model_servers/server_core.cc:573]  (Re-)adding model: depression_classifier\n",
      "\u001b[36malgo-1-20k5a_1  |\u001b[0m 2020-09-15 20:46:33.791701: I tensorflow_serving/util/retrier.cc:46] Retrying of Reserving resources for servable: {name: depression_classifier version: 1} exhausted max_num_retries: 0\n",
      "\u001b[36malgo-1-20k5a_1  |\u001b[0m 2020-09-15 20:46:33.792477: I tensorflow_serving/core/basic_manager.cc:739] Successfully reserved resources to load servable {name: depression_classifier version: 1}\n",
      "\u001b[36malgo-1-20k5a_1  |\u001b[0m 2020-09-15 20:46:33.792894: I tensorflow_serving/core/loader_harness.cc:66] Approving load for servable version {name: depression_classifier version: 1}\n",
      "\u001b[36malgo-1-20k5a_1  |\u001b[0m 2020-09-15 20:46:33.793306: I tensorflow_serving/core/loader_harness.cc:74] Loading servable version {name: depression_classifier version: 1}\n",
      "\u001b[36malgo-1-20k5a_1  |\u001b[0m 2020-09-15 20:46:33.793730: I external/org_tensorflow/tensorflow/cc/saved_model/reader.cc:31] Reading SavedModel from: /opt/ml/model/depression_classifier/00000001\n",
      "\u001b[36malgo-1-20k5a_1  |\u001b[0m 2020-09-15 20:46:33.814832: I external/org_tensorflow/tensorflow/cc/saved_model/reader.cc:54] Reading meta graph with tags { serve }\n",
      "\u001b[36malgo-1-20k5a_1  |\u001b[0m 2020-09-15 20:46:33.815586: I external/org_tensorflow/tensorflow/cc/saved_model/loader.cc:264] Reading SavedModel debug info (if present) from: /opt/ml/model/depression_classifier/00000001\n",
      "\u001b[36malgo-1-20k5a_1  |\u001b[0m 2020-09-15 20:46:33.816537: W external/org_tensorflow/tensorflow/stream_executor/platform/default/dso_loader.cc:55] Could not load dynamic library 'libcuda.so.1'; dlerror: libcuda.so.1: cannot open shared object file: No such file or directory; LD_LIBRARY_PATH: /usr/local/nvidia/lib:/usr/local/nvidia/lib64\n",
      "\u001b[36malgo-1-20k5a_1  |\u001b[0m 2020-09-15 20:46:33.816950: E external/org_tensorflow/tensorflow/stream_executor/cuda/cuda_driver.cc:351] failed call to cuInit: UNKNOWN ERROR (303)\n",
      "\u001b[36malgo-1-20k5a_1  |\u001b[0m 2020-09-15 20:46:33.817344: I external/org_tensorflow/tensorflow/stream_executor/cuda/cuda_diagnostics.cc:156] kernel driver does not appear to be running on this host (72e05c7a2cf3): /proc/driver/nvidia/version does not exist\n",
      "\u001b[36malgo-1-20k5a_1  |\u001b[0m 2020-09-15 20:46:33.887645: E external/org_tensorflow/tensorflow/core/framework/op_kernel.cc:1579] OpKernel ('op: \"BoxIntersectionOverUnion\" device_type: \"GPU\"') for unknown op: BoxIntersectionOverUnion\n",
      "\u001b[36malgo-1-20k5a_1  |\u001b[0m 2020-09-15 20:46:33.888435: E external/org_tensorflow/tensorflow/core/framework/op_kernel.cc:1579] OpKernel ('op: \"BoxEncode\" device_type: \"GPU\"') for unknown op: BoxEncode\n",
      "\u001b[36malgo-1-20k5a_1  |\u001b[0m 2020-09-15 20:46:33.903936: I external/org_tensorflow/tensorflow/cc/saved_model/loader.cc:203] Restoring SavedModel bundle.\n",
      "\u001b[36malgo-1-20k5a_1  |\u001b[0m 2020-09-15 20:46:34.002119: I external/org_tensorflow/tensorflow/cc/saved_model/loader.cc:152] Running initialization op on SavedModel bundle at path: /opt/ml/model/depression_classifier/00000001\n",
      "\u001b[36malgo-1-20k5a_1  |\u001b[0m 2020-09-15 20:46:34.068698: I external/org_tensorflow/tensorflow/cc/saved_model/loader.cc:333] SavedModel load for tags { serve }; Status: success: OK. Took 274971 microseconds.\n",
      "\u001b[36malgo-1-20k5a_1  |\u001b[0m 2020-09-15 20:46:34.074688: I tensorflow_serving/servables/tensorflow/saved_model_warmup.cc:105] No warmup data file found at /opt/ml/model/depression_classifier/00000001/assets.extra/tf_serving_warmup_requests\n",
      "\u001b[36malgo-1-20k5a_1  |\u001b[0m 2020-09-15 20:46:34.078391: I tensorflow_serving/util/retrier.cc:46] Retrying of Loading servable: {name: depression_classifier version: 1} exhausted max_num_retries: 0\n",
      "\u001b[36malgo-1-20k5a_1  |\u001b[0m 2020-09-15 20:46:34.078420: I tensorflow_serving/core/loader_harness.cc:87] Successfully loaded servable version {name: depression_classifier version: 1}\n",
      "\u001b[36malgo-1-20k5a_1  |\u001b[0m 2020-09-15 20:46:34.080520: I tensorflow_serving/model_servers/server.cc:362] Running gRPC ModelServer at 0.0.0.0:9000 ...\n",
      "\u001b[36malgo-1-20k5a_1  |\u001b[0m [warn] getaddrinfo: address family for nodename not supported\n",
      "\u001b[36malgo-1-20k5a_1  |\u001b[0m 2020-09-15 20:46:34.081865: I tensorflow_serving/model_servers/server.cc:382] Exporting HTTP/REST API at:localhost:8501 ...\n",
      "\u001b[36malgo-1-20k5a_1  |\u001b[0m [evhttp_server.cc : 238] NET_LOG: Entering the event loop ...\n",
      "!\u001b[36malgo-1-20k5a_1  |\u001b[0m 172.18.0.1 - - [15/Sep/2020:20:46:35 +0000] \"GET /ping HTTP/1.1\" 200 0 \"-\" \"-\"\n"
     ]
    }
   ],
   "source": [
    "endpoint_name = 'tensorflow-depression-predictions'+time.strftime(\"%Y-%m-%d-%H-%M-%S\", time.gmtime())\n",
    "end_point = tf_estimator.deploy(initial_instance_count=1,instance_type='ml.p2.xlarge',endpoint_name=endpoint_name)"
   ]
  },
  {
   "cell_type": "code",
   "execution_count": 30,
   "metadata": {},
   "outputs": [
    {
     "name": "stdout",
     "output_type": "stream",
     "text": [
      "tensorflow-depression-predictions2020-09-15-20-46-29\n"
     ]
    }
   ],
   "source": [
    "print(end_point.endpoint)"
   ]
  },
  {
   "cell_type": "markdown",
   "metadata": {},
   "source": [
    "## Validating the model"
   ]
  },
  {
   "cell_type": "code",
   "execution_count": 31,
   "metadata": {},
   "outputs": [],
   "source": [
    "def preprocess_texts(text):\n",
    "    \n",
    "    max_words = 20000\n",
    "    max_len = 400\n",
    "\n",
    "    tokenizer = Tokenizer(num_words=max_words)\n",
    "    tokenizer.fit_on_texts(data[0].values)\n",
    "    sequences = tokenizer.texts_to_sequences(text)\n",
    "    sequences = pad_sequences(sequences, maxlen=max_len)\n",
    "    \n",
    "    return sequences"
   ]
  },
  {
   "cell_type": "code",
   "execution_count": 32,
   "metadata": {},
   "outputs": [],
   "source": [
    "test_texts = preprocess_texts(testing_data[0].values)"
   ]
  },
  {
   "cell_type": "code",
   "execution_count": 35,
   "metadata": {},
   "outputs": [
    {
     "data": {
      "text/plain": [
       "array([[   0,    0,    0, ...,  256,    6, 4803],\n",
       "       [   0,    0,    0, ...,   15,  553,  144],\n",
       "       [   0,    0,    0, ..., 1537,   53,  314],\n",
       "       ...,\n",
       "       [   0,    0,    0, ...,  235,    3,    5],\n",
       "       [   0,    0,    0, ...,  117, 1385,   15],\n",
       "       [   0,    0,    0, ...,    5,    2,  232]], dtype=int32)"
      ]
     },
     "execution_count": 35,
     "metadata": {},
     "output_type": "execute_result"
    }
   ],
   "source": [
    "test_texts"
   ]
  },
  {
   "cell_type": "code",
   "execution_count": 36,
   "metadata": {},
   "outputs": [
    {
     "name": "stdout",
     "output_type": "stream",
     "text": [
      "\u001b[36malgo-1-20k5a_1  |\u001b[0m 172.18.0.1 - - [15/Sep/2020:20:49:18 +0000] \"POST /invocations HTTP/1.1\" 200 27989 \"-\" \"-\"\n"
     ]
    }
   ],
   "source": [
    "import numpy as np\n",
    "predictions = end_point.predict(test_texts)"
   ]
  },
  {
   "cell_type": "code",
   "execution_count": 39,
   "metadata": {},
   "outputs": [
    {
     "data": {
      "text/plain": [
       "array([[1.],\n",
       "       [1.],\n",
       "       [0.],\n",
       "       ...,\n",
       "       [1.],\n",
       "       [0.],\n",
       "       [0.]])"
      ]
     },
     "execution_count": 39,
     "metadata": {},
     "output_type": "execute_result"
    }
   ],
   "source": [
    "np.around(predictions['predictions'], decimals=0)"
   ]
  },
  {
   "cell_type": "code",
   "execution_count": 42,
   "metadata": {},
   "outputs": [
    {
     "data": {
      "text/plain": [
       "0       1\n",
       "1       1\n",
       "2       0\n",
       "3       0\n",
       "4       0\n",
       "       ..\n",
       "1782    0\n",
       "1783    1\n",
       "1784    1\n",
       "1785    0\n",
       "1786    0\n",
       "Name: 1, Length: 1787, dtype: int64"
      ]
     },
     "execution_count": 42,
     "metadata": {},
     "output_type": "execute_result"
    }
   ],
   "source": [
    "testing_data[1]"
   ]
  },
  {
   "cell_type": "markdown",
   "metadata": {},
   "source": [
    "## Confusion matrix"
   ]
  },
  {
   "cell_type": "code",
   "execution_count": 43,
   "metadata": {},
   "outputs": [],
   "source": [
    "import sklearn\n",
    "from sklearn.metrics import confusion_matrix\n",
    "matrix = confusion_matrix(testing_data[1], np.around(predictions['predictions'], decimals=0))"
   ]
  },
  {
   "cell_type": "code",
   "execution_count": 45,
   "metadata": {},
   "outputs": [
    {
     "data": {
      "text/plain": [
       "<matplotlib.axes._subplots.AxesSubplot at 0x7fdc5c054c50>"
      ]
     },
     "execution_count": 45,
     "metadata": {},
     "output_type": "execute_result"
    },
    {
     "data": {
      "image/png": "[encoded data removed]",
      "text/plain": [
       "<Figure size 1080x1080 with 2 Axes>"
      ]
     },
     "metadata": {
      "needs_background": "light"
     },
     "output_type": "display_data"
    }
   ],
   "source": [
    "import matplotlib.pyplot as plt\n",
    "import seaborn as sns\n",
    "conf_matrix = pd.DataFrame(matrix, index = ['Not Depression/Anxiety','Anxiety/Depression'],columns = ['Not Depression/Anxiety','Anxiety/Depression'])\n",
    "#Normalizing\n",
    "conf_matrix = conf_matrix.astype('float') / conf_matrix.sum(axis=1)[:, np.newaxis]\n",
    "plt.figure(figsize = (15,15))\n",
    "sns.heatmap(conf_matrix, annot=True, annot_kws={\"size\": 15})"
   ]
  },
  {
   "cell_type": "code",
   "execution_count": 46,
   "metadata": {},
   "outputs": [
    {
     "name": "stdout",
     "output_type": "stream",
     "text": [
      "Gracefully stopping... (press Ctrl+C again to force)\n"
     ]
    }
   ],
   "source": [
    "# Make sure to call end_point.delete_endpoint()to delete the model endpoint.\n",
    "# After go ahead and delete any files uploaded by sagemaker from your s3 bucket.\n",
    "end_point.delete_endpoint()"
   ]
  },
  {
   "cell_type": "code",
   "execution_count": null,
   "metadata": {},
   "outputs": [],
   "source": []
  }
 ],
 "metadata": {
  "kernelspec": {
   "display_name": "Python 3",
   "language": "python",
   "name": "python3"
  },
  "language_info": {
   "codemirror_mode": {
    "name": "ipython",
    "version": 3
   },
   "file_extension": ".py",
   "mimetype": "text/x-python",
   "name": "python",
   "nbconvert_exporter": "python",
   "pygments_lexer": "ipython3",
   "version": "3.7.6"
  }
 },
 "nbformat": 4,
 "nbformat_minor": 4
}
