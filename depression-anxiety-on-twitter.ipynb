{
 "cells": [
  {
   "cell_type": "markdown",
   "metadata": {
    "papermill": {
     "duration": 0.049428,
     "end_time": "2020-09-16T21:28:26.188608",
     "exception": false,
     "start_time": "2020-09-16T21:28:26.139180",
     "status": "completed"
    },
    "tags": []
   },
   "source": [
    "# The Project\n",
    "\n",
    "In this opportunity we'll go through a very particular topic. We all know the lockdown during the COVID-19 is affecting all of us in different ways, but the most frequents are depression and anxiety which is an expected outcome - the natural responses to confinement are precisely these, and most of the people don't even know it. It's been a hard time, people are afraid of uncertainty, of losing their jobs as many people have already done, The conditions are met for a major emotional imbalance.\n",
    "\n",
    "Experts recommend to stay away from social media because it accelerates the depression process, and who is depressed already will be even more, however people expressions on it are a key instrument to determine how a population is feeling. Most of the social media active people express how they feel in tweets, facebook posts, comments and even Instagram captions. So, starting from there, **can we implement Deep Learning to discover depression and anxiety on tweets out there?**\n",
    "\n",
    "The next project will cover several steps, but a 10000 feet overview would be:\n",
    "\n",
    "* **Topic Modeling** - where we'll be looking for two labels: 1 - Depression & anxiety comments, 0 - Other, in Facebook comments prior known to contain depression expressions\n",
    "* **Topic Classification** - We'll implement a Keras Recurrent Neural Network to find out depression in a tweets dataset.\n",
    "\n",
    "To achieve both tasks, we'll go through:\n",
    "\n",
    "* **Data collection** - Getting data from different sources to accomplish the main objective.\n",
    "* **Data cleaning** - We'll have to take all the data which is already in different formats and clean it up to then be able to use it.\n",
    "* **Natural Language Processing for Topic Modeling** - We'll need to transform the text data into a type that can be interpreted by ML models.\n",
    "* **Unsupervised Learning tasks for Topic Modeling** - This is crucial, because most of the data we can find out there is unlabeled, so we first need to identify patterns in it.\n",
    "* **Supervised Learning tasks for Topic Classification**- Once the data is labeled, we'll go through a Neural Network creation & training to then classify tweets.\n",
    "* Predict depression and anxiety in unseen tweets before and after lockdown\n",
    "* Results' charting and conclusions\n",
    "\n",
    "\n",
    "**The Depression & Anxiety Facebook comments dataset was obtained at https://www.ncbi.nlm.nih.gov/pmc/articles/PMC6111060/ - for future references.**\n",
    "\n",
    "**The COVID-19 tweets were acquired by myself implementing tweets scrapping. The dataset is composed by several tweets distribuited in the first week of the US lockdown**"
   ]
  },
  {
   "cell_type": "markdown",
   "metadata": {
    "papermill": {
     "duration": 0.045621,
     "end_time": "2020-09-16T21:28:26.280334",
     "exception": false,
     "start_time": "2020-09-16T21:28:26.234713",
     "status": "completed"
    },
    "tags": []
   },
   "source": [
    "# Imports"
   ]
  },
  {
   "cell_type": "code",
   "execution_count": 1,
   "metadata": {
    "_cell_guid": "b1076dfc-b9ad-4769-8c92-a6c4dae69d19",
    "_uuid": "8f2839f25d086af736a60e9eeb907d3b93b6e0e5",
    "execution": {
     "iopub.execute_input": "2020-09-16T21:28:26.386230Z",
     "iopub.status.busy": "2020-09-16T21:28:26.385417Z",
     "iopub.status.idle": "2020-09-16T21:28:35.569073Z",
     "shell.execute_reply": "2020-09-16T21:28:35.567378Z"
    },
    "papermill": {
     "duration": 9.242454,
     "end_time": "2020-09-16T21:28:35.569265",
     "exception": false,
     "start_time": "2020-09-16T21:28:26.326811",
     "status": "completed"
    },
    "tags": []
   },
   "outputs": [
    {
     "name": "stdout",
     "output_type": "stream",
     "text": [
      "Done\n"
     ]
    }
   ],
   "source": [
    "from sklearn.feature_extraction.text import TfidfVectorizer, CountVectorizer\n",
    "import re\n",
    "import numpy as np\n",
    "import pandas as pd \n",
    "import os\n",
    "import matplotlib.pyplot as plt\n",
    "import string\n",
    "from nltk.corpus import stopwords\n",
    "import nltk\n",
    "from nltk.corpus import wordnet\n",
    "from nltk.stem import WordNetLemmatizer\n",
    "from collections import Counter\n",
    "from wordcloud import WordCloud\n",
    "from nltk.corpus import stopwords\n",
    "import nltk\n",
    "from gensim.utils import simple_preprocess\n",
    "from nltk.corpus import stopwords\n",
    "import gensim\n",
    "from sklearn.model_selection import train_test_split\n",
    "import spacy\n",
    "from sklearn.decomposition import NMF, LatentDirichletAllocation\n",
    "import pyLDAvis\n",
    "import pyLDAvis.sklearn\n",
    "from sklearn.feature_extraction.text import CountVectorizer\n",
    "from sklearn.feature_extraction.text import TfidfTransformer\n",
    "from sklearn.linear_model import SGDClassifier\n",
    "from sklearn.model_selection import GridSearchCV\n",
    "from sklearn.pipeline import Pipeline\n",
    "from pprint import pprint\n",
    "from time import time\n",
    "from sklearn.linear_model import LogisticRegression\n",
    "from sklearn.svm import SVC\n",
    "from sklearn.ensemble import RandomForestClassifier\n",
    "from sklearn.ensemble import GradientBoostingClassifier\n",
    "import xgboost as xgb\n",
    "from sklearn.metrics import precision_score, recall_score, accuracy_score,roc_auc_score\n",
    "import warnings\n",
    "warnings.filterwarnings('ignore')\n",
    "from datetime import datetime\n",
    "import seaborn as sns\n",
    "from sklearn.metrics import confusion_matrix\n",
    "import matplotlib.pyplot as plt\n",
    "import keras\n",
    "print('Done')"
   ]
  },
  {
   "cell_type": "markdown",
   "metadata": {
    "papermill": {
     "duration": 0.046193,
     "end_time": "2020-09-16T21:28:35.662945",
     "exception": false,
     "start_time": "2020-09-16T21:28:35.616752",
     "status": "completed"
    },
    "tags": []
   },
   "source": [
    "# Data exploration for Topic Modeling\n",
    "\n",
    "Essentially what we'll do is to explore how the unlabeled data is to then preprocess it."
   ]
  },
  {
   "cell_type": "code",
   "execution_count": 2,
   "metadata": {
    "_cell_guid": "79c7e3d0-c299-4dcb-8224-4455121ee9b0",
    "_uuid": "d629ff2d2480ee46fbb7e2d37f6b5fab8052498a",
    "execution": {
     "iopub.execute_input": "2020-09-16T21:28:35.760472Z",
     "iopub.status.busy": "2020-09-16T21:28:35.759562Z",
     "iopub.status.idle": "2020-09-16T21:28:35.766135Z",
     "shell.execute_reply": "2020-09-16T21:28:35.765618Z"
    },
    "papermill": {
     "duration": 0.057036,
     "end_time": "2020-09-16T21:28:35.766248",
     "exception": false,
     "start_time": "2020-09-16T21:28:35.709212",
     "status": "completed"
    },
    "tags": []
   },
   "outputs": [
    {
     "data": {
      "text/plain": [
       "['depression-anxiety-tweets', 'depression-and-anxiety-comments']"
      ]
     },
     "execution_count": 2,
     "metadata": {},
     "output_type": "execute_result"
    }
   ],
   "source": [
    "os.listdir('/kaggle/input')"
   ]
  },
  {
   "cell_type": "code",
   "execution_count": 3,
   "metadata": {
    "execution": {
     "iopub.execute_input": "2020-09-16T21:28:35.864805Z",
     "iopub.status.busy": "2020-09-16T21:28:35.864070Z",
     "iopub.status.idle": "2020-09-16T21:28:36.404235Z",
     "shell.execute_reply": "2020-09-16T21:28:36.403688Z"
    },
    "papermill": {
     "duration": 0.591488,
     "end_time": "2020-09-16T21:28:36.404352",
     "exception": false,
     "start_time": "2020-09-16T21:28:35.812864",
     "status": "completed"
    },
    "tags": []
   },
   "outputs": [
    {
     "data": {
      "text/html": [
       "<div>\n",
       "<style scoped>\n",
       "    .dataframe tbody tr th:only-of-type {\n",
       "        vertical-align: middle;\n",
       "    }\n",
       "\n",
       "    .dataframe tbody tr th {\n",
       "        vertical-align: top;\n",
       "    }\n",
       "\n",
       "    .dataframe thead th {\n",
       "        text-align: right;\n",
       "    }\n",
       "</style>\n",
       "<table border=\"1\" class=\"dataframe\">\n",
       "  <thead>\n",
       "    <tr style=\"text-align: right;\">\n",
       "      <th></th>\n",
       "      <th>Comments Text</th>\n",
       "    </tr>\n",
       "  </thead>\n",
       "  <tbody>\n",
       "    <tr>\n",
       "      <th>0</th>\n",
       "      <td>So, when you ask what the two illnesses are......</td>\n",
       "    </tr>\n",
       "    <tr>\n",
       "      <th>1</th>\n",
       "      <td>In addition, people with BPD quite often have ...</td>\n",
       "    </tr>\n",
       "    <tr>\n",
       "      <th>2</th>\n",
       "      <td>Borderline Personality Disorder, like all othe...</td>\n",
       "    </tr>\n",
       "    <tr>\n",
       "      <th>3</th>\n",
       "      <td>LONG ANSWER: Bipolar disease is caused by a ch...</td>\n",
       "    </tr>\n",
       "    <tr>\n",
       "      <th>4</th>\n",
       "      <td>Well think of bipolar as a rollar coaster you ...</td>\n",
       "    </tr>\n",
       "  </tbody>\n",
       "</table>\n",
       "</div>"
      ],
      "text/plain": [
       "                                       Comments Text\n",
       "0  So, when you ask what the two illnesses are......\n",
       "1  In addition, people with BPD quite often have ...\n",
       "2  Borderline Personality Disorder, like all othe...\n",
       "3  LONG ANSWER: Bipolar disease is caused by a ch...\n",
       "4  Well think of bipolar as a rollar coaster you ..."
      ]
     },
     "execution_count": 3,
     "metadata": {},
     "output_type": "execute_result"
    }
   ],
   "source": [
    "dataset = pd.read_excel('../input/depression-and-anxiety-comments/Depression  Anxiety Facebook page Comments Text.xlsx')\n",
    "dataset.head()"
   ]
  },
  {
   "cell_type": "code",
   "execution_count": 4,
   "metadata": {
    "execution": {
     "iopub.execute_input": "2020-09-16T21:28:36.504334Z",
     "iopub.status.busy": "2020-09-16T21:28:36.503549Z",
     "iopub.status.idle": "2020-09-16T21:28:36.506784Z",
     "shell.execute_reply": "2020-09-16T21:28:36.507216Z"
    },
    "papermill": {
     "duration": 0.055125,
     "end_time": "2020-09-16T21:28:36.507345",
     "exception": false,
     "start_time": "2020-09-16T21:28:36.452220",
     "status": "completed"
    },
    "tags": []
   },
   "outputs": [
    {
     "data": {
      "text/plain": [
       "(7145, 1)"
      ]
     },
     "execution_count": 4,
     "metadata": {},
     "output_type": "execute_result"
    }
   ],
   "source": [
    "dataset.shape"
   ]
  },
  {
   "cell_type": "code",
   "execution_count": 5,
   "metadata": {
    "execution": {
     "iopub.execute_input": "2020-09-16T21:28:36.612583Z",
     "iopub.status.busy": "2020-09-16T21:28:36.611761Z",
     "iopub.status.idle": "2020-09-16T21:28:36.615187Z",
     "shell.execute_reply": "2020-09-16T21:28:36.615657Z"
    },
    "papermill": {
     "duration": 0.060344,
     "end_time": "2020-09-16T21:28:36.615807",
     "exception": false,
     "start_time": "2020-09-16T21:28:36.555463",
     "status": "completed"
    },
    "tags": []
   },
   "outputs": [
    {
     "data": {
      "text/plain": [
       "Comments Text    0\n",
       "dtype: int64"
      ]
     },
     "execution_count": 5,
     "metadata": {},
     "output_type": "execute_result"
    }
   ],
   "source": [
    "dataset.isnull().sum()"
   ]
  },
  {
   "cell_type": "markdown",
   "metadata": {
    "papermill": {
     "duration": 0.048567,
     "end_time": "2020-09-16T21:28:36.713047",
     "exception": false,
     "start_time": "2020-09-16T21:28:36.664480",
     "status": "completed"
    },
    "tags": []
   },
   "source": [
    "Our first dataset contains 7145 entries without null values"
   ]
  },
  {
   "cell_type": "markdown",
   "metadata": {
    "papermill": {
     "duration": 0.047925,
     "end_time": "2020-09-16T21:28:36.809688",
     "exception": false,
     "start_time": "2020-09-16T21:28:36.761763",
     "status": "completed"
    },
    "tags": []
   },
   "source": [
    "# Data preprocessing for Topic Modeling\n",
    "\n",
    "We need to apply some NLP tasks to prepare the data to be labeled. These are the main tasks:\n",
    "\n",
    "* Remove URLs\n",
    "* Remove emails\n",
    "* Lowercase all text\n",
    "* Remove punctuation signs\n",
    "* Remove stop words\n",
    "* Lemmatize text"
   ]
  },
  {
   "cell_type": "code",
   "execution_count": 6,
   "metadata": {
    "execution": {
     "iopub.execute_input": "2020-09-16T21:28:36.930233Z",
     "iopub.status.busy": "2020-09-16T21:28:36.914789Z",
     "iopub.status.idle": "2020-09-16T21:28:37.744429Z",
     "shell.execute_reply": "2020-09-16T21:28:37.744947Z"
    },
    "papermill": {
     "duration": 0.886475,
     "end_time": "2020-09-16T21:28:37.745084",
     "exception": false,
     "start_time": "2020-09-16T21:28:36.858609",
     "status": "completed"
    },
    "tags": []
   },
   "outputs": [
    {
     "data": {
      "text/html": [
       "<div>\n",
       "<style scoped>\n",
       "    .dataframe tbody tr th:only-of-type {\n",
       "        vertical-align: middle;\n",
       "    }\n",
       "\n",
       "    .dataframe tbody tr th {\n",
       "        vertical-align: top;\n",
       "    }\n",
       "\n",
       "    .dataframe thead th {\n",
       "        text-align: right;\n",
       "    }\n",
       "</style>\n",
       "<table border=\"1\" class=\"dataframe\">\n",
       "  <thead>\n",
       "    <tr style=\"text-align: right;\">\n",
       "      <th></th>\n",
       "      <th>Comments Text</th>\n",
       "    </tr>\n",
       "  </thead>\n",
       "  <tbody>\n",
       "    <tr>\n",
       "      <th>0</th>\n",
       "      <td>So, when you ask what the two illnesses are......</td>\n",
       "    </tr>\n",
       "    <tr>\n",
       "      <th>1</th>\n",
       "      <td>In addition, people with BPD quite often have ...</td>\n",
       "    </tr>\n",
       "    <tr>\n",
       "      <th>2</th>\n",
       "      <td>Borderline Personality Disorder, like all othe...</td>\n",
       "    </tr>\n",
       "    <tr>\n",
       "      <th>3</th>\n",
       "      <td>LONG ANSWER: Bipolar disease is caused by a ch...</td>\n",
       "    </tr>\n",
       "    <tr>\n",
       "      <th>4</th>\n",
       "      <td>Well think of bipolar as a rollar coaster you ...</td>\n",
       "    </tr>\n",
       "  </tbody>\n",
       "</table>\n",
       "</div>"
      ],
      "text/plain": [
       "                                       Comments Text\n",
       "0  So, when you ask what the two illnesses are......\n",
       "1  In addition, people with BPD quite often have ...\n",
       "2  Borderline Personality Disorder, like all othe...\n",
       "3  LONG ANSWER: Bipolar disease is caused by a ch...\n",
       "4  Well think of bipolar as a rollar coaster you ..."
      ]
     },
     "execution_count": 6,
     "metadata": {},
     "output_type": "execute_result"
    }
   ],
   "source": [
    "#Removing URLs with a regular expression\n",
    "\n",
    "def remove_urls(text):\n",
    "    url_pattern = re.compile(r'https?://\\S+|www\\.\\S+')\n",
    "    return url_pattern.sub(r'', text)\n",
    "\n",
    "for i in range(len(dataset)):\n",
    "  dataset.at[i,'Comments Text'] = remove_urls(dataset.iloc[i]['Comments Text'])\n",
    "dataset.head()"
   ]
  },
  {
   "cell_type": "code",
   "execution_count": 7,
   "metadata": {
    "execution": {
     "iopub.execute_input": "2020-09-16T21:28:37.871974Z",
     "iopub.status.busy": "2020-09-16T21:28:37.866606Z",
     "iopub.status.idle": "2020-09-16T21:28:38.277192Z",
     "shell.execute_reply": "2020-09-16T21:28:38.277716Z"
    },
    "papermill": {
     "duration": 0.483445,
     "end_time": "2020-09-16T21:28:38.277855",
     "exception": false,
     "start_time": "2020-09-16T21:28:37.794410",
     "status": "completed"
    },
    "tags": []
   },
   "outputs": [
    {
     "name": "stdout",
     "output_type": "stream",
     "text": [
      "['So, when you ask what the two illnesses are...theyre similar in that they tend to have moodiness involved, impulsivity and self-damaging behaviors for compensatory measures. Otherwise, theyre not really that similar, but they do seem to \"like\" one another and often show up in the same person...making their lives chaotic, difficult, dysfunctional, and intense. So, if your friend is concerned that they may have one (or both) of these illnesses, they should not be ashamed. Its definitely not their fault. They should, instead, get help from a professional...and INSIST that they are treated appropriately with the correct types of therapy and medication.']\n"
     ]
    }
   ],
   "source": [
    "# Convert to list\n",
    "data = dataset['Comments Text'].values.tolist()\n",
    "\n",
    "# Remove Emails\n",
    "data = [re.sub('\\S*@\\S*\\s?', '', sent) for sent in data]\n",
    "\n",
    "# Remove new line characters\n",
    "data = [re.sub('\\s+', ' ', sent) for sent in data]\n",
    "\n",
    "# Remove distracting single quotes\n",
    "data = [re.sub(\"\\'\", \"\", sent) for sent in data]\n",
    "\n",
    "print(data[:1])"
   ]
  },
  {
   "cell_type": "code",
   "execution_count": 8,
   "metadata": {
    "execution": {
     "iopub.execute_input": "2020-09-16T21:28:38.396762Z",
     "iopub.status.busy": "2020-09-16T21:28:38.386546Z",
     "iopub.status.idle": "2020-09-16T21:28:40.412415Z",
     "shell.execute_reply": "2020-09-16T21:28:40.413184Z"
    },
    "papermill": {
     "duration": 2.085125,
     "end_time": "2020-09-16T21:28:40.413358",
     "exception": false,
     "start_time": "2020-09-16T21:28:38.328233",
     "status": "completed"
    },
    "tags": []
   },
   "outputs": [
    {
     "name": "stdout",
     "output_type": "stream",
     "text": [
      "[['so', 'when', 'you', 'ask', 'what', 'the', 'two', 'illnesses', 'are', 'theyre', 'similar', 'in', 'that', 'they', 'tend', 'to', 'have', 'moodiness', 'involved', 'impulsivity', 'and', 'self', 'damaging', 'behaviors', 'for', 'compensatory', 'measures', 'otherwise', 'theyre', 'not', 'really', 'that', 'similar', 'but', 'they', 'do', 'seem', 'to', 'like', 'one', 'another', 'and', 'often', 'show', 'up', 'in', 'the', 'same', 'person', 'making', 'their', 'lives', 'chaotic', 'difficult', 'dysfunctional', 'and', 'intense', 'so', 'if', 'your', 'friend', 'is', 'concerned', 'that', 'they', 'may', 'have', 'one', 'or', 'both', 'of', 'these', 'illnesses', 'they', 'should', 'not', 'be', 'ashamed', 'its', 'definitely', 'not', 'their', 'fault', 'they', 'should', 'instead', 'get', 'help', 'from', 'professional', 'and', 'insist', 'that', 'they', 'are', 'treated', 'appropriately', 'with', 'the', 'correct', 'types', 'of', 'therapy', 'and', 'medication']]\n"
     ]
    }
   ],
   "source": [
    "def sent_to_words(sentences):\n",
    "    for sentence in sentences:\n",
    "        yield(gensim.utils.simple_preprocess(str(sentence), deacc=True))  # deacc=True removes punctuations\n",
    "\n",
    "data_words = list(sent_to_words(data))\n",
    "\n",
    "print(data_words[:1])"
   ]
  },
  {
   "cell_type": "code",
   "execution_count": 9,
   "metadata": {
    "execution": {
     "iopub.execute_input": "2020-09-16T21:28:40.556621Z",
     "iopub.status.busy": "2020-09-16T21:28:40.546424Z",
     "iopub.status.idle": "2020-09-16T21:28:51.368052Z",
     "shell.execute_reply": "2020-09-16T21:28:51.368512Z"
    },
    "papermill": {
     "duration": 10.905089,
     "end_time": "2020-09-16T21:28:51.368654",
     "exception": false,
     "start_time": "2020-09-16T21:28:40.463565",
     "status": "completed"
    },
    "tags": []
   },
   "outputs": [
    {
     "name": "stdout",
     "output_type": "stream",
     "text": [
      "['so', 'when', 'you', 'ask', 'what', 'the', 'two', 'illnesses', 'are', 'theyre', 'similar', 'in', 'that', 'they', 'tend', 'to', 'have', 'moodiness', 'involved', 'impulsivity', 'and', 'self', 'damaging', 'behaviors', 'for', 'compensatory', 'measures', 'otherwise', 'theyre', 'not', 'really', 'that', 'similar', 'but', 'they', 'do', 'seem', 'to', 'like', 'one', 'another', 'and', 'often', 'show', 'up', 'in', 'the', 'same', 'person', 'making', 'their', 'lives', 'chaotic', 'difficult', 'dysfunctional', 'and', 'intense', 'so', 'if', 'your', 'friend', 'is', 'concerned', 'that', 'they', 'may', 'have', 'one', 'or', 'both', 'of', 'these', 'illnesses', 'they', 'should', 'not', 'be', 'ashamed', 'its', 'definitely', 'not', 'their', 'fault', 'they', 'should', 'instead', 'get', 'help', 'from', 'professional', 'and', 'insist', 'that', 'they', 'are', 'treated', 'appropriately', 'with', 'the', 'correct', 'types', 'of', 'therapy', 'and', 'medication']\n"
     ]
    }
   ],
   "source": [
    "# Build the bigram and trigram models\n",
    "bigram = gensim.models.Phrases(data_words, min_count=5, threshold=100) # higher threshold fewer phrases.\n",
    "trigram = gensim.models.Phrases(bigram[data_words], threshold=100)  \n",
    "\n",
    "# Faster way to get a sentence clubbed as a trigram/bigram\n",
    "bigram_mod = gensim.models.phrases.Phraser(bigram)\n",
    "trigram_mod = gensim.models.phrases.Phraser(trigram)\n",
    "\n",
    "# See trigram example\n",
    "print(trigram_mod[bigram_mod[data_words[0]]])"
   ]
  },
  {
   "cell_type": "code",
   "execution_count": 10,
   "metadata": {
    "execution": {
     "iopub.execute_input": "2020-09-16T21:28:51.481398Z",
     "iopub.status.busy": "2020-09-16T21:28:51.480652Z",
     "iopub.status.idle": "2020-09-16T21:28:51.488482Z",
     "shell.execute_reply": "2020-09-16T21:28:51.487993Z"
    },
    "papermill": {
     "duration": 0.068795,
     "end_time": "2020-09-16T21:28:51.488587",
     "exception": false,
     "start_time": "2020-09-16T21:28:51.419792",
     "status": "completed"
    },
    "tags": []
   },
   "outputs": [],
   "source": [
    "# Define functions for stopwords, bigrams, trigrams and lemmatization\n",
    "\n",
    "stop_words = set(stopwords.words(\"english\"))\n",
    "\n",
    "\n",
    "def remove_stopwords(texts):\n",
    "    return [[word for word in simple_preprocess(str(doc)) if word not in stop_words] for doc in texts]\n",
    "\n",
    "def make_bigrams(texts):\n",
    "    return [bigram_mod[doc] for doc in texts]\n",
    "\n",
    "def make_trigrams(texts):\n",
    "    return [trigram_mod[bigram_mod[doc]] for doc in texts]\n",
    "\n",
    "def lemmatization(texts, allowed_postags=['NOUN', 'ADJ', 'VERB', 'ADV']):\n",
    "    texts_out = []\n",
    "    for sent in texts:\n",
    "        doc = nlp(\" \".join(sent)) \n",
    "        texts_out.append([token.lemma_ for token in doc if token.pos_ in allowed_postags])\n",
    "    return texts_out"
   ]
  },
  {
   "cell_type": "code",
   "execution_count": 11,
   "metadata": {
    "execution": {
     "iopub.execute_input": "2020-09-16T21:28:51.646758Z",
     "iopub.status.busy": "2020-09-16T21:28:51.636474Z",
     "iopub.status.idle": "2020-09-16T21:29:20.021310Z",
     "shell.execute_reply": "2020-09-16T21:29:20.022131Z"
    },
    "papermill": {
     "duration": 28.466981,
     "end_time": "2020-09-16T21:29:20.022283",
     "exception": false,
     "start_time": "2020-09-16T21:28:51.555302",
     "status": "completed"
    },
    "tags": []
   },
   "outputs": [
    {
     "name": "stdout",
     "output_type": "stream",
     "text": [
      "[['ask', 'illness', 'be', 'similar', 'tend', 'moodiness', 'involved', 'impulsivity', 'self', 'damaging', 'behavior', 'compensatory', 'measure', 'otherwise', 'be', 'really', 'similar', 'seem', 'one', 'often', 'show', 'person', 'make', 'live', 'chaotic', 'difficult', 'dysfunctional', 'intense', 'friend', 'concern', 'may', 'illness', 'ashamed', 'definitely', 'fault', 'instead', 'get', 'help', 'professional', 'insist', 'treat', 'appropriately', 'correct', 'type', 'therapy', 'medication']]\n"
     ]
    }
   ],
   "source": [
    "# Remove Stop Words\n",
    "data_words_nostops = remove_stopwords(data_words)\n",
    "\n",
    "# Form Bigrams\n",
    "data_words_bigrams = make_bigrams(data_words_nostops)\n",
    "\n",
    "# Initialize spacy 'en' model, keeping only tagger component (for efficiency)\n",
    "# python3 -m spacy download en\n",
    "nlp = spacy.load('en', disable=['parser', 'ner'])\n",
    "\n",
    "# Do lemmatization keeping only noun, adj, vb, adv\n",
    "data_lemmatized = lemmatization(data_words_bigrams, allowed_postags=['NOUN', 'ADJ', 'VERB', 'ADV'])\n",
    "\n",
    "print(data_lemmatized[:1])"
   ]
  },
  {
   "cell_type": "code",
   "execution_count": 12,
   "metadata": {
    "execution": {
     "iopub.execute_input": "2020-09-16T21:29:20.140178Z",
     "iopub.status.busy": "2020-09-16T21:29:20.134990Z",
     "iopub.status.idle": "2020-09-16T21:29:20.149196Z",
     "shell.execute_reply": "2020-09-16T21:29:20.149758Z"
    },
    "papermill": {
     "duration": 0.074821,
     "end_time": "2020-09-16T21:29:20.149895",
     "exception": false,
     "start_time": "2020-09-16T21:29:20.075074",
     "status": "completed"
    },
    "tags": []
   },
   "outputs": [],
   "source": [
    "dataset = []\n",
    "for i in range(len(data_lemmatized)):\n",
    "    dataset.append(\" \".join(data_lemmatized[i]))\n",
    "dataset = pd.Series(dataset)"
   ]
  },
  {
   "cell_type": "markdown",
   "metadata": {
    "papermill": {
     "duration": 0.051834,
     "end_time": "2020-09-16T21:29:20.254473",
     "exception": false,
     "start_time": "2020-09-16T21:29:20.202639",
     "status": "completed"
    },
    "tags": []
   },
   "source": [
    "# Data Vectorization for Topic Modeling\n",
    "\n",
    "This step is crucial, otherwise our models that can only interpret numerical data won't be able to process our text, and we'll do it in a very particular way: we'll implement TFIDF vectorizer and CountVectorizer. The reason why we do this is to then compare NMF and LDA models' topics."
   ]
  },
  {
   "cell_type": "code",
   "execution_count": 13,
   "metadata": {
    "execution": {
     "iopub.execute_input": "2020-09-16T21:29:20.387429Z",
     "iopub.status.busy": "2020-09-16T21:29:20.382406Z",
     "iopub.status.idle": "2020-09-16T21:29:22.403034Z",
     "shell.execute_reply": "2020-09-16T21:29:22.403568Z"
    },
    "papermill": {
     "duration": 2.097207,
     "end_time": "2020-09-16T21:29:22.403751",
     "exception": false,
     "start_time": "2020-09-16T21:29:20.306544",
     "status": "completed"
    },
    "tags": []
   },
   "outputs": [],
   "source": [
    "no_features = 15000\n",
    "\n",
    "# NMF is able to use tf-idf\n",
    "tfidf_vectorizer = TfidfVectorizer(ngram_range=(1,3), max_features=no_features)\n",
    "tfidf = tfidf_vectorizer.fit_transform(dataset)\n",
    "tfidf_feature_names = tfidf_vectorizer.get_feature_names()\n",
    "\n",
    "# LDA can only use raw term counts for LDA because it is a probabilistic graphical model\n",
    "tf_vectorizer = CountVectorizer(min_df=0.05,max_features=no_features)\n",
    "tf = tf_vectorizer.fit_transform(dataset)\n",
    "tf_feature_names = tf_vectorizer.get_feature_names()"
   ]
  },
  {
   "cell_type": "markdown",
   "metadata": {
    "papermill": {
     "duration": 0.052209,
     "end_time": "2020-09-16T21:29:22.508435",
     "exception": false,
     "start_time": "2020-09-16T21:29:22.456226",
     "status": "completed"
    },
    "tags": []
   },
   "source": [
    "# Model training\n",
    "\n",
    "We'll explore how LDA and NMF can create the topics and depending on the outcomes we'll select the proper one for this project. Essentially we're looking for focused topics, otherwise the purpose of this project won't be reached.\n",
    "\n",
    "The crucial difference between both models is that LDA adds a Dirichlet prior on top of the data generating process, meaning NMF qualitatively leads to worse mixtures, which could affect our dataset's topic quality. \n",
    "\n",
    "Regarding the library we'll be using: Scikit-Learn - the reasons are more than obvious, even when Gensim has more capabilities, it's also more complex and much more slower - we're looking to keep the things as simpler as possible and get results as quick as possible.\n",
    "\n",
    "The outcome of this stage will be the original dataframe with its labels: 1 for depression/anxiety comments and 0 for other type of comments."
   ]
  },
  {
   "cell_type": "code",
   "execution_count": 14,
   "metadata": {
    "execution": {
     "iopub.execute_input": "2020-09-16T21:29:22.620229Z",
     "iopub.status.busy": "2020-09-16T21:29:22.619331Z",
     "iopub.status.idle": "2020-09-16T21:29:42.797401Z",
     "shell.execute_reply": "2020-09-16T21:29:42.796853Z"
    },
    "papermill": {
     "duration": 20.236962,
     "end_time": "2020-09-16T21:29:42.797514",
     "exception": false,
     "start_time": "2020-09-16T21:29:22.560552",
     "status": "completed"
    },
    "tags": []
   },
   "outputs": [],
   "source": [
    "no_topics = 2\n",
    "\n",
    "# Run NMF\n",
    "nmf = NMF(n_components=no_topics, random_state=1, alpha=.1, l1_ratio=.5,max_iter=10000).fit(tfidf)\n",
    "\n",
    "# Run LDA\n",
    "lda = LatentDirichletAllocation(n_components=no_topics, max_iter=10, learning_method='online', learning_offset=50.,random_state=0).fit(tf)"
   ]
  },
  {
   "cell_type": "markdown",
   "metadata": {
    "papermill": {
     "duration": 0.051404,
     "end_time": "2020-09-16T21:29:42.901646",
     "exception": false,
     "start_time": "2020-09-16T21:29:42.850242",
     "status": "completed"
    },
    "tags": []
   },
   "source": [
    "# Topics' Comparison\n",
    "\n",
    "Let's see how coherent the topics are for each model. Remember we're looking for specifity, otherwise the classifier would get wrong results."
   ]
  },
  {
   "cell_type": "code",
   "execution_count": 15,
   "metadata": {
    "execution": {
     "iopub.execute_input": "2020-09-16T21:29:43.014803Z",
     "iopub.status.busy": "2020-09-16T21:29:43.014159Z",
     "iopub.status.idle": "2020-09-16T21:29:43.023515Z",
     "shell.execute_reply": "2020-09-16T21:29:43.024089Z"
    },
    "papermill": {
     "duration": 0.070316,
     "end_time": "2020-09-16T21:29:43.024220",
     "exception": false,
     "start_time": "2020-09-16T21:29:42.953904",
     "status": "completed"
    },
    "tags": []
   },
   "outputs": [
    {
     "name": "stdout",
     "output_type": "stream",
     "text": [
      "NMF\n",
      "Topic 0:\n",
      "be, go, help, take, feel, get, know, time, med, make, try, thing, day, work, would, people, need, have, think, life, good, want, year, say, find\n",
      "Topic 1:\n",
      "anxiety, depression, depression anxiety, bipolar, anxiety depression, take, bipolar depression anxiety, bipolar depression, help anxiety, severe, disorder, help, work, anxiety attack, attack, also, severe anxiety, suffer, bipolar anxiety, symptom, anxiety disorder, med, anxiety take, high, anxiety med\n",
      "LDA\n",
      "Topic 0:\n",
      "be, feel, go, know, day, people, get, time, think, say, life, want, thing, have, make, would, struggle, even, love, try, can, understand, tell, good, way\n",
      "Topic 1:\n",
      "anxiety, take, help, med, work, depression, also, bipolar, get, need, find, medication, try, doctor, year, may, make, well, go, use, disorder, sleep, good, time, would\n"
     ]
    }
   ],
   "source": [
    "def display_topics(model, feature_names, no_top_words):\n",
    "    for topic_idx, topic in enumerate(model.components_):\n",
    "        print(\"Topic %d:\" % (topic_idx))\n",
    "        print(\", \".join([feature_names[i] for i in topic.argsort()[:-no_top_words - 1:-1]]))\n",
    "\n",
    "no_top_words = 25\n",
    "print('NMF')\n",
    "display_topics(nmf, tfidf_feature_names, no_top_words)\n",
    "print('LDA')\n",
    "display_topics(lda, tf_feature_names, no_top_words)"
   ]
  },
  {
   "cell_type": "markdown",
   "metadata": {
    "papermill": {
     "duration": 0.052092,
     "end_time": "2020-09-16T21:29:43.128531",
     "exception": false,
     "start_time": "2020-09-16T21:29:43.076439",
     "status": "completed"
    },
    "tags": []
   },
   "source": [
    "As you can see, NMF delivers better term mixtures for the topic 1 which is the one that cares us the most. Actually, if you read carefully the topic 1 you'll find out that it's what we were looking for since the beginning. Just because NMF is able to work with ngrams is the reason why we get better results and delivers depressive/anxious actual mixtures and not just terms about it.\n",
    "\n",
    "Let's go more in depth and get all #1 labels for both models and see which one is more coherent."
   ]
  },
  {
   "cell_type": "markdown",
   "metadata": {
    "papermill": {
     "duration": 0.05206,
     "end_time": "2020-09-16T21:29:43.233373",
     "exception": false,
     "start_time": "2020-09-16T21:29:43.181313",
     "status": "completed"
    },
    "tags": []
   },
   "source": [
    "# Dominant Topics' Extraction\n",
    "\n",
    "Essentially what we'll do is to attach every document to its respective label."
   ]
  },
  {
   "cell_type": "code",
   "execution_count": 16,
   "metadata": {
    "execution": {
     "iopub.execute_input": "2020-09-16T21:29:43.346790Z",
     "iopub.status.busy": "2020-09-16T21:29:43.345750Z",
     "iopub.status.idle": "2020-09-16T21:29:44.882654Z",
     "shell.execute_reply": "2020-09-16T21:29:44.882099Z"
    },
    "papermill": {
     "duration": 1.597102,
     "end_time": "2020-09-16T21:29:44.882778",
     "exception": false,
     "start_time": "2020-09-16T21:29:43.285676",
     "status": "completed"
    },
    "tags": []
   },
   "outputs": [],
   "source": [
    "# Create Document — Topic Matrix\n",
    "lda_output = lda.transform(tf)\n",
    "# column names\n",
    "topicnames = ['Topic' + str(i) for i in range(lda.n_components)]\n",
    "# index names\n",
    "docnames = ['Doc' + str(i) for i in range(len(dataset))]\n",
    "# Make the pandas dataframe\n",
    "df_document_topic = pd.DataFrame(np.round(lda_output, 2), columns=topicnames, index=docnames)\n",
    "# Get dominant topic for each document\n",
    "dominant_topic = np.argmax(df_document_topic.values, axis=1)\n",
    "df_document_topic['dominant_topic'] = dominant_topic\n",
    "\n",
    "df_document_topics = df_document_topic\n",
    "dataset2 = pd.read_excel('../input/depression-and-anxiety-comments/Depression  Anxiety Facebook page Comments Text.xlsx')\n",
    "df_document_topics.reset_index(inplace=True,drop=True)\n",
    "dataset2['label'] = df_document_topics['dominant_topic']"
   ]
  },
  {
   "cell_type": "code",
   "execution_count": 17,
   "metadata": {
    "execution": {
     "iopub.execute_input": "2020-09-16T21:29:44.997949Z",
     "iopub.status.busy": "2020-09-16T21:29:44.997089Z",
     "iopub.status.idle": "2020-09-16T21:29:45.000436Z",
     "shell.execute_reply": "2020-09-16T21:29:45.000936Z"
    },
    "papermill": {
     "duration": 0.065638,
     "end_time": "2020-09-16T21:29:45.001061",
     "exception": false,
     "start_time": "2020-09-16T21:29:44.935423",
     "status": "completed"
    },
    "tags": []
   },
   "outputs": [
    {
     "data": {
      "text/html": [
       "<div>\n",
       "<style scoped>\n",
       "    .dataframe tbody tr th:only-of-type {\n",
       "        vertical-align: middle;\n",
       "    }\n",
       "\n",
       "    .dataframe tbody tr th {\n",
       "        vertical-align: top;\n",
       "    }\n",
       "\n",
       "    .dataframe thead th {\n",
       "        text-align: right;\n",
       "    }\n",
       "</style>\n",
       "<table border=\"1\" class=\"dataframe\">\n",
       "  <thead>\n",
       "    <tr style=\"text-align: right;\">\n",
       "      <th></th>\n",
       "      <th>Comments Text</th>\n",
       "      <th>label</th>\n",
       "    </tr>\n",
       "  </thead>\n",
       "  <tbody>\n",
       "    <tr>\n",
       "      <th>0</th>\n",
       "      <td>So, when you ask what the two illnesses are......</td>\n",
       "      <td>0</td>\n",
       "    </tr>\n",
       "    <tr>\n",
       "      <th>1</th>\n",
       "      <td>In addition, people with BPD quite often have ...</td>\n",
       "      <td>0</td>\n",
       "    </tr>\n",
       "    <tr>\n",
       "      <th>2</th>\n",
       "      <td>Borderline Personality Disorder, like all othe...</td>\n",
       "      <td>0</td>\n",
       "    </tr>\n",
       "    <tr>\n",
       "      <th>3</th>\n",
       "      <td>LONG ANSWER: Bipolar disease is caused by a ch...</td>\n",
       "      <td>1</td>\n",
       "    </tr>\n",
       "    <tr>\n",
       "      <th>4</th>\n",
       "      <td>Well think of bipolar as a rollar coaster you ...</td>\n",
       "      <td>0</td>\n",
       "    </tr>\n",
       "  </tbody>\n",
       "</table>\n",
       "</div>"
      ],
      "text/plain": [
       "                                       Comments Text  label\n",
       "0  So, when you ask what the two illnesses are......      0\n",
       "1  In addition, people with BPD quite often have ...      0\n",
       "2  Borderline Personality Disorder, like all othe...      0\n",
       "3  LONG ANSWER: Bipolar disease is caused by a ch...      1\n",
       "4  Well think of bipolar as a rollar coaster you ...      0"
      ]
     },
     "execution_count": 17,
     "metadata": {},
     "output_type": "execute_result"
    }
   ],
   "source": [
    "dataset2.head()"
   ]
  },
  {
   "cell_type": "code",
   "execution_count": 18,
   "metadata": {
    "execution": {
     "iopub.execute_input": "2020-09-16T21:29:45.116626Z",
     "iopub.status.busy": "2020-09-16T21:29:45.115721Z",
     "iopub.status.idle": "2020-09-16T21:29:45.475880Z",
     "shell.execute_reply": "2020-09-16T21:29:45.474454Z"
    },
    "papermill": {
     "duration": 0.421761,
     "end_time": "2020-09-16T21:29:45.476003",
     "exception": false,
     "start_time": "2020-09-16T21:29:45.054242",
     "status": "completed"
    },
    "tags": []
   },
   "outputs": [],
   "source": [
    "# Create Document — Topic Matrix\n",
    "nmf_output = nmf.transform(tfidf)\n",
    "# column names\n",
    "topicnames = ['Topic' + str(i) for i in range(nmf.n_components)]\n",
    "# index names\n",
    "docnames = ['Doc' + str(i) for i in range(len(dataset))]\n",
    "# Make the pandas dataframe\n",
    "df_document_topic = pd.DataFrame(np.round(nmf_output, 2), columns=topicnames, index=docnames)\n",
    "# Get dominant topic for each document\n",
    "dominant_topic = np.argmax(df_document_topic.values, axis=1)\n",
    "df_document_topic['dominant_topic'] = dominant_topic\n",
    "\n",
    "df_document_topics = df_document_topic\n",
    "dataset1 = pd.read_excel('../input/depression-and-anxiety-comments/Depression  Anxiety Facebook page Comments Text.xlsx')\n",
    "df_document_topics.reset_index(inplace=True,drop=True)\n",
    "dataset1['label'] = df_document_topics['dominant_topic']"
   ]
  },
  {
   "cell_type": "code",
   "execution_count": 19,
   "metadata": {
    "execution": {
     "iopub.execute_input": "2020-09-16T21:29:45.593214Z",
     "iopub.status.busy": "2020-09-16T21:29:45.592356Z",
     "iopub.status.idle": "2020-09-16T21:29:45.596369Z",
     "shell.execute_reply": "2020-09-16T21:29:45.595792Z"
    },
    "papermill": {
     "duration": 0.066653,
     "end_time": "2020-09-16T21:29:45.596465",
     "exception": false,
     "start_time": "2020-09-16T21:29:45.529812",
     "status": "completed"
    },
    "tags": []
   },
   "outputs": [
    {
     "data": {
      "text/html": [
       "<div>\n",
       "<style scoped>\n",
       "    .dataframe tbody tr th:only-of-type {\n",
       "        vertical-align: middle;\n",
       "    }\n",
       "\n",
       "    .dataframe tbody tr th {\n",
       "        vertical-align: top;\n",
       "    }\n",
       "\n",
       "    .dataframe thead th {\n",
       "        text-align: right;\n",
       "    }\n",
       "</style>\n",
       "<table border=\"1\" class=\"dataframe\">\n",
       "  <thead>\n",
       "    <tr style=\"text-align: right;\">\n",
       "      <th></th>\n",
       "      <th>Comments Text</th>\n",
       "      <th>label</th>\n",
       "    </tr>\n",
       "  </thead>\n",
       "  <tbody>\n",
       "    <tr>\n",
       "      <th>0</th>\n",
       "      <td>So, when you ask what the two illnesses are......</td>\n",
       "      <td>0</td>\n",
       "    </tr>\n",
       "    <tr>\n",
       "      <th>1</th>\n",
       "      <td>In addition, people with BPD quite often have ...</td>\n",
       "      <td>0</td>\n",
       "    </tr>\n",
       "    <tr>\n",
       "      <th>2</th>\n",
       "      <td>Borderline Personality Disorder, like all othe...</td>\n",
       "      <td>0</td>\n",
       "    </tr>\n",
       "    <tr>\n",
       "      <th>3</th>\n",
       "      <td>LONG ANSWER: Bipolar disease is caused by a ch...</td>\n",
       "      <td>0</td>\n",
       "    </tr>\n",
       "    <tr>\n",
       "      <th>4</th>\n",
       "      <td>Well think of bipolar as a rollar coaster you ...</td>\n",
       "      <td>0</td>\n",
       "    </tr>\n",
       "  </tbody>\n",
       "</table>\n",
       "</div>"
      ],
      "text/plain": [
       "                                       Comments Text  label\n",
       "0  So, when you ask what the two illnesses are......      0\n",
       "1  In addition, people with BPD quite often have ...      0\n",
       "2  Borderline Personality Disorder, like all othe...      0\n",
       "3  LONG ANSWER: Bipolar disease is caused by a ch...      0\n",
       "4  Well think of bipolar as a rollar coaster you ...      0"
      ]
     },
     "execution_count": 19,
     "metadata": {},
     "output_type": "execute_result"
    }
   ],
   "source": [
    "dataset1.head()"
   ]
  },
  {
   "cell_type": "code",
   "execution_count": 20,
   "metadata": {
    "execution": {
     "iopub.execute_input": "2020-09-16T21:29:45.709881Z",
     "iopub.status.busy": "2020-09-16T21:29:45.709223Z",
     "iopub.status.idle": "2020-09-16T21:29:45.722589Z",
     "shell.execute_reply": "2020-09-16T21:29:45.722128Z"
    },
    "papermill": {
     "duration": 0.071969,
     "end_time": "2020-09-16T21:29:45.722729",
     "exception": false,
     "start_time": "2020-09-16T21:29:45.650760",
     "status": "completed"
    },
    "tags": []
   },
   "outputs": [
    {
     "data": {
      "text/html": [
       "<div>\n",
       "<style scoped>\n",
       "    .dataframe tbody tr th:only-of-type {\n",
       "        vertical-align: middle;\n",
       "    }\n",
       "\n",
       "    .dataframe tbody tr th {\n",
       "        vertical-align: top;\n",
       "    }\n",
       "\n",
       "    .dataframe thead th {\n",
       "        text-align: right;\n",
       "    }\n",
       "</style>\n",
       "<table border=\"1\" class=\"dataframe\">\n",
       "  <thead>\n",
       "    <tr style=\"text-align: right;\">\n",
       "      <th></th>\n",
       "      <th>Comments Text</th>\n",
       "      <th>label</th>\n",
       "    </tr>\n",
       "  </thead>\n",
       "  <tbody>\n",
       "    <tr>\n",
       "      <th>14</th>\n",
       "      <td>Yes, I've been seeing psychiatrists for nearly...</td>\n",
       "      <td>1</td>\n",
       "    </tr>\n",
       "    <tr>\n",
       "      <th>23</th>\n",
       "      <td>I'm a  *itch 24/7 and I am not on medication b...</td>\n",
       "      <td>1</td>\n",
       "    </tr>\n",
       "    <tr>\n",
       "      <th>45</th>\n",
       "      <td>My wife left me about 9 months ago after a 8 y...</td>\n",
       "      <td>1</td>\n",
       "    </tr>\n",
       "    <tr>\n",
       "      <th>50</th>\n",
       "      <td>Hurtful question..n alot of insensitive commen...</td>\n",
       "      <td>1</td>\n",
       "    </tr>\n",
       "    <tr>\n",
       "      <th>54</th>\n",
       "      <td>My boyfriend has bipolar anxiety and anger iss...</td>\n",
       "      <td>1</td>\n",
       "    </tr>\n",
       "    <tr>\n",
       "      <th>...</th>\n",
       "      <td>...</td>\n",
       "      <td>...</td>\n",
       "    </tr>\n",
       "    <tr>\n",
       "      <th>7090</th>\n",
       "      <td>I have more patoents,that work for direct tv, ...</td>\n",
       "      <td>1</td>\n",
       "    </tr>\n",
       "    <tr>\n",
       "      <th>7094</th>\n",
       "      <td>I am bp2 anxiety few other things on on ssdi</td>\n",
       "      <td>1</td>\n",
       "    </tr>\n",
       "    <tr>\n",
       "      <th>7099</th>\n",
       "      <td>I take Latuda at night because it makes me sle...</td>\n",
       "      <td>1</td>\n",
       "    </tr>\n",
       "    <tr>\n",
       "      <th>7121</th>\n",
       "      <td>This is me alot of the time however I got the ...</td>\n",
       "      <td>1</td>\n",
       "    </tr>\n",
       "    <tr>\n",
       "      <th>7134</th>\n",
       "      <td>A little break in life for me was 4 years of i...</td>\n",
       "      <td>1</td>\n",
       "    </tr>\n",
       "  </tbody>\n",
       "</table>\n",
       "<p>822 rows × 2 columns</p>\n",
       "</div>"
      ],
      "text/plain": [
       "                                          Comments Text  label\n",
       "14    Yes, I've been seeing psychiatrists for nearly...      1\n",
       "23    I'm a  *itch 24/7 and I am not on medication b...      1\n",
       "45    My wife left me about 9 months ago after a 8 y...      1\n",
       "50    Hurtful question..n alot of insensitive commen...      1\n",
       "54    My boyfriend has bipolar anxiety and anger iss...      1\n",
       "...                                                 ...    ...\n",
       "7090  I have more patoents,that work for direct tv, ...      1\n",
       "7094       I am bp2 anxiety few other things on on ssdi      1\n",
       "7099  I take Latuda at night because it makes me sle...      1\n",
       "7121  This is me alot of the time however I got the ...      1\n",
       "7134  A little break in life for me was 4 years of i...      1\n",
       "\n",
       "[822 rows x 2 columns]"
      ]
     },
     "execution_count": 20,
     "metadata": {},
     "output_type": "execute_result"
    }
   ],
   "source": [
    "dataset1[dataset1['label']==1]"
   ]
  },
  {
   "cell_type": "code",
   "execution_count": 21,
   "metadata": {
    "execution": {
     "iopub.execute_input": "2020-09-16T21:29:45.838986Z",
     "iopub.status.busy": "2020-09-16T21:29:45.837981Z",
     "iopub.status.idle": "2020-09-16T21:29:45.882938Z",
     "shell.execute_reply": "2020-09-16T21:29:45.882361Z"
    },
    "papermill": {
     "duration": 0.105619,
     "end_time": "2020-09-16T21:29:45.883051",
     "exception": false,
     "start_time": "2020-09-16T21:29:45.777432",
     "status": "completed"
    },
    "tags": []
   },
   "outputs": [
    {
     "name": "stdout",
     "output_type": "stream",
     "text": [
      "Yes, I've been seeing psychiatrists for nearly 30 years.  First just depression, then cyclothymia, then bipolar and anxiety, then BPD.\n",
      "\n",
      "\n",
      "I'm a  *itch 24/7 and I am not on medication because I have no fking medical insurance for my bipolar, depression and anxiety so I have too deal with it myself and people around me, I can't stand who I am but I feel stuck like you, and hopeless\n",
      "\n",
      "\n",
      "My wife left me about 9 months ago after a 8 year relationship. decided to jist pack up and leave on Christmas without warning because she couldn't deal with my anxiety and depression. It still hurts me but it will get better, you have to believe.  Hang in there.\n",
      "\n",
      "\n",
      "Hurtful question..n alot of insensitive comments. Its not like we can help it.  So on top of hereditary mental health issues...i have to be forever single?  That works wonders on depression n anxiety. Thanks. :'(\n",
      "\n",
      "\n",
      "My boyfriend has bipolar anxiety and anger issues so yes\n",
      "\n",
      "\n",
      "I am in a relationship with my same sex partner which suffers from bipolar. Myself with depression and anxiety disorder. It's extremely tedious 90% of the time with the unpredictability of his emotions and my anxiety having a blast off that.\n",
      "\n",
      "\n",
      "Well, my wife is married to one (I suffer with depression, anxiety, and probably some other stuff), so I'd be hypocritical to say no...\n",
      "\n",
      "\n",
      "Yes because I suffer from depression/anxiety disorder. If I dated anyone \"normal\" (whatever the hell that is) I'd be bored.\n",
      "\n",
      "\n",
      "I have bipolar and my husband has severe anxiety. We celebrated our 13th wedding anniversary two days ago.\n",
      "\n",
      "\n",
      "Lovely and in prision for what  ????  I suffer with depression anxiety but it dont make me do  bad things to end up in jail and cry i hav mental illness\n",
      "\n",
      "\n",
      "My anxiety fuels my agitation and rage and that fuels my anxiety. It doesn't end. Just be very honest.\n",
      "\n",
      "\n",
      "I have depression and anxiety and it ruined my life\n",
      "\n",
      "\n",
      "I have anxiety and depression and I get very moody a week prior.\n",
      "\n",
      "\n",
      "I have bipolar, depression and anxiety NO MEDICATION & no fking insurance   \n",
      "\n",
      "\n",
      "Try\n",
      "\n",
      "Autism\n",
      "PTSD\n",
      "Anxiety\n",
      "Bipolar\n",
      "\n",
      "I think I'll die twenty years before I should :(\n",
      "\n",
      "\n",
      "That's the bloody problem is finding the right meds. I'm on one for bi polar and one for social anxiety and the socal anxiety ones are like bloody sex pills to mee\n",
      "\n",
      "\n",
      "I have Bipolar II, GAD, SAD, BPD, PTSD and MDD. Being borderline sucks. That combined with my anxiety makes the worthlessness seem even more scary.\n",
      "\n",
      "\n",
      "Yes you can be tested. It's a very long test as well some additional questions that get asked to go with it. I know bc I was ordered to take them and thats how I was diagnosed with borderline personality disorder, anxiety, depression, and PTSD.\n",
      "\n",
      "\n",
      "My Dr says its anxiety but I feel more like is have agoraphobia too. Its hard to figure out\n",
      "\n",
      "\n",
      "There is no \"test\" for social anxiety.\n",
      "\n",
      "\n"
     ]
    }
   ],
   "source": [
    "for i in range(20):\n",
    "    print(dataset1[dataset1['label']==1].iloc[i][0])\n",
    "    print('\\n')"
   ]
  },
  {
   "cell_type": "code",
   "execution_count": 22,
   "metadata": {
    "execution": {
     "iopub.execute_input": "2020-09-16T21:29:46.007445Z",
     "iopub.status.busy": "2020-09-16T21:29:45.999406Z",
     "iopub.status.idle": "2020-09-16T21:29:46.011043Z",
     "shell.execute_reply": "2020-09-16T21:29:46.011650Z"
    },
    "papermill": {
     "duration": 0.073255,
     "end_time": "2020-09-16T21:29:46.011796",
     "exception": false,
     "start_time": "2020-09-16T21:29:45.938541",
     "status": "completed"
    },
    "tags": []
   },
   "outputs": [
    {
     "data": {
      "text/html": [
       "<div>\n",
       "<style scoped>\n",
       "    .dataframe tbody tr th:only-of-type {\n",
       "        vertical-align: middle;\n",
       "    }\n",
       "\n",
       "    .dataframe tbody tr th {\n",
       "        vertical-align: top;\n",
       "    }\n",
       "\n",
       "    .dataframe thead th {\n",
       "        text-align: right;\n",
       "    }\n",
       "</style>\n",
       "<table border=\"1\" class=\"dataframe\">\n",
       "  <thead>\n",
       "    <tr style=\"text-align: right;\">\n",
       "      <th></th>\n",
       "      <th>Comments Text</th>\n",
       "      <th>label</th>\n",
       "    </tr>\n",
       "  </thead>\n",
       "  <tbody>\n",
       "    <tr>\n",
       "      <th>3</th>\n",
       "      <td>LONG ANSWER: Bipolar disease is caused by a ch...</td>\n",
       "      <td>1</td>\n",
       "    </tr>\n",
       "    <tr>\n",
       "      <th>14</th>\n",
       "      <td>Yes, I've been seeing psychiatrists for nearly...</td>\n",
       "      <td>1</td>\n",
       "    </tr>\n",
       "    <tr>\n",
       "      <th>20</th>\n",
       "      <td>The only problem I have is when I'm randomly  ...</td>\n",
       "      <td>1</td>\n",
       "    </tr>\n",
       "    <tr>\n",
       "      <th>29</th>\n",
       "      <td>No, you are NOT alone.  If my meds are not pro...</td>\n",
       "      <td>1</td>\n",
       "    </tr>\n",
       "    <tr>\n",
       "      <th>31</th>\n",
       "      <td>I too take Seroquel. It has done wonders for m...</td>\n",
       "      <td>1</td>\n",
       "    </tr>\n",
       "    <tr>\n",
       "      <th>...</th>\n",
       "      <td>...</td>\n",
       "      <td>...</td>\n",
       "    </tr>\n",
       "    <tr>\n",
       "      <th>7140</th>\n",
       "      <td>Please contact SADAG (south African depression...</td>\n",
       "      <td>1</td>\n",
       "    </tr>\n",
       "    <tr>\n",
       "      <th>7141</th>\n",
       "      <td>It gave me severe ataxia.  (ataxia = People wi...</td>\n",
       "      <td>1</td>\n",
       "    </tr>\n",
       "    <tr>\n",
       "      <th>7142</th>\n",
       "      <td>I have. Caused muscles to tense up swelling an...</td>\n",
       "      <td>1</td>\n",
       "    </tr>\n",
       "    <tr>\n",
       "      <th>7143</th>\n",
       "      <td>Lamictal is my miracle med.Only took me 26 yea...</td>\n",
       "      <td>1</td>\n",
       "    </tr>\n",
       "    <tr>\n",
       "      <th>7144</th>\n",
       "      <td>I take Wellbutrin, topamax, and buspar (antide...</td>\n",
       "      <td>1</td>\n",
       "    </tr>\n",
       "  </tbody>\n",
       "</table>\n",
       "<p>3060 rows × 2 columns</p>\n",
       "</div>"
      ],
      "text/plain": [
       "                                          Comments Text  label\n",
       "3     LONG ANSWER: Bipolar disease is caused by a ch...      1\n",
       "14    Yes, I've been seeing psychiatrists for nearly...      1\n",
       "20    The only problem I have is when I'm randomly  ...      1\n",
       "29    No, you are NOT alone.  If my meds are not pro...      1\n",
       "31    I too take Seroquel. It has done wonders for m...      1\n",
       "...                                                 ...    ...\n",
       "7140  Please contact SADAG (south African depression...      1\n",
       "7141  It gave me severe ataxia.  (ataxia = People wi...      1\n",
       "7142  I have. Caused muscles to tense up swelling an...      1\n",
       "7143  Lamictal is my miracle med.Only took me 26 yea...      1\n",
       "7144  I take Wellbutrin, topamax, and buspar (antide...      1\n",
       "\n",
       "[3060 rows x 2 columns]"
      ]
     },
     "execution_count": 22,
     "metadata": {},
     "output_type": "execute_result"
    }
   ],
   "source": [
    "dataset2[dataset2['label']==1]"
   ]
  },
  {
   "cell_type": "code",
   "execution_count": 23,
   "metadata": {
    "execution": {
     "iopub.execute_input": "2020-09-16T21:29:46.129817Z",
     "iopub.status.busy": "2020-09-16T21:29:46.128925Z",
     "iopub.status.idle": "2020-09-16T21:29:46.167511Z",
     "shell.execute_reply": "2020-09-16T21:29:46.166736Z"
    },
    "papermill": {
     "duration": 0.099711,
     "end_time": "2020-09-16T21:29:46.167675",
     "exception": false,
     "start_time": "2020-09-16T21:29:46.067964",
     "status": "completed"
    },
    "tags": []
   },
   "outputs": [
    {
     "name": "stdout",
     "output_type": "stream",
     "text": [
      "LONG ANSWER: Bipolar disease is caused by a chemical imbalance in the brain. It can be treated with medication and therapy. Typically people with bipolar disease have learned to compensate for it in unhealthy ways (illegal drug use, eating disorders, gambling, promiscuity, alcoholism, self harm, etc.) and therapy can assist them with overcoming these unhealthy \"coping mechanisms.\" In addition, they may need therapy that assists with rebuilding family relationships that the sufferer (while in a relapse state) has damaged. Bipolar disease often causes lability of emotional response and potentially self-damaging behaviors that come from that. They tend to have periods of mania/hypomania and depression that is severe. During mania, they may feel like they have more energy, be happier (without reason), have grandiose ideas of themself and their abilities, need less sleep, be much more sexual, and engage in risky behaviors without considering the consequences. During depression, they may be suicidal, incapable of caring for themself, engage in self-harm, have a hard time leaving their house/bed, and miss a lot of work. Depending on what \"type\" of Bipolar a person has (Or where they fall on the spectrum) determines quite often how serious their periods of mania/hypomania are and how long those occur...and how serious their depressive episodes are and how long those occur. Regardless, it's a difficult situation they live with constantly. Medication, typically, works to counterbalance the chemical imbalance in their brain (or offset the symptoms) so that they can function somewhat normally without huge highs and lows.\n",
      "\n",
      "\n",
      "Yes, I've been seeing psychiatrists for nearly 30 years.  First just depression, then cyclothymia, then bipolar and anxiety, then BPD.\n",
      "\n",
      "\n",
      "The only problem I have is when I'm randomly  put on a grave yard shift. That means I can't take my meds, as they make me so tired. I have 2 kids and cant just catch up on my sleep, and end up with anxiety and not being able to sleep, from not taking my meds. Being able to have a stable and normal shift all week makes my week 100x better than it would have if all shifts were different and there were random graves.\n",
      "\n",
      "\n",
      "No, you are NOT alone.  If my meds are not properly regulated, I have blinding rage outbursts.. I am cranky & bitchy... Everything gets on my nerves... I yell like a banshee... It is horrible.... You have to stay on top of the meds.\n",
      "\n",
      "\n",
      "I too take Seroquel. It has done wonders for my sleep cycle and I now get the sleep I need. I also take a high dose of Effexor  (antidepressant) and Buspar (for anxiety). This combination works well for me and this came to from years of trying other meds that didn't have the desired results. I suffer from bipolar 2, severe depression, and anxiety. \n",
      "The amount of medication seems excessive but maybe you can eliminate some if they aren't helping you. I'm not a Dr though so make sure you stop and start your meds with Dr's guidance. Good luck to you and I hope this helps. Wishing you peace and happiness.\n",
      "\n",
      "\n",
      "Its always hard getting a proper diagnosis. Often there are those who have more than one diagnosis. My kids have adhd bipolar with sczophernic tendicies.I myself am bipolar anxiety and ptsd insomnia so I do take a lot of pills I like u have a lot of physical conditions as well for which I take meds. The important thing is to let each doctor know what you are taking. Also be proactive know medicine side effects read up on them it gets confusing but the more u knw about them the more it's helps\n",
      "\n",
      "\n",
      "It's really just a matter of opinion. My therapist today said that there's two sides to depression, how you think, and the imbalance. I've been on seroquel for 8 years and due to insomnia I too only get 2-4 hours of sleep without it which is the leading cause of my issues (depression, phobia related anxiety, ADD, GAD). His way of putting it is that the prescription helps you put on a different pair of glasses until you can handle the sun again on your own. I really liked that.\n",
      "\n",
      "\n",
      "I was told to do this and it does work but here is a technique that at psychotherapist should advise you on for it to work. I and a fear of dying but it got me through a c-section and I was allowed to keep the band on. X\n",
      "\n",
      "\n",
      "It's where you put an elastic band (like a rubber band or hair tie) on your wrist and when you start to feel anxious/nervous (or any other bad habit/emotion) you snap the band against your wrist. It didn't work for me because I have an extremely high pain tolerance.\n",
      "\n",
      "\n",
      "Can't you put the animals in crates and close the bedroom door so you guys could sleep together? I know crate training takes time but in the end you will both come to find out the less the animals disturb your sleep the better you both feel.\n",
      "\n",
      "\n",
      "Firstly you are definately entitled to vent. And i can imagine it would be extremely difficult to be in that situation. Its not fair that you are working so hard and losing sleep and are clearly struggling because you're exhausted. Can you make different arangements for the animals to sleep, maybe in another room or something or maybe you could try a different sleeping arangement. I think it would be a good idea to see a psychologist or consellor for yourself as well. And try talking to him about how everything is affecting you. Maybe you could go back to the doctor or a counsellor together to try to find a way to make things work better. Its great that he has made improvements though.\n",
      "\n",
      "\n",
      "Has he tried therapy by chance? Therapy drained me, and I ended up dropping out. I was in group therapy, but I also have PTSD and severe anxiety along with BP. I couldn't take on hearing other's traumatic situations anymore. It did teach me coping skills and renewed coping skills I'd forgot I had tho. I've NEVER used my illness as an excuse to act out wrongly. Unfortunately I do still get flustered from time to time and have outbursts, (usually over the smallest things) before I can help myself but, I try and stop it as soon as I realize it, and I own up to it. I admit I was wrong, and apologize. For me it's about being very vigilant of myself at all times. Especially since I don't do pharmaceuticals. Perhaps therapy and learning such skills could benefit him? I'm sure he doesn't mean to be that way..it's just as exhausting for him as well, believe it or not. Wishing you strength and courage in working thru this.   \n",
      "\n",
      "\n",
      "My wife left me about 9 months ago after a 8 year relationship. decided to jist pack up and leave on Christmas without warning because she couldn't deal with my anxiety and depression. It still hurts me but it will get better, you have to believe.  Hang in there.\n",
      "\n",
      "\n",
      "I myself have a mental illness, both of my parents have a mental illness, I know my father's mother had several mental illnesses. I was married to a man with bipolar and mild schizophrenia. My current husband has anxiety, but I couldn't go through a spouse with bipolar again even though I have it myself.\n",
      "\n",
      "\n",
      "Hurtful question..n alot of insensitive comments. Its not like we can help it.  So on top of hereditary mental health issues...i have to be forever single?  That works wonders on depression n anxiety. Thanks. :'(\n",
      "\n",
      "\n",
      "People with mental illness are jus like the next person. They jus have to take medicine. I have bipolar disorder and anxiety. A person learns to cope and people learn to be with them or give up on them.\n",
      "\n",
      "\n",
      "Yes I can see no reason why not. Mental illness doesnt equate to danger or misery. Being an arsehole on the other hand will gauruntee misery\n",
      "\n",
      "\n",
      "My boyfriend has bipolar anxiety and anger issues so yes\n",
      "\n",
      "\n",
      "I am in a relationship with my same sex partner which suffers from bipolar. Myself with depression and anxiety disorder. It's extremely tedious 90% of the time with the unpredictability of his emotions and my anxiety having a blast off that.\n",
      "\n",
      "\n",
      "Shame i thought I'd married someone kind and gentle. But after working non stop. Ending up taking coke to keep me going.  I was banned from my house my buisness ended up in jail my choice to try and get help. The only one to stand by me was my daughter and she is only 12years old. It's hurts more than any thing. Yes I have depression and anxiety. But I hid it well.  Broken hearted is a understatement. But if i can help anyone going thru the same i would\n",
      "\n",
      "\n"
     ]
    }
   ],
   "source": [
    "for i in range(20):\n",
    "    print(dataset2[dataset2['label']==1].iloc[i][0])\n",
    "    print('\\n')"
   ]
  },
  {
   "cell_type": "markdown",
   "metadata": {
    "papermill": {
     "duration": 0.05611,
     "end_time": "2020-09-16T21:29:46.283064",
     "exception": false,
     "start_time": "2020-09-16T21:29:46.226954",
     "status": "completed"
    },
    "tags": []
   },
   "source": [
    "As you can see, NMF delivers better results because it's more specific and really determines depressive/anxious comments meanwhile LDA labels all entries that contain depression/anxiety related words and it makes the labeling more general. **Let's keep NMF's results.**\n",
    "\n",
    "As you can see above, now the dataset is properly labeled; the label 1 - Depression & Anxiety-  is pretty coherent. Even when label 0 still contains text with relevant words, if you deep dive into it you'll notice the entries don't seem to be comments related to Depression & Anxiety. Said that, let's move on: It's time now to classify tweets."
   ]
  },
  {
   "cell_type": "markdown",
   "metadata": {
    "papermill": {
     "duration": 0.066293,
     "end_time": "2020-09-16T21:29:46.407761",
     "exception": false,
     "start_time": "2020-09-16T21:29:46.341468",
     "status": "completed"
    },
    "tags": []
   },
   "source": [
    "# Data preprocessing for Topic Classification\n",
    "\n",
    "As you could see before, our text processing pipeline did very well its task, so we'll use it again to feed and fit our classifier."
   ]
  },
  {
   "cell_type": "code",
   "execution_count": 24,
   "metadata": {
    "execution": {
     "iopub.execute_input": "2020-09-16T21:29:46.538953Z",
     "iopub.status.busy": "2020-09-16T21:29:46.537980Z",
     "iopub.status.idle": "2020-09-16T21:29:46.542254Z",
     "shell.execute_reply": "2020-09-16T21:29:46.541628Z"
    },
    "papermill": {
     "duration": 0.07137,
     "end_time": "2020-09-16T21:29:46.542357",
     "exception": false,
     "start_time": "2020-09-16T21:29:46.470987",
     "status": "completed"
    },
    "tags": []
   },
   "outputs": [
    {
     "data": {
      "text/html": [
       "<div>\n",
       "<style scoped>\n",
       "    .dataframe tbody tr th:only-of-type {\n",
       "        vertical-align: middle;\n",
       "    }\n",
       "\n",
       "    .dataframe tbody tr th {\n",
       "        vertical-align: top;\n",
       "    }\n",
       "\n",
       "    .dataframe thead th {\n",
       "        text-align: right;\n",
       "    }\n",
       "</style>\n",
       "<table border=\"1\" class=\"dataframe\">\n",
       "  <thead>\n",
       "    <tr style=\"text-align: right;\">\n",
       "      <th></th>\n",
       "      <th>Comments Text</th>\n",
       "      <th>label</th>\n",
       "    </tr>\n",
       "  </thead>\n",
       "  <tbody>\n",
       "    <tr>\n",
       "      <th>0</th>\n",
       "      <td>So, when you ask what the two illnesses are......</td>\n",
       "      <td>0</td>\n",
       "    </tr>\n",
       "    <tr>\n",
       "      <th>1</th>\n",
       "      <td>In addition, people with BPD quite often have ...</td>\n",
       "      <td>0</td>\n",
       "    </tr>\n",
       "    <tr>\n",
       "      <th>2</th>\n",
       "      <td>Borderline Personality Disorder, like all othe...</td>\n",
       "      <td>0</td>\n",
       "    </tr>\n",
       "    <tr>\n",
       "      <th>3</th>\n",
       "      <td>LONG ANSWER: Bipolar disease is caused by a ch...</td>\n",
       "      <td>0</td>\n",
       "    </tr>\n",
       "    <tr>\n",
       "      <th>4</th>\n",
       "      <td>Well think of bipolar as a rollar coaster you ...</td>\n",
       "      <td>0</td>\n",
       "    </tr>\n",
       "    <tr>\n",
       "      <th>5</th>\n",
       "      <td>Believe me, I show you much more than anyone. ...</td>\n",
       "      <td>0</td>\n",
       "    </tr>\n",
       "    <tr>\n",
       "      <th>6</th>\n",
       "      <td>Yes, I feel the exact same way. My family avoi...</td>\n",
       "      <td>0</td>\n",
       "    </tr>\n",
       "    <tr>\n",
       "      <th>7</th>\n",
       "      <td>I was hospitalized in May for the same reason....</td>\n",
       "      <td>0</td>\n",
       "    </tr>\n",
       "    <tr>\n",
       "      <th>8</th>\n",
       "      <td>I feel like that and im hearing you loud okay ...</td>\n",
       "      <td>0</td>\n",
       "    </tr>\n",
       "    <tr>\n",
       "      <th>9</th>\n",
       "      <td>I had 9 rounds over 3.5 weeks two years ago. I...</td>\n",
       "      <td>0</td>\n",
       "    </tr>\n",
       "    <tr>\n",
       "      <th>10</th>\n",
       "      <td>No, but I have seriously thought about having ...</td>\n",
       "      <td>0</td>\n",
       "    </tr>\n",
       "    <tr>\n",
       "      <th>11</th>\n",
       "      <td>Yes I do and it's terrifying, know matter how ...</td>\n",
       "      <td>0</td>\n",
       "    </tr>\n",
       "    <tr>\n",
       "      <th>12</th>\n",
       "      <td>Michelle O'Sullivan Yes, I just started it in ...</td>\n",
       "      <td>0</td>\n",
       "    </tr>\n",
       "    <tr>\n",
       "      <th>13</th>\n",
       "      <td>He just upped my anti-depressant last week.  T...</td>\n",
       "      <td>0</td>\n",
       "    </tr>\n",
       "    <tr>\n",
       "      <th>14</th>\n",
       "      <td>Yes, I've been seeing psychiatrists for nearly...</td>\n",
       "      <td>1</td>\n",
       "    </tr>\n",
       "  </tbody>\n",
       "</table>\n",
       "</div>"
      ],
      "text/plain": [
       "                                        Comments Text  label\n",
       "0   So, when you ask what the two illnesses are......      0\n",
       "1   In addition, people with BPD quite often have ...      0\n",
       "2   Borderline Personality Disorder, like all othe...      0\n",
       "3   LONG ANSWER: Bipolar disease is caused by a ch...      0\n",
       "4   Well think of bipolar as a rollar coaster you ...      0\n",
       "5   Believe me, I show you much more than anyone. ...      0\n",
       "6   Yes, I feel the exact same way. My family avoi...      0\n",
       "7   I was hospitalized in May for the same reason....      0\n",
       "8   I feel like that and im hearing you loud okay ...      0\n",
       "9   I had 9 rounds over 3.5 weeks two years ago. I...      0\n",
       "10  No, but I have seriously thought about having ...      0\n",
       "11  Yes I do and it's terrifying, know matter how ...      0\n",
       "12  Michelle O'Sullivan Yes, I just started it in ...      0\n",
       "13  He just upped my anti-depressant last week.  T...      0\n",
       "14  Yes, I've been seeing psychiatrists for nearly...      1"
      ]
     },
     "execution_count": 24,
     "metadata": {},
     "output_type": "execute_result"
    }
   ],
   "source": [
    "dataset1.head(15)"
   ]
  },
  {
   "cell_type": "code",
   "execution_count": 25,
   "metadata": {
    "execution": {
     "iopub.execute_input": "2020-09-16T21:29:46.672594Z",
     "iopub.status.busy": "2020-09-16T21:29:46.662349Z",
     "iopub.status.idle": "2020-09-16T21:29:47.912466Z",
     "shell.execute_reply": "2020-09-16T21:29:47.913052Z"
    },
    "papermill": {
     "duration": 1.313717,
     "end_time": "2020-09-16T21:29:47.913193",
     "exception": false,
     "start_time": "2020-09-16T21:29:46.599476",
     "status": "completed"
    },
    "tags": []
   },
   "outputs": [
    {
     "data": {
      "text/html": [
       "<div>\n",
       "<style scoped>\n",
       "    .dataframe tbody tr th:only-of-type {\n",
       "        vertical-align: middle;\n",
       "    }\n",
       "\n",
       "    .dataframe tbody tr th {\n",
       "        vertical-align: top;\n",
       "    }\n",
       "\n",
       "    .dataframe thead th {\n",
       "        text-align: right;\n",
       "    }\n",
       "</style>\n",
       "<table border=\"1\" class=\"dataframe\">\n",
       "  <thead>\n",
       "    <tr style=\"text-align: right;\">\n",
       "      <th></th>\n",
       "      <th>Comments Text</th>\n",
       "      <th>label</th>\n",
       "    </tr>\n",
       "  </thead>\n",
       "  <tbody>\n",
       "    <tr>\n",
       "      <th>0</th>\n",
       "      <td>So, when you ask what the two illnesses are......</td>\n",
       "      <td>0</td>\n",
       "    </tr>\n",
       "    <tr>\n",
       "      <th>1</th>\n",
       "      <td>In addition, people with BPD quite often have ...</td>\n",
       "      <td>0</td>\n",
       "    </tr>\n",
       "    <tr>\n",
       "      <th>2</th>\n",
       "      <td>Borderline Personality Disorder, like all othe...</td>\n",
       "      <td>0</td>\n",
       "    </tr>\n",
       "    <tr>\n",
       "      <th>3</th>\n",
       "      <td>LONG ANSWER: Bipolar disease is caused by a ch...</td>\n",
       "      <td>0</td>\n",
       "    </tr>\n",
       "    <tr>\n",
       "      <th>4</th>\n",
       "      <td>Well think of bipolar as a rollar coaster you ...</td>\n",
       "      <td>0</td>\n",
       "    </tr>\n",
       "  </tbody>\n",
       "</table>\n",
       "</div>"
      ],
      "text/plain": [
       "                                       Comments Text  label\n",
       "0  So, when you ask what the two illnesses are......      0\n",
       "1  In addition, people with BPD quite often have ...      0\n",
       "2  Borderline Personality Disorder, like all othe...      0\n",
       "3  LONG ANSWER: Bipolar disease is caused by a ch...      0\n",
       "4  Well think of bipolar as a rollar coaster you ...      0"
      ]
     },
     "execution_count": 25,
     "metadata": {},
     "output_type": "execute_result"
    }
   ],
   "source": [
    "for i in range(len(dataset2)):\n",
    "  dataset1.at[i,'Comments Text'] = remove_urls(dataset1.iloc[i]['Comments Text'])\n",
    "dataset1.head()"
   ]
  },
  {
   "cell_type": "code",
   "execution_count": 26,
   "metadata": {
    "execution": {
     "iopub.execute_input": "2020-09-16T21:29:48.111640Z",
     "iopub.status.busy": "2020-09-16T21:29:48.101407Z",
     "iopub.status.idle": "2020-09-16T21:29:48.959374Z",
     "shell.execute_reply": "2020-09-16T21:29:48.958547Z"
    },
    "papermill": {
     "duration": 0.951098,
     "end_time": "2020-09-16T21:29:48.959537",
     "exception": false,
     "start_time": "2020-09-16T21:29:48.008439",
     "status": "completed"
    },
    "tags": []
   },
   "outputs": [
    {
     "name": "stdout",
     "output_type": "stream",
     "text": [
      "['so when you ask what the two illnesses aretheyre similar in that they tend to have moodiness involved impulsivity and self-damaging behaviors for compensatory measures otherwise theyre not really that similar but they do seem to \"like\" one another and often show up in the same personmaking their lives chaotic difficult dysfunctional and intense so if your friend is concerned that they may have one (or both) of these illnesses they should not be ashamed its definitely not their fault they should instead get help from a professionaland insist that they are treated appropriately with the correct types of therapy and medication']\n"
     ]
    }
   ],
   "source": [
    "# Convert to list\n",
    "data = dataset1['Comments Text'].values.tolist()\n",
    "\n",
    "# Remove Emails\n",
    "data = [re.sub('\\S*@\\S*\\s?', '', sent) for sent in data]\n",
    "\n",
    "# Remove new line characters\n",
    "data = [re.sub('\\s+', ' ', sent) for sent in data]\n",
    "\n",
    "# Remove distracting single quotes\n",
    "data = [re.sub(\"\\'\", \"\", sent) for sent in data]\n",
    "\n",
    "# Remove distracting commas\n",
    "data = [re.sub(\",\", \"\", sent) for sent in data]\n",
    "\n",
    "# Remove distracting commas\n",
    "data = [sent.lower() for sent in data]\n",
    "\n",
    "# Remove distracting dots\n",
    "data = [sent.replace('.', '') for sent in data]\n",
    "\n",
    "print(data[:1])"
   ]
  },
  {
   "cell_type": "code",
   "execution_count": 27,
   "metadata": {
    "execution": {
     "iopub.execute_input": "2020-09-16T21:29:49.559159Z",
     "iopub.status.busy": "2020-09-16T21:29:49.557513Z",
     "iopub.status.idle": "2020-09-16T21:29:49.563718Z",
     "shell.execute_reply": "2020-09-16T21:29:49.564399Z"
    },
    "papermill": {
     "duration": 0.316724,
     "end_time": "2020-09-16T21:29:49.564594",
     "exception": false,
     "start_time": "2020-09-16T21:29:49.247870",
     "status": "completed"
    },
    "tags": []
   },
   "outputs": [],
   "source": [
    "tweets = np.array(data)\n",
    "labels = np.array(dataset2['label'])"
   ]
  },
  {
   "cell_type": "code",
   "execution_count": 28,
   "metadata": {
    "execution": {
     "iopub.execute_input": "2020-09-16T21:29:49.759341Z",
     "iopub.status.busy": "2020-09-16T21:29:49.758366Z",
     "iopub.status.idle": "2020-09-16T21:29:49.768148Z",
     "shell.execute_reply": "2020-09-16T21:29:49.760043Z"
    },
    "papermill": {
     "duration": 0.097232,
     "end_time": "2020-09-16T21:29:49.768299",
     "exception": false,
     "start_time": "2020-09-16T21:29:49.671067",
     "status": "completed"
    },
    "tags": []
   },
   "outputs": [
    {
     "name": "stdout",
     "output_type": "stream",
     "text": [
      "7145 7145\n"
     ]
    }
   ],
   "source": [
    "print(len(tweets),len(labels))"
   ]
  },
  {
   "cell_type": "markdown",
   "metadata": {
    "papermill": {
     "duration": 0.071517,
     "end_time": "2020-09-16T21:29:49.943648",
     "exception": false,
     "start_time": "2020-09-16T21:29:49.872131",
     "status": "completed"
    },
    "tags": []
   },
   "source": [
    "# Model building and training\n",
    "\n",
    "We'll go through a few Deep Learning architectures trying to find the one that fits better the data. In order to select the best model, we'll be looking at the confusion matrix and identifying the model that better predicts the TP cases.\n",
    "\n",
    "Essentially we'll create several Recurrent Neural Networks stacking Keras layers. **Keep in mind that the data available could not be enough to train a DL model and the best approach could be to use a ML classic model**. Let's see what model performs the best."
   ]
  },
  {
   "cell_type": "markdown",
   "metadata": {
    "papermill": {
     "duration": 0.079163,
     "end_time": "2020-09-16T21:29:50.101385",
     "exception": false,
     "start_time": "2020-09-16T21:29:50.022222",
     "status": "completed"
    },
    "tags": []
   },
   "source": [
    "In order to feed our models, we need to create sequences of data using the tweets dataset. For this task we'll use the Tokenizer object with its useful methods."
   ]
  },
  {
   "cell_type": "code",
   "execution_count": 29,
   "metadata": {
    "execution": {
     "iopub.execute_input": "2020-09-16T21:29:50.272132Z",
     "iopub.status.busy": "2020-09-16T21:29:50.271268Z",
     "iopub.status.idle": "2020-09-16T21:29:51.660863Z",
     "shell.execute_reply": "2020-09-16T21:29:51.661550Z"
    },
    "papermill": {
     "duration": 1.472668,
     "end_time": "2020-09-16T21:29:51.661783",
     "exception": false,
     "start_time": "2020-09-16T21:29:50.189115",
     "status": "completed"
    },
    "tags": []
   },
   "outputs": [
    {
     "name": "stdout",
     "output_type": "stream",
     "text": [
      "[[   0    0    0 ...  213    2  116]\n",
      " [   4  145 1960 ...  276    2 5997]\n",
      " [   2   33 8130 ...   33    4  114]\n",
      " ...\n",
      " [   0    0    0 ...    2  290  439]\n",
      " [   0    0    0 ...  160  219  244]\n",
      " [   0    0    0 ...   10   72   58]]\n"
     ]
    }
   ],
   "source": [
    "from keras.models import Sequential\n",
    "from keras import layers\n",
    "from keras.optimizers import RMSprop\n",
    "from keras.preprocessing.text import Tokenizer\n",
    "from keras.preprocessing.sequence import pad_sequences\n",
    "from keras import regularizers\n",
    "max_words = 20000\n",
    "max_len = 400\n",
    "\n",
    "tokenizer = Tokenizer(num_words=max_words)\n",
    "tokenizer.fit_on_texts(tweets)\n",
    "sequences = tokenizer.texts_to_sequences(tweets)\n",
    "tweets = pad_sequences(sequences, maxlen=max_len)\n",
    "print(tweets)"
   ]
  },
  {
   "cell_type": "markdown",
   "metadata": {
    "papermill": {
     "duration": 0.097797,
     "end_time": "2020-09-16T21:29:51.852420",
     "exception": false,
     "start_time": "2020-09-16T21:29:51.754623",
     "status": "completed"
    },
    "tags": []
   },
   "source": [
    "Splitting the data, this to be able to measure how well our models perform."
   ]
  },
  {
   "cell_type": "code",
   "execution_count": 30,
   "metadata": {
    "execution": {
     "iopub.execute_input": "2020-09-16T21:29:51.982100Z",
     "iopub.status.busy": "2020-09-16T21:29:51.981036Z",
     "iopub.status.idle": "2020-09-16T21:29:51.998257Z",
     "shell.execute_reply": "2020-09-16T21:29:51.999126Z"
    },
    "papermill": {
     "duration": 0.084554,
     "end_time": "2020-09-16T21:29:51.999291",
     "exception": false,
     "start_time": "2020-09-16T21:29:51.914737",
     "status": "completed"
    },
    "tags": []
   },
   "outputs": [
    {
     "name": "stdout",
     "output_type": "stream",
     "text": [
      "5358 1787 5358 1787\n"
     ]
    }
   ],
   "source": [
    "X_train, X_test, y_train, y_test = train_test_split(tweets,labels, random_state=0)\n",
    "print (len(X_train),len(X_test),len(y_train),len(y_test))"
   ]
  },
  {
   "cell_type": "markdown",
   "metadata": {
    "papermill": {
     "duration": 0.059888,
     "end_time": "2020-09-16T21:29:52.120821",
     "exception": false,
     "start_time": "2020-09-16T21:29:52.060933",
     "status": "completed"
    },
    "tags": []
   },
   "source": [
    "## Model 1\n",
    "A very basic RNN with single LSTM layer."
   ]
  },
  {
   "cell_type": "code",
   "execution_count": 31,
   "metadata": {
    "execution": {
     "iopub.execute_input": "2020-09-16T21:29:52.248928Z",
     "iopub.status.busy": "2020-09-16T21:29:52.248285Z",
     "iopub.status.idle": "2020-09-16T21:30:25.180150Z",
     "shell.execute_reply": "2020-09-16T21:30:25.179363Z"
    },
    "papermill": {
     "duration": 32.998542,
     "end_time": "2020-09-16T21:30:25.180328",
     "exception": false,
     "start_time": "2020-09-16T21:29:52.181786",
     "status": "completed"
    },
    "tags": []
   },
   "outputs": [
    {
     "name": "stdout",
     "output_type": "stream",
     "text": [
      "Epoch 1/7\n",
      "168/168 [==============================] - 4s 24ms/step - loss: 0.5837 - accuracy: 0.6801 - val_loss: 0.4271 - val_accuracy: 0.8288\n",
      "Epoch 2/7\n",
      "168/168 [==============================] - 3s 21ms/step - loss: 0.3441 - accuracy: 0.8658 - val_loss: 0.3799 - val_accuracy: 0.8321\n",
      "Epoch 3/7\n",
      "168/168 [==============================] - 3s 20ms/step - loss: 0.2592 - accuracy: 0.9024 - val_loss: 0.2530 - val_accuracy: 0.8909\n",
      "Epoch 4/7\n",
      "168/168 [==============================] - 4s 22ms/step - loss: 0.2078 - accuracy: 0.9240 - val_loss: 0.2530 - val_accuracy: 0.8942\n",
      "Epoch 5/7\n",
      "168/168 [==============================] - 3s 21ms/step - loss: 0.1764 - accuracy: 0.9378 - val_loss: 0.2560 - val_accuracy: 0.8903\n",
      "Epoch 6/7\n",
      "168/168 [==============================] - 4s 22ms/step - loss: 0.1529 - accuracy: 0.9464 - val_loss: 0.2960 - val_accuracy: 0.8926\n",
      "Epoch 7/7\n",
      "168/168 [==============================] - 4s 22ms/step - loss: 0.1383 - accuracy: 0.9509 - val_loss: 0.3615 - val_accuracy: 0.8612\n"
     ]
    }
   ],
   "source": [
    "model1 = Sequential()\n",
    "model1.add(layers.Embedding(max_words, 40))\n",
    "model1.add(layers.LSTM(40,dropout=0.5))\n",
    "model1.add(layers.Dense(1,activation='sigmoid'))\n",
    "\n",
    "model1.compile(optimizer='rmsprop',loss='binary_crossentropy', metrics=['accuracy'])\n",
    "\n",
    "history = model1.fit(X_train, y_train, epochs=7,validation_data=(X_test, y_test))"
   ]
  },
  {
   "cell_type": "code",
   "execution_count": 32,
   "metadata": {
    "execution": {
     "iopub.execute_input": "2020-09-16T21:30:25.581155Z",
     "iopub.status.busy": "2020-09-16T21:30:25.580126Z",
     "iopub.status.idle": "2020-09-16T21:30:25.998642Z",
     "shell.execute_reply": "2020-09-16T21:30:25.998104Z"
    },
    "papermill": {
     "duration": 0.619703,
     "end_time": "2020-09-16T21:30:25.998780",
     "exception": false,
     "start_time": "2020-09-16T21:30:25.379077",
     "status": "completed"
    },
    "tags": []
   },
   "outputs": [
    {
     "name": "stdout",
     "output_type": "stream",
     "text": [
      "56/56 - 0s - loss: 0.3615 - accuracy: 0.8612\n",
      "Model accuracy:  0.8612199425697327\n"
     ]
    }
   ],
   "source": [
    "test_loss, test_acc = model1.evaluate(X_test,  y_test, verbose=2)\n",
    "print('Model accuracy: ',test_acc)"
   ]
  },
  {
   "cell_type": "code",
   "execution_count": 33,
   "metadata": {
    "execution": {
     "iopub.execute_input": "2020-09-16T21:30:26.403711Z",
     "iopub.status.busy": "2020-09-16T21:30:26.402653Z",
     "iopub.status.idle": "2020-09-16T21:30:27.089887Z",
     "shell.execute_reply": "2020-09-16T21:30:27.089342Z"
    },
    "papermill": {
     "duration": 0.888961,
     "end_time": "2020-09-16T21:30:27.090008",
     "exception": false,
     "start_time": "2020-09-16T21:30:26.201047",
     "status": "completed"
    },
    "tags": []
   },
   "outputs": [],
   "source": [
    "y_pred = model1.predict(X_test)"
   ]
  },
  {
   "cell_type": "code",
   "execution_count": 34,
   "metadata": {
    "execution": {
     "iopub.execute_input": "2020-09-16T21:30:27.493825Z",
     "iopub.status.busy": "2020-09-16T21:30:27.493143Z",
     "iopub.status.idle": "2020-09-16T21:30:27.753686Z",
     "shell.execute_reply": "2020-09-16T21:30:27.753128Z"
    },
    "papermill": {
     "duration": 0.466396,
     "end_time": "2020-09-16T21:30:27.753833",
     "exception": false,
     "start_time": "2020-09-16T21:30:27.287437",
     "status": "completed"
    },
    "tags": []
   },
   "outputs": [
    {
     "data": {
      "text/plain": [
       "<matplotlib.axes._subplots.AxesSubplot at 0x7f6c7215c710>"
      ]
     },
     "execution_count": 34,
     "metadata": {},
     "output_type": "execute_result"
    },
    {
     "data": {
      "image/png": "[encoded data removed]",
      "text/plain": [
       "<Figure size 1080x1080 with 2 Axes>"
      ]
     },
     "metadata": {
      "needs_background": "light"
     },
     "output_type": "display_data"
    }
   ],
   "source": [
    "from sklearn.metrics import confusion_matrix\n",
    "matrix = confusion_matrix(y_test, np.around(y_pred, decimals=0))\n",
    "import seaborn as sns\n",
    "conf_matrix = pd.DataFrame(matrix, index = ['Not Depression/Anxiety','Anxiety/Depression'],columns = ['Not Depression/Anxiety','Anxiety/Depression'])\n",
    "#Normalizing\n",
    "conf_matrix = conf_matrix.astype('float') / conf_matrix.sum(axis=1)[:, np.newaxis]\n",
    "plt.figure(figsize = (15,15))\n",
    "sns.heatmap(conf_matrix, annot=True, annot_kws={\"size\": 15})"
   ]
  },
  {
   "cell_type": "markdown",
   "metadata": {
    "papermill": {
     "duration": 0.200974,
     "end_time": "2020-09-16T21:30:28.156793",
     "exception": false,
     "start_time": "2020-09-16T21:30:27.955819",
     "status": "completed"
    },
    "tags": []
   },
   "source": [
    "It achieved very good results - at least to be a so simple model, but seems like it cannot interpret very good the underlying text structure. Let's try a more complex network\n",
    "\n",
    "## Model 2\n",
    "We'll stack to LSTM layers and increase a little bit the embedding dimension. Let's see how it performs."
   ]
  },
  {
   "cell_type": "code",
   "execution_count": 35,
   "metadata": {
    "execution": {
     "iopub.execute_input": "2020-09-16T21:30:28.565162Z",
     "iopub.status.busy": "2020-09-16T21:30:28.564177Z",
     "iopub.status.idle": "2020-09-16T21:31:03.135888Z",
     "shell.execute_reply": "2020-09-16T21:31:03.135291Z"
    },
    "papermill": {
     "duration": 34.779771,
     "end_time": "2020-09-16T21:31:03.136008",
     "exception": false,
     "start_time": "2020-09-16T21:30:28.356237",
     "status": "completed"
    },
    "tags": []
   },
   "outputs": [
    {
     "name": "stdout",
     "output_type": "stream",
     "text": [
      "Epoch 1/5\n",
      "168/168 [==============================] - 7s 39ms/step - loss: 0.5560 - accuracy: 0.7032 - val_loss: 0.3339 - val_accuracy: 0.8674\n",
      "Epoch 2/5\n",
      "168/168 [==============================] - 6s 36ms/step - loss: 0.3291 - accuracy: 0.8669 - val_loss: 0.2790 - val_accuracy: 0.8808\n",
      "Epoch 3/5\n",
      "168/168 [==============================] - 6s 37ms/step - loss: 0.2394 - accuracy: 0.9084 - val_loss: 0.2503 - val_accuracy: 0.9032\n",
      "Epoch 4/5\n",
      "168/168 [==============================] - 6s 37ms/step - loss: 0.1987 - accuracy: 0.9272 - val_loss: 0.3646 - val_accuracy: 0.8707\n",
      "Epoch 5/5\n",
      "168/168 [==============================] - 6s 36ms/step - loss: 0.1683 - accuracy: 0.9410 - val_loss: 0.2497 - val_accuracy: 0.9004\n"
     ]
    }
   ],
   "source": [
    "model2 = Sequential()\n",
    "model2.add(layers.Embedding(max_words, 40))\n",
    "model2.add(layers.LSTM(40,dropout=0.5,return_sequences=True))\n",
    "model2.add(layers.LSTM(40,dropout=0.5))\n",
    "model2.add(layers.Dense(1,activation='sigmoid'))\n",
    "\n",
    "model2.compile(optimizer='rmsprop',loss='binary_crossentropy', metrics=['accuracy'])\n",
    "\n",
    "history = model2.fit(X_train, y_train, epochs=5,validation_data=(X_test, y_test))"
   ]
  },
  {
   "cell_type": "code",
   "execution_count": 36,
   "metadata": {
    "execution": {
     "iopub.execute_input": "2020-09-16T21:31:03.821261Z",
     "iopub.status.busy": "2020-09-16T21:31:03.820272Z",
     "iopub.status.idle": "2020-09-16T21:31:04.491951Z",
     "shell.execute_reply": "2020-09-16T21:31:04.492871Z"
    },
    "papermill": {
     "duration": 1.017615,
     "end_time": "2020-09-16T21:31:04.493043",
     "exception": false,
     "start_time": "2020-09-16T21:31:03.475428",
     "status": "completed"
    },
    "tags": []
   },
   "outputs": [
    {
     "name": "stdout",
     "output_type": "stream",
     "text": [
      "56/56 - 1s - loss: 0.2497 - accuracy: 0.9004\n",
      "Model accuracy:  0.900391697883606\n"
     ]
    }
   ],
   "source": [
    "test_loss, test_acc = model2.evaluate(X_test,  y_test, verbose=2)\n",
    "print('Model accuracy: ',test_acc)"
   ]
  },
  {
   "cell_type": "code",
   "execution_count": 37,
   "metadata": {
    "execution": {
     "iopub.execute_input": "2020-09-16T21:31:05.185049Z",
     "iopub.status.busy": "2020-09-16T21:31:05.183987Z",
     "iopub.status.idle": "2020-09-16T21:31:06.593431Z",
     "shell.execute_reply": "2020-09-16T21:31:06.592884Z"
    },
    "papermill": {
     "duration": 1.756562,
     "end_time": "2020-09-16T21:31:06.593549",
     "exception": false,
     "start_time": "2020-09-16T21:31:04.836987",
     "status": "completed"
    },
    "tags": []
   },
   "outputs": [],
   "source": [
    "y_pred = model2.predict(X_test)"
   ]
  },
  {
   "cell_type": "code",
   "execution_count": 38,
   "metadata": {
    "execution": {
     "iopub.execute_input": "2020-09-16T21:31:07.294756Z",
     "iopub.status.busy": "2020-09-16T21:31:07.293910Z",
     "iopub.status.idle": "2020-09-16T21:31:07.511543Z",
     "shell.execute_reply": "2020-09-16T21:31:07.512041Z"
    },
    "papermill": {
     "duration": 0.572383,
     "end_time": "2020-09-16T21:31:07.512175",
     "exception": false,
     "start_time": "2020-09-16T21:31:06.939792",
     "status": "completed"
    },
    "tags": []
   },
   "outputs": [
    {
     "data": {
      "text/plain": [
       "<matplotlib.axes._subplots.AxesSubplot at 0x7f6c720fd310>"
      ]
     },
     "execution_count": 38,
     "metadata": {},
     "output_type": "execute_result"
    },
    {
     "data": {
      "image/png": "[encoded data removed]",
      "text/plain": [
       "<Figure size 1080x1080 with 2 Axes>"
      ]
     },
     "metadata": {
      "needs_background": "light"
     },
     "output_type": "display_data"
    }
   ],
   "source": [
    "matrix = confusion_matrix(y_test, np.around(y_pred, decimals=0))\n",
    "conf_matrix = pd.DataFrame(matrix, index = ['Not Depression/Anxiety','Anxiety/Depression'],columns = ['Not Depression/Anxiety','Anxiety/Depression'])\n",
    "#Normalizing\n",
    "conf_matrix = conf_matrix.astype('float') / conf_matrix.sum(axis=1)[:, np.newaxis]\n",
    "plt.figure(figsize = (15,15))\n",
    "sns.heatmap(conf_matrix, annot=True, annot_kws={\"size\": 15})"
   ]
  },
  {
   "cell_type": "markdown",
   "metadata": {
    "papermill": {
     "duration": 0.345532,
     "end_time": "2020-09-16T21:31:08.203128",
     "exception": false,
     "start_time": "2020-09-16T21:31:07.857596",
     "status": "completed"
    },
    "tags": []
   },
   "source": [
    "It decreased a little bit the TPs. For this task this wouldn't work for us. Let's try with a very powerful model, usually used for NLP tasks.\n",
    "\n",
    "# Model 3\n",
    "We'll implement a Bidirectional LSTM layer. Let's see how it performs."
   ]
  },
  {
   "cell_type": "code",
   "execution_count": 39,
   "metadata": {
    "execution": {
     "iopub.execute_input": "2020-09-16T21:31:08.897740Z",
     "iopub.status.busy": "2020-09-16T21:31:08.896721Z",
     "iopub.status.idle": "2020-09-16T21:32:02.250384Z",
     "shell.execute_reply": "2020-09-16T21:32:02.249543Z"
    },
    "papermill": {
     "duration": 53.703874,
     "end_time": "2020-09-16T21:32:02.250523",
     "exception": false,
     "start_time": "2020-09-16T21:31:08.546649",
     "status": "completed"
    },
    "tags": []
   },
   "outputs": [
    {
     "name": "stdout",
     "output_type": "stream",
     "text": [
      "Epoch 1/8\n",
      "168/168 [==============================] - 7s 40ms/step - loss: 0.5764 - accuracy: 0.7003 - val_loss: 0.3969 - val_accuracy: 0.8539\n",
      "Epoch 2/8\n",
      "168/168 [==============================] - 6s 36ms/step - loss: 0.3407 - accuracy: 0.8722 - val_loss: 0.2833 - val_accuracy: 0.8780\n",
      "Epoch 3/8\n",
      "168/168 [==============================] - 6s 35ms/step - loss: 0.2461 - accuracy: 0.9085 - val_loss: 0.3066 - val_accuracy: 0.8730\n",
      "Epoch 4/8\n",
      "168/168 [==============================] - 6s 35ms/step - loss: 0.2069 - accuracy: 0.9267 - val_loss: 0.2403 - val_accuracy: 0.9026\n",
      "Epoch 5/8\n",
      "168/168 [==============================] - 6s 38ms/step - loss: 0.1724 - accuracy: 0.9393 - val_loss: 0.2900 - val_accuracy: 0.8836\n",
      "Epoch 6/8\n",
      "168/168 [==============================] - 6s 36ms/step - loss: 0.1512 - accuracy: 0.9459 - val_loss: 0.2575 - val_accuracy: 0.8982\n",
      "Epoch 7/8\n",
      "168/168 [==============================] - 6s 38ms/step - loss: 0.1510 - accuracy: 0.9492 - val_loss: 0.2968 - val_accuracy: 0.8903\n",
      "Epoch 8/8\n",
      "168/168 [==============================] - 6s 36ms/step - loss: 0.1150 - accuracy: 0.9612 - val_loss: 0.2868 - val_accuracy: 0.8976\n"
     ]
    }
   ],
   "source": [
    "model3 = Sequential()\n",
    "model3.add(layers.Embedding(max_words, 40))\n",
    "model3.add(layers.Bidirectional(layers.LSTM(40,dropout=0.5)))\n",
    "model3.add(layers.Dense(1,activation='sigmoid'))\n",
    "\n",
    "model3.compile(optimizer='rmsprop',loss='binary_crossentropy', metrics=['accuracy'])\n",
    "\n",
    "history = model3.fit(X_train, y_train, epochs=8,validation_data=(X_test, y_test))"
   ]
  },
  {
   "cell_type": "code",
   "execution_count": 40,
   "metadata": {
    "execution": {
     "iopub.execute_input": "2020-09-16T21:32:03.414987Z",
     "iopub.status.busy": "2020-09-16T21:32:03.413958Z",
     "iopub.status.idle": "2020-09-16T21:32:04.622416Z",
     "shell.execute_reply": "2020-09-16T21:32:04.621354Z"
    },
    "papermill": {
     "duration": 1.794082,
     "end_time": "2020-09-16T21:32:04.622551",
     "exception": false,
     "start_time": "2020-09-16T21:32:02.828469",
     "status": "completed"
    },
    "tags": []
   },
   "outputs": [],
   "source": [
    "y_pred = model3.predict(X_test)"
   ]
  },
  {
   "cell_type": "code",
   "execution_count": 41,
   "metadata": {
    "execution": {
     "iopub.execute_input": "2020-09-16T21:32:05.794851Z",
     "iopub.status.busy": "2020-09-16T21:32:05.793997Z",
     "iopub.status.idle": "2020-09-16T21:32:06.004922Z",
     "shell.execute_reply": "2020-09-16T21:32:06.005401Z"
    },
    "papermill": {
     "duration": 0.802621,
     "end_time": "2020-09-16T21:32:06.005529",
     "exception": false,
     "start_time": "2020-09-16T21:32:05.202908",
     "status": "completed"
    },
    "tags": []
   },
   "outputs": [
    {
     "data": {
      "text/plain": [
       "<matplotlib.axes._subplots.AxesSubplot at 0x7f6850459290>"
      ]
     },
     "execution_count": 41,
     "metadata": {},
     "output_type": "execute_result"
    },
    {
     "data": {
      "image/png": "[encoded data removed]",
      "text/plain": [
       "<Figure size 1080x1080 with 2 Axes>"
      ]
     },
     "metadata": {
      "needs_background": "light"
     },
     "output_type": "display_data"
    }
   ],
   "source": [
    "matrix = confusion_matrix(y_test, np.around(y_pred, decimals=0))\n",
    "conf_matrix = pd.DataFrame(matrix, index = ['Not Depression/Anxiety','Anxiety/Depression'],columns = ['Not Depression/Anxiety','Anxiety/Depression'])\n",
    "#Normalizing\n",
    "conf_matrix = conf_matrix.astype('float') / conf_matrix.sum(axis=1)[:, np.newaxis]\n",
    "plt.figure(figsize = (15,15))\n",
    "sns.heatmap(conf_matrix, annot=True, annot_kws={\"size\": 15})"
   ]
  },
  {
   "cell_type": "markdown",
   "metadata": {
    "papermill": {
     "duration": 0.606278,
     "end_time": "2020-09-16T21:32:07.185884",
     "exception": false,
     "start_time": "2020-09-16T21:32:06.579606",
     "status": "completed"
    },
    "tags": []
   },
   "source": [
    "This model performed really well for the data available and delivered better results than the previous ones and its' abvious, this model trains on the data in chronologial and anti-chronological way, just to try to find out deeper patters. **For this oportunity we'll keep the 3rd model, which is the one that delivers better results.** (or at least before the final commit)  - Let's test the model with a sentence including depressive/anxious language."
   ]
  },
  {
   "cell_type": "markdown",
   "metadata": {
    "papermill": {
     "duration": 0.575939,
     "end_time": "2020-09-16T21:32:08.338051",
     "exception": false,
     "start_time": "2020-09-16T21:32:07.762112",
     "status": "completed"
    },
    "tags": []
   },
   "source": [
    "# Testing the model with depressive/anxious language"
   ]
  },
  {
   "cell_type": "code",
   "execution_count": 42,
   "metadata": {
    "execution": {
     "iopub.execute_input": "2020-09-16T21:32:09.505549Z",
     "iopub.status.busy": "2020-09-16T21:32:09.504667Z",
     "iopub.status.idle": "2020-09-16T21:32:09.554676Z",
     "shell.execute_reply": "2020-09-16T21:32:09.555348Z"
    },
    "papermill": {
     "duration": 0.643358,
     "end_time": "2020-09-16T21:32:09.555528",
     "exception": false,
     "start_time": "2020-09-16T21:32:08.912170",
     "status": "completed"
    },
    "tags": []
   },
   "outputs": [
    {
     "name": "stdout",
     "output_type": "stream",
     "text": [
      "The model predicted other type of language\n"
     ]
    }
   ],
   "source": [
    "test = np.array(['I feel stress, sadness and anxiety - just want to sleep until the lockdown ends'])\n",
    "test_sequence = tokenizer.texts_to_sequences(test)\n",
    "test_sequence = pad_sequences(test_sequence, maxlen=max_len)\n",
    "test_prediction = model3.predict(test_sequence)\n",
    "if np.around(test_prediction, decimals=0)[0][0] == 1.0:\n",
    "    print('The model predicted depressive/anxious language')\n",
    "else:\n",
    "    print(\"The model predicted other type of language\")"
   ]
  },
  {
   "cell_type": "markdown",
   "metadata": {
    "papermill": {
     "duration": 0.589075,
     "end_time": "2020-09-16T21:32:10.720387",
     "exception": false,
     "start_time": "2020-09-16T21:32:10.131312",
     "status": "completed"
    },
    "tags": []
   },
   "source": [
    "Fantastic! Let's move on a predict over a much bigger dataset."
   ]
  },
  {
   "cell_type": "markdown",
   "metadata": {
    "papermill": {
     "duration": 0.589287,
     "end_time": "2020-09-16T21:32:11.897120",
     "exception": false,
     "start_time": "2020-09-16T21:32:11.307833",
     "status": "completed"
    },
    "tags": []
   },
   "source": [
    "# Depressive/Anxious tweets import and exploration\n",
    "\n",
    "Alright, we're about to explore a dataset that I've acquired implementing OMGOT script - It's essentilly a Python code to get tweets without the need of using the Twitter API. Why did I do it this way? Because in order to use the Twitter API you need a developer account and you all know how complex is to get it approved. In addition, the Twitter API only allows you to retrieve a small quantity of tweets. In the other hand, the mentioned script allows you to get whatever the tweets you want, in the location you want and with the keywords that you want. \n",
    "\n",
    "The dataset is made up of several CSV files, each one containing all available tweets related to depression and anxiety topics. We've limited them because would get complex to measure our model in a dataset that contains spread content. Also, the dataset contains tweets from 03/14 to 03/27 - one week before and after the lockdown started along US. Let's see what patterns we can find."
   ]
  },
  {
   "cell_type": "code",
   "execution_count": 43,
   "metadata": {
    "execution": {
     "iopub.execute_input": "2020-09-16T21:32:13.285255Z",
     "iopub.status.busy": "2020-09-16T21:32:13.284474Z",
     "iopub.status.idle": "2020-09-16T21:32:13.295984Z",
     "shell.execute_reply": "2020-09-16T21:32:13.295434Z"
    },
    "papermill": {
     "duration": 0.602709,
     "end_time": "2020-09-16T21:32:13.296091",
     "exception": false,
     "start_time": "2020-09-16T21:32:12.693382",
     "status": "completed"
    },
    "tags": []
   },
   "outputs": [
    {
     "data": {
      "text/plain": [
       "['0319_2.csv', '0315_1.csv', '0320_4.csv', '0325_2.csv', '0319_4.csv']"
      ]
     },
     "execution_count": 43,
     "metadata": {},
     "output_type": "execute_result"
    }
   ],
   "source": [
    "os.listdir('/kaggle/input/depression-anxiety-tweets/Tweets data')[:5]"
   ]
  },
  {
   "cell_type": "code",
   "execution_count": 44,
   "metadata": {
    "execution": {
     "iopub.execute_input": "2020-09-16T21:32:14.471299Z",
     "iopub.status.busy": "2020-09-16T21:32:14.470354Z",
     "iopub.status.idle": "2020-09-16T21:32:14.493473Z",
     "shell.execute_reply": "2020-09-16T21:32:14.492968Z"
    },
    "papermill": {
     "duration": 0.617348,
     "end_time": "2020-09-16T21:32:14.493580",
     "exception": false,
     "start_time": "2020-09-16T21:32:13.876232",
     "status": "completed"
    },
    "tags": []
   },
   "outputs": [
    {
     "data": {
      "text/html": [
       "<div>\n",
       "<style scoped>\n",
       "    .dataframe tbody tr th:only-of-type {\n",
       "        vertical-align: middle;\n",
       "    }\n",
       "\n",
       "    .dataframe tbody tr th {\n",
       "        vertical-align: top;\n",
       "    }\n",
       "\n",
       "    .dataframe thead th {\n",
       "        text-align: right;\n",
       "    }\n",
       "</style>\n",
       "<table border=\"1\" class=\"dataframe\">\n",
       "  <thead>\n",
       "    <tr style=\"text-align: right;\">\n",
       "      <th></th>\n",
       "      <th>date</th>\n",
       "      <th>username</th>\n",
       "      <th>to</th>\n",
       "      <th>replies</th>\n",
       "      <th>retweets</th>\n",
       "      <th>favorites</th>\n",
       "      <th>text</th>\n",
       "      <th>geo</th>\n",
       "      <th>mentions</th>\n",
       "      <th>hashtags</th>\n",
       "      <th>id</th>\n",
       "      <th>permalink</th>\n",
       "    </tr>\n",
       "  </thead>\n",
       "  <tbody>\n",
       "    <tr>\n",
       "      <th>0</th>\n",
       "      <td>2020-03-14 23:55:21</td>\n",
       "      <td>AlbertoxVazquez</td>\n",
       "      <td>NaN</td>\n",
       "      <td>0</td>\n",
       "      <td>1</td>\n",
       "      <td>5</td>\n",
       "      <td>Bout to depression buy these OnlyFans while I’...</td>\n",
       "      <td>NaN</td>\n",
       "      <td>NaN</td>\n",
       "      <td>NaN</td>\n",
       "      <td>1238977045230739460</td>\n",
       "      <td>https://twitter.com/AlbertoxVazquez/status/123...</td>\n",
       "    </tr>\n",
       "    <tr>\n",
       "      <th>1</th>\n",
       "      <td>2020-03-14 23:54:45</td>\n",
       "      <td>TheOGKennedy</td>\n",
       "      <td>NaN</td>\n",
       "      <td>6</td>\n",
       "      <td>2</td>\n",
       "      <td>63</td>\n",
       "      <td>Pretty lucky for me how we ended up in the onl...</td>\n",
       "      <td>NaN</td>\n",
       "      <td>NaN</td>\n",
       "      <td>NaN</td>\n",
       "      <td>1238976896160772096</td>\n",
       "      <td>https://twitter.com/TheOGKennedy/status/123897...</td>\n",
       "    </tr>\n",
       "    <tr>\n",
       "      <th>2</th>\n",
       "      <td>2020-03-14 23:45:58</td>\n",
       "      <td>megmarie5</td>\n",
       "      <td>NaN</td>\n",
       "      <td>0</td>\n",
       "      <td>0</td>\n",
       "      <td>0</td>\n",
       "      <td>@ariana2525 I myself suffered &amp; still suffer. ...</td>\n",
       "      <td>NaN</td>\n",
       "      <td>@ariana2525</td>\n",
       "      <td>NaN</td>\n",
       "      <td>1238974685015990273</td>\n",
       "      <td>https://twitter.com/megmarie5/status/123897468...</td>\n",
       "    </tr>\n",
       "    <tr>\n",
       "      <th>3</th>\n",
       "      <td>2020-03-14 23:43:10</td>\n",
       "      <td>BoozyBillsBabe</td>\n",
       "      <td>NaN</td>\n",
       "      <td>13</td>\n",
       "      <td>0</td>\n",
       "      <td>39</td>\n",
       "      <td>Second full day of self-quarantine and I am ju...</td>\n",
       "      <td>NaN</td>\n",
       "      <td>NaN</td>\n",
       "      <td>NaN</td>\n",
       "      <td>1238973978963836928</td>\n",
       "      <td>https://twitter.com/BoozyBillsBabe/status/1238...</td>\n",
       "    </tr>\n",
       "    <tr>\n",
       "      <th>4</th>\n",
       "      <td>2020-03-14 23:42:39</td>\n",
       "      <td>megmarie5</td>\n",
       "      <td>NaN</td>\n",
       "      <td>0</td>\n",
       "      <td>0</td>\n",
       "      <td>1</td>\n",
       "      <td>I’m behind on @VanderpumpRules and binge watch...</td>\n",
       "      <td>NaN</td>\n",
       "      <td>@VanderpumpRules @ariana2525</td>\n",
       "      <td>NaN</td>\n",
       "      <td>1238973850227884032</td>\n",
       "      <td>https://twitter.com/megmarie5/status/123897385...</td>\n",
       "    </tr>\n",
       "  </tbody>\n",
       "</table>\n",
       "</div>"
      ],
      "text/plain": [
       "                  date         username   to  replies  retweets  favorites  \\\n",
       "0  2020-03-14 23:55:21  AlbertoxVazquez  NaN        0         1          5   \n",
       "1  2020-03-14 23:54:45     TheOGKennedy  NaN        6         2         63   \n",
       "2  2020-03-14 23:45:58        megmarie5  NaN        0         0          0   \n",
       "3  2020-03-14 23:43:10   BoozyBillsBabe  NaN       13         0         39   \n",
       "4  2020-03-14 23:42:39        megmarie5  NaN        0         0          1   \n",
       "\n",
       "                                                text  geo  \\\n",
       "0  Bout to depression buy these OnlyFans while I’...  NaN   \n",
       "1  Pretty lucky for me how we ended up in the onl...  NaN   \n",
       "2  @ariana2525 I myself suffered & still suffer. ...  NaN   \n",
       "3  Second full day of self-quarantine and I am ju...  NaN   \n",
       "4  I’m behind on @VanderpumpRules and binge watch...  NaN   \n",
       "\n",
       "                       mentions hashtags                   id  \\\n",
       "0                           NaN      NaN  1238977045230739460   \n",
       "1                           NaN      NaN  1238976896160772096   \n",
       "2                   @ariana2525      NaN  1238974685015990273   \n",
       "3                           NaN      NaN  1238973978963836928   \n",
       "4  @VanderpumpRules @ariana2525      NaN  1238973850227884032   \n",
       "\n",
       "                                           permalink  \n",
       "0  https://twitter.com/AlbertoxVazquez/status/123...  \n",
       "1  https://twitter.com/TheOGKennedy/status/123897...  \n",
       "2  https://twitter.com/megmarie5/status/123897468...  \n",
       "3  https://twitter.com/BoozyBillsBabe/status/1238...  \n",
       "4  https://twitter.com/megmarie5/status/123897385...  "
      ]
     },
     "execution_count": 44,
     "metadata": {},
     "output_type": "execute_result"
    }
   ],
   "source": [
    "tweets = pd.read_csv('/kaggle/input/depression-anxiety-tweets/Tweets data/0314_1.csv')\n",
    "tweets.head()"
   ]
  },
  {
   "cell_type": "markdown",
   "metadata": {
    "papermill": {
     "duration": 0.588189,
     "end_time": "2020-09-16T21:32:15.674193",
     "exception": false,
     "start_time": "2020-09-16T21:32:15.086004",
     "status": "completed"
    },
    "tags": []
   },
   "source": [
    "It's time to explain how the dataset is composed. I queried several tweets from the beginning of the lockdown at US. I focused on downloading tweets that contain the keywords 'Anxiety', 'Depression', 'Anxious' and 'Depressive' in order to limit the topics, otherwise these would be very general. Let's put them all on a same dataframe to start the exploration."
   ]
  },
  {
   "cell_type": "code",
   "execution_count": 45,
   "metadata": {
    "execution": {
     "iopub.execute_input": "2020-09-16T21:32:16.853096Z",
     "iopub.status.busy": "2020-09-16T21:32:16.852319Z",
     "iopub.status.idle": "2020-09-16T21:32:17.847012Z",
     "shell.execute_reply": "2020-09-16T21:32:17.846473Z"
    },
    "papermill": {
     "duration": 1.585712,
     "end_time": "2020-09-16T21:32:17.847130",
     "exception": false,
     "start_time": "2020-09-16T21:32:16.261418",
     "status": "completed"
    },
    "tags": []
   },
   "outputs": [],
   "source": [
    "for dirname, _, filenames in os.walk('/kaggle/input/depression-anxiety-tweets/Tweets data'):\n",
    "    for filename in filenames:\n",
    "        if filename!='0314_1.csv':\n",
    "            temp = pd.read_csv(os.path.join(dirname, filename))\n",
    "            tweets = pd.concat([tweets, temp], ignore_index=True)"
   ]
  },
  {
   "cell_type": "code",
   "execution_count": 46,
   "metadata": {
    "execution": {
     "iopub.execute_input": "2020-09-16T21:32:19.021967Z",
     "iopub.status.busy": "2020-09-16T21:32:19.020527Z",
     "iopub.status.idle": "2020-09-16T21:32:19.024719Z",
     "shell.execute_reply": "2020-09-16T21:32:19.025245Z"
    },
    "papermill": {
     "duration": 0.591977,
     "end_time": "2020-09-16T21:32:19.025383",
     "exception": false,
     "start_time": "2020-09-16T21:32:18.433406",
     "status": "completed"
    },
    "tags": []
   },
   "outputs": [
    {
     "data": {
      "text/plain": [
       "(25425, 12)"
      ]
     },
     "execution_count": 46,
     "metadata": {},
     "output_type": "execute_result"
    }
   ],
   "source": [
    "tweets.shape"
   ]
  },
  {
   "cell_type": "code",
   "execution_count": 47,
   "metadata": {
    "execution": {
     "iopub.execute_input": "2020-09-16T21:32:20.227439Z",
     "iopub.status.busy": "2020-09-16T21:32:20.226525Z",
     "iopub.status.idle": "2020-09-16T21:32:20.276229Z",
     "shell.execute_reply": "2020-09-16T21:32:20.275654Z"
    },
    "papermill": {
     "duration": 0.64319,
     "end_time": "2020-09-16T21:32:20.276332",
     "exception": false,
     "start_time": "2020-09-16T21:32:19.633142",
     "status": "completed"
    },
    "tags": []
   },
   "outputs": [],
   "source": [
    "tweets.sort_values(by=['date'],inplace=True)\n",
    "tweets.reset_index(drop=True,inplace=True)\n",
    "tweets = tweets[['date','text']]"
   ]
  },
  {
   "cell_type": "code",
   "execution_count": 48,
   "metadata": {
    "execution": {
     "iopub.execute_input": "2020-09-16T21:32:21.513828Z",
     "iopub.status.busy": "2020-09-16T21:32:21.506501Z",
     "iopub.status.idle": "2020-09-16T21:32:21.517514Z",
     "shell.execute_reply": "2020-09-16T21:32:21.517049Z"
    },
    "papermill": {
     "duration": 0.637356,
     "end_time": "2020-09-16T21:32:21.517615",
     "exception": false,
     "start_time": "2020-09-16T21:32:20.880259",
     "status": "completed"
    },
    "tags": []
   },
   "outputs": [
    {
     "data": {
      "text/html": [
       "<div>\n",
       "<style scoped>\n",
       "    .dataframe tbody tr th:only-of-type {\n",
       "        vertical-align: middle;\n",
       "    }\n",
       "\n",
       "    .dataframe tbody tr th {\n",
       "        vertical-align: top;\n",
       "    }\n",
       "\n",
       "    .dataframe thead th {\n",
       "        text-align: right;\n",
       "    }\n",
       "</style>\n",
       "<table border=\"1\" class=\"dataframe\">\n",
       "  <thead>\n",
       "    <tr style=\"text-align: right;\">\n",
       "      <th></th>\n",
       "      <th>date</th>\n",
       "      <th>text</th>\n",
       "    </tr>\n",
       "  </thead>\n",
       "  <tbody>\n",
       "    <tr>\n",
       "      <th>0</th>\n",
       "      <td>2020-03-14 00:04:13</td>\n",
       "      <td>Damn just remembered this front bottoms show i...</td>\n",
       "    </tr>\n",
       "    <tr>\n",
       "      <th>1</th>\n",
       "      <td>2020-03-14 00:07:19</td>\n",
       "      <td>hapless Dementia joe will lose to Trump, even ...</td>\n",
       "    </tr>\n",
       "    <tr>\n",
       "      <th>2</th>\n",
       "      <td>2020-03-14 00:07:52</td>\n",
       "      <td>it's making me anxious lol</td>\n",
       "    </tr>\n",
       "    <tr>\n",
       "      <th>3</th>\n",
       "      <td>2020-03-14 00:08:46</td>\n",
       "      <td>I’m so glad my depression kicked in I’m going ...</td>\n",
       "    </tr>\n",
       "    <tr>\n",
       "      <th>4</th>\n",
       "      <td>2020-03-14 00:11:16</td>\n",
       "      <td>Have some wine . You’ll feel less anxious.</td>\n",
       "    </tr>\n",
       "  </tbody>\n",
       "</table>\n",
       "</div>"
      ],
      "text/plain": [
       "                  date                                               text\n",
       "0  2020-03-14 00:04:13  Damn just remembered this front bottoms show i...\n",
       "1  2020-03-14 00:07:19  hapless Dementia joe will lose to Trump, even ...\n",
       "2  2020-03-14 00:07:52                         it's making me anxious lol\n",
       "3  2020-03-14 00:08:46  I’m so glad my depression kicked in I’m going ...\n",
       "4  2020-03-14 00:11:16         Have some wine . You’ll feel less anxious."
      ]
     },
     "execution_count": 48,
     "metadata": {},
     "output_type": "execute_result"
    }
   ],
   "source": [
    "tweets_dataset = tweets.copy()\n",
    "tweets.head()"
   ]
  },
  {
   "cell_type": "code",
   "execution_count": 49,
   "metadata": {
    "execution": {
     "iopub.execute_input": "2020-09-16T21:32:22.740784Z",
     "iopub.status.busy": "2020-09-16T21:32:22.730491Z",
     "iopub.status.idle": "2020-09-16T21:32:29.535144Z",
     "shell.execute_reply": "2020-09-16T21:32:29.534601Z"
    },
    "papermill": {
     "duration": 7.432719,
     "end_time": "2020-09-16T21:32:29.535268",
     "exception": false,
     "start_time": "2020-09-16T21:32:22.102549",
     "status": "completed"
    },
    "tags": []
   },
   "outputs": [],
   "source": [
    "#Removing non-ascii characters (for example, arabian chars)\n",
    "tweets.text.replace({r'[^\\x00-\\x7F]+':''}, regex=True, inplace=True)\n",
    "#Making all fields string type\n",
    "for i in range(len(tweets)):\n",
    "  tweets.at[i,'text'] = str(tweets.iloc[i]['text'])\n",
    "#Removing URLs\n",
    "for i in range(len(tweets)):\n",
    "  tweets.at[i,'text'] = remove_urls(tweets.iloc[i]['text'])\n",
    "# Convert to list\n",
    "data = tweets.text.values.tolist()\n",
    "# Remove Emails\n",
    "data = [re.sub('\\S*@\\S*\\s?', '', sent) for sent in data]\n",
    "# Remove new line characters\n",
    "data = [re.sub('\\s+', ' ', sent) for sent in data]\n",
    "# Remove distracting single quotes\n",
    "data = [re.sub(\"\\'\", \"\", sent) for sent in data]"
   ]
  },
  {
   "cell_type": "code",
   "execution_count": 50,
   "metadata": {
    "execution": {
     "iopub.execute_input": "2020-09-16T21:32:30.735580Z",
     "iopub.status.busy": "2020-09-16T21:32:30.734740Z",
     "iopub.status.idle": "2020-09-16T21:32:30.738747Z",
     "shell.execute_reply": "2020-09-16T21:32:30.739233Z"
    },
    "papermill": {
     "duration": 0.628137,
     "end_time": "2020-09-16T21:32:30.739365",
     "exception": false,
     "start_time": "2020-09-16T21:32:30.111228",
     "status": "completed"
    },
    "tags": []
   },
   "outputs": [
    {
     "data": {
      "text/plain": [
       "array(['Damn just remembered this front bottoms show is about to cure my depression',\n",
       "       'hapless Dementia joe will lose to Trump, even if the economy craters into a full on depression & covid19 kills millions of people. Second you cannot expect to conduct an unfair, corrupt & illegitimate primary & expect people to fall in line. I voted for Hillary last time no mas.',\n",
       "       'its making me anxious lol',\n",
       "       'Im so glad my depression kicked in Im going to BED',\n",
       "       'Have some wine . Youll feel less anxious.',\n",
       "       'Everyone be patient. Messages blowing up. I know yall are anxious to bet something. I am doing mini write ups on each of the 6 games, because I want to be clear Im not just picking games for fucks sake. Theres a method to my madness. Once you pay, hang tight! Thank you!',\n",
       "       'Cant wait to tell my kids about the toilet paper depression of 2020',\n",
       "       'I think in order to keep sick hourly workers home, and to support people who cant work from home but have kids home from school, we need a much fatter bailout. 1/2 trillion or more. We risk an economic depression. This is serious.',\n",
       "       '< anxious bunny ',\n",
       "       'Right on, dedication is proven to our city. \"We have sustained this Market through the Depression, world wars and other society seismic shifts.\" Free delivery and two-hour parking is now free for market shoppers at 11th & Arch. (Safe streets advocates we can make exceptions) '],\n",
       "      dtype='<U352')"
      ]
     },
     "execution_count": 50,
     "metadata": {},
     "output_type": "execute_result"
    }
   ],
   "source": [
    "data = np.array(data)\n",
    "data[:10]"
   ]
  },
  {
   "cell_type": "code",
   "execution_count": 51,
   "metadata": {
    "execution": {
     "iopub.execute_input": "2020-09-16T21:32:31.941364Z",
     "iopub.status.busy": "2020-09-16T21:32:31.926089Z",
     "iopub.status.idle": "2020-09-16T21:32:32.900028Z",
     "shell.execute_reply": "2020-09-16T21:32:32.900792Z"
    },
    "papermill": {
     "duration": 1.581783,
     "end_time": "2020-09-16T21:32:32.900987",
     "exception": false,
     "start_time": "2020-09-16T21:32:31.319204",
     "status": "completed"
    },
    "tags": []
   },
   "outputs": [
    {
     "name": "stdout",
     "output_type": "stream",
     "text": [
      "[[    0     0     0 ...  1058     8    50]\n",
      " [    0     0     0 ...   234    65    64]\n",
      " [    0     0     0 ...    15   395   594]\n",
      " ...\n",
      " [    0     0     0 ...  6489  2324  6489]\n",
      " [    0     0     0 ... 10138  6728  7872]\n",
      " [    0     0     0 ... 10138  6728  7872]]\n"
     ]
    }
   ],
   "source": [
    "sequences = tokenizer.texts_to_sequences(data)\n",
    "tweets = pad_sequences(sequences, maxlen=max_len)\n",
    "print(tweets)"
   ]
  },
  {
   "cell_type": "markdown",
   "metadata": {
    "papermill": {
     "duration": 0.699312,
     "end_time": "2020-09-16T21:32:34.181209",
     "exception": false,
     "start_time": "2020-09-16T21:32:33.481897",
     "status": "completed"
    },
    "tags": []
   },
   "source": [
    "Let's look for depressive/anxious tweets"
   ]
  },
  {
   "cell_type": "code",
   "execution_count": 52,
   "metadata": {
    "execution": {
     "iopub.execute_input": "2020-09-16T21:32:35.455266Z",
     "iopub.status.busy": "2020-09-16T21:32:35.453476Z",
     "iopub.status.idle": "2020-09-16T21:32:43.887953Z",
     "shell.execute_reply": "2020-09-16T21:32:43.886451Z"
    },
    "papermill": {
     "duration": 9.039329,
     "end_time": "2020-09-16T21:32:43.888071",
     "exception": false,
     "start_time": "2020-09-16T21:32:34.848742",
     "status": "completed"
    },
    "tags": []
   },
   "outputs": [],
   "source": [
    "predictions = model3.predict(tweets)"
   ]
  },
  {
   "cell_type": "code",
   "execution_count": 53,
   "metadata": {
    "execution": {
     "iopub.execute_input": "2020-09-16T21:32:45.183308Z",
     "iopub.status.busy": "2020-09-16T21:32:45.182116Z",
     "iopub.status.idle": "2020-09-16T21:32:45.189201Z",
     "shell.execute_reply": "2020-09-16T21:32:45.190622Z"
    },
    "papermill": {
     "duration": 0.722461,
     "end_time": "2020-09-16T21:32:45.190848",
     "exception": false,
     "start_time": "2020-09-16T21:32:44.468387",
     "status": "completed"
    },
    "tags": []
   },
   "outputs": [
    {
     "data": {
      "text/plain": [
       "array([[1.],\n",
       "       [1.],\n",
       "       [0.],\n",
       "       ...,\n",
       "       [0.],\n",
       "       [0.],\n",
       "       [0.]], dtype=float32)"
      ]
     },
     "execution_count": 53,
     "metadata": {},
     "output_type": "execute_result"
    }
   ],
   "source": [
    "np.around(predictions, decimals=0)"
   ]
  },
  {
   "cell_type": "code",
   "execution_count": 54,
   "metadata": {
    "execution": {
     "iopub.execute_input": "2020-09-16T21:32:46.463835Z",
     "iopub.status.busy": "2020-09-16T21:32:46.461903Z",
     "iopub.status.idle": "2020-09-16T21:32:46.464631Z",
     "shell.execute_reply": "2020-09-16T21:32:46.465131Z"
    },
    "papermill": {
     "duration": 0.593212,
     "end_time": "2020-09-16T21:32:46.465265",
     "exception": false,
     "start_time": "2020-09-16T21:32:45.872053",
     "status": "completed"
    },
    "tags": []
   },
   "outputs": [],
   "source": [
    "tweets_dataset['label'] = np.around(predictions, decimals=0)"
   ]
  },
  {
   "cell_type": "code",
   "execution_count": 55,
   "metadata": {
    "execution": {
     "iopub.execute_input": "2020-09-16T21:32:47.646244Z",
     "iopub.status.busy": "2020-09-16T21:32:47.645334Z",
     "iopub.status.idle": "2020-09-16T21:32:47.658024Z",
     "shell.execute_reply": "2020-09-16T21:32:47.658676Z"
    },
    "papermill": {
     "duration": 0.602156,
     "end_time": "2020-09-16T21:32:47.658836",
     "exception": false,
     "start_time": "2020-09-16T21:32:47.056680",
     "status": "completed"
    },
    "tags": []
   },
   "outputs": [
    {
     "data": {
      "text/html": [
       "<div>\n",
       "<style scoped>\n",
       "    .dataframe tbody tr th:only-of-type {\n",
       "        vertical-align: middle;\n",
       "    }\n",
       "\n",
       "    .dataframe tbody tr th {\n",
       "        vertical-align: top;\n",
       "    }\n",
       "\n",
       "    .dataframe thead th {\n",
       "        text-align: right;\n",
       "    }\n",
       "</style>\n",
       "<table border=\"1\" class=\"dataframe\">\n",
       "  <thead>\n",
       "    <tr style=\"text-align: right;\">\n",
       "      <th></th>\n",
       "      <th>date</th>\n",
       "      <th>text</th>\n",
       "      <th>label</th>\n",
       "    </tr>\n",
       "  </thead>\n",
       "  <tbody>\n",
       "    <tr>\n",
       "      <th>0</th>\n",
       "      <td>2020-03-14 00:04:13</td>\n",
       "      <td>Damn just remembered this front bottoms show i...</td>\n",
       "      <td>1.0</td>\n",
       "    </tr>\n",
       "    <tr>\n",
       "      <th>1</th>\n",
       "      <td>2020-03-14 00:07:19</td>\n",
       "      <td>hapless Dementia joe will lose to Trump, even ...</td>\n",
       "      <td>1.0</td>\n",
       "    </tr>\n",
       "    <tr>\n",
       "      <th>6</th>\n",
       "      <td>2020-03-14 00:14:19</td>\n",
       "      <td>Can’t wait to tell my kids about the toilet pa...</td>\n",
       "      <td>1.0</td>\n",
       "    </tr>\n",
       "    <tr>\n",
       "      <th>9</th>\n",
       "      <td>2020-03-14 00:15:00</td>\n",
       "      <td>Right on, dedication is proven to our city. \"W...</td>\n",
       "      <td>1.0</td>\n",
       "    </tr>\n",
       "    <tr>\n",
       "      <th>10</th>\n",
       "      <td>2020-03-14 00:20:51</td>\n",
       "      <td>And here we are the Great Depression of toilet...</td>\n",
       "      <td>1.0</td>\n",
       "    </tr>\n",
       "    <tr>\n",
       "      <th>11</th>\n",
       "      <td>2020-03-14 00:22:45</td>\n",
       "      <td>Self quarantining and social distancing AKA de...</td>\n",
       "      <td>1.0</td>\n",
       "    </tr>\n",
       "    <tr>\n",
       "      <th>12</th>\n",
       "      <td>2020-03-14 00:23:31</td>\n",
       "      <td>Depression is knocking at the door #Tougaloo_R...</td>\n",
       "      <td>1.0</td>\n",
       "    </tr>\n",
       "    <tr>\n",
       "      <th>17</th>\n",
       "      <td>2020-03-14 00:28:04</td>\n",
       "      <td>The Great Depression Mode #BandsFromHistory</td>\n",
       "      <td>1.0</td>\n",
       "    </tr>\n",
       "    <tr>\n",
       "      <th>18</th>\n",
       "      <td>2020-03-14 00:28:31</td>\n",
       "      <td>Seasonal depression is a fucking bitch, depres...</td>\n",
       "      <td>1.0</td>\n",
       "    </tr>\n",
       "    <tr>\n",
       "      <th>23</th>\n",
       "      <td>2020-03-14 00:35:19</td>\n",
       "      <td>We bouta have the Great Depression all over again</td>\n",
       "      <td>1.0</td>\n",
       "    </tr>\n",
       "  </tbody>\n",
       "</table>\n",
       "</div>"
      ],
      "text/plain": [
       "                   date                                               text  \\\n",
       "0   2020-03-14 00:04:13  Damn just remembered this front bottoms show i...   \n",
       "1   2020-03-14 00:07:19  hapless Dementia joe will lose to Trump, even ...   \n",
       "6   2020-03-14 00:14:19  Can’t wait to tell my kids about the toilet pa...   \n",
       "9   2020-03-14 00:15:00  Right on, dedication is proven to our city. \"W...   \n",
       "10  2020-03-14 00:20:51  And here we are the Great Depression of toilet...   \n",
       "11  2020-03-14 00:22:45  Self quarantining and social distancing AKA de...   \n",
       "12  2020-03-14 00:23:31  Depression is knocking at the door #Tougaloo_R...   \n",
       "17  2020-03-14 00:28:04        The Great Depression Mode #BandsFromHistory   \n",
       "18  2020-03-14 00:28:31  Seasonal depression is a fucking bitch, depres...   \n",
       "23  2020-03-14 00:35:19  We bouta have the Great Depression all over again   \n",
       "\n",
       "    label  \n",
       "0     1.0  \n",
       "1     1.0  \n",
       "6     1.0  \n",
       "9     1.0  \n",
       "10    1.0  \n",
       "11    1.0  \n",
       "12    1.0  \n",
       "17    1.0  \n",
       "18    1.0  \n",
       "23    1.0  "
      ]
     },
     "execution_count": 55,
     "metadata": {},
     "output_type": "execute_result"
    }
   ],
   "source": [
    "tweets_dataset[tweets_dataset['label']==1.0].head(10)"
   ]
  },
  {
   "cell_type": "markdown",
   "metadata": {
    "papermill": {
     "duration": 0.90636,
     "end_time": "2020-09-16T21:32:49.151886",
     "exception": false,
     "start_time": "2020-09-16T21:32:48.245526",
     "status": "completed"
    },
    "tags": []
   },
   "source": [
    "Let's print some random depressive/anxious tweets to see how well the results are."
   ]
  },
  {
   "cell_type": "code",
   "execution_count": 56,
   "metadata": {
    "execution": {
     "iopub.execute_input": "2020-09-16T21:32:50.491831Z",
     "iopub.status.busy": "2020-09-16T21:32:50.490923Z",
     "iopub.status.idle": "2020-09-16T21:32:50.501972Z",
     "shell.execute_reply": "2020-09-16T21:32:50.503448Z"
    },
    "papermill": {
     "duration": 0.756868,
     "end_time": "2020-09-16T21:32:50.503623",
     "exception": false,
     "start_time": "2020-09-16T21:32:49.746755",
     "status": "completed"
    },
    "tags": []
   },
   "outputs": [
    {
     "name": "stdout",
     "output_type": "stream",
     "text": [
      "Damn just remembered this front bottoms show is about to cure my depression\n",
      "\n",
      "\n",
      "it's making me anxious lol\n",
      "\n",
      "\n",
      "Have some wine . You’ll feel less anxious.\n",
      "\n",
      "\n",
      "Can’t wait to tell my kids about the toilet paper depression of 2020\n",
      "\n",
      "\n",
      "<——— anxious bunny https://twitter.com/GlennonDoyle/status/1238449159168053250 …\n",
      "\n",
      "\n",
      "And here we are the Great Depression of toilet paper\n",
      "\n",
      "\n",
      "Depression is knocking at the door #Tougaloo_RYS20 #Jackson_RYS20https://twitter.com/UnderRatedTim/status/1238589018662715392 …\n",
      "\n",
      "\n",
      "Take me back! Kind of been in a slight depression since being home. With all this virus crap, it’s making it worse! Kind of hard to return to normal life when people think the world is ending @Atlantis Bahamas https://www.instagram.com/p/B9sZ6Q9HmL-/?igshid=kku0lw1dwunw …\n",
      "\n",
      "\n",
      "Take me back! Kind of been in a slight depression since being home. With all this virus crap, it’s making it worse! Kind of hard to return to normal life when people think the world is ending @Atlantis Bahamas https://www.instagram.com/p/B9saRbFnKRv/?igshid=ae0pbpjiqmxo …\n",
      "\n",
      "\n",
      "Seasonal depression is a fucking bitch, depression in general is a bitch\n",
      "\n",
      "\n"
     ]
    }
   ],
   "source": [
    "for i in range(10):\n",
    "    print(tweets_dataset.iloc[i*2]['text'])\n",
    "    print('\\n')"
   ]
  },
  {
   "cell_type": "markdown",
   "metadata": {
    "papermill": {
     "duration": 0.580249,
     "end_time": "2020-09-16T21:32:51.754405",
     "exception": false,
     "start_time": "2020-09-16T21:32:51.174156",
     "status": "completed"
    },
    "tags": []
   },
   "source": [
    "# Conclusions\n",
    "\n",
    "Alright, we've reached the end of this notebook. We went through several steps, including NLP for clustering and classification. What I would like to highlight at this point is that Deep Learning is an approach for when you have tons of data available, otherwise most of the times regular/classic ML models would perform better. As you could see, DL this time delivered an acceptable score, but for any other task such as in medical field, definitely you will need to get more data to increase the recall score. For now, I train the same model with the same data on SageMaker and should get similar results.\n",
    "\n",
    "Thanks for reading."
   ]
  }
 ],
 "metadata": {
  "kernelspec": {
   "display_name": "Python 3",
   "language": "python",
   "name": "python3"
  },
  "language_info": {
   "codemirror_mode": {
    "name": "ipython",
    "version": 3
   },
   "file_extension": ".py",
   "mimetype": "text/x-python",
   "name": "python",
   "nbconvert_exporter": "python",
   "pygments_lexer": "ipython3",
   "version": "3.7.6"
  },
  "papermill": {
   "duration": 271.233345,
   "end_time": "2020-09-16T21:32:53.491789",
   "environment_variables": {},
   "exception": null,
   "input_path": "__notebook__.ipynb",
   "output_path": "__notebook__.ipynb",
   "parameters": {},
   "start_time": "2020-09-16T21:28:22.258444",
   "version": "2.1.0"
  }
 },
 "nbformat": 4,
 "nbformat_minor": 4
}
